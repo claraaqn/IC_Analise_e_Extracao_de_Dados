version https://git-lfs.github.com/spec/v1
oid sha256:521e5ade962419f5b546cfc8d79dffd05b82076248db6d619e0380b3a9e59ce2
size 9735169
