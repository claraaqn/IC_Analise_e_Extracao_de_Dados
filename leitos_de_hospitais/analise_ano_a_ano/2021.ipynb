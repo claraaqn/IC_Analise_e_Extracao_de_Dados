version https://git-lfs.github.com/spec/v1
oid sha256:1ecde00c63d131f87f569184f9aeaa3fbf2f0f8c59d8ed772ad59ef25beeff9d
size 9804040
