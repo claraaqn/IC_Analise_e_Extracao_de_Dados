version https://git-lfs.github.com/spec/v1
oid sha256:3c3b171af79a9420e3b1eb9ad89472b35c663fc27699110d3b3e568791b1b667
size 8049911
