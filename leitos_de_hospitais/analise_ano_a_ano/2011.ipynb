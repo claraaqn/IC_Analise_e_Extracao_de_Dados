version https://git-lfs.github.com/spec/v1
oid sha256:bae5b661d57a5c55471fb9e3abc9f4e3589f6e7e2310bf4a0380461601e5c7f9
size 9565370
