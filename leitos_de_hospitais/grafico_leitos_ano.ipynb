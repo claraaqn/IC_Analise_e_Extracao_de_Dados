version https://git-lfs.github.com/spec/v1
oid sha256:c4abad44d41103b12d005ae6c96ae2fbfa7565dbaadcb60c2077a1e8b564730c
size 147181959
