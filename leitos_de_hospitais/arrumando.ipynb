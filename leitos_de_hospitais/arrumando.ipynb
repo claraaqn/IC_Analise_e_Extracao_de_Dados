{
 "cells": [
  {
   "cell_type": "code",
   "execution_count": 26,
   "metadata": {},
   "outputs": [],
   "source": [
    "import pandas as pd"
   ]
  },
  {
   "cell_type": "code",
   "execution_count": 27,
   "metadata": {},
   "outputs": [
    {
     "name": "stderr",
     "output_type": "stream",
     "text": [
      "C:\\Users\\Clara Aquino\\AppData\\Local\\Temp\\ipykernel_3280\\847035326.py:1: DtypeWarning: Columns (20,21) have mixed types. Specify dtype option on import or set low_memory=False.\n",
      "  df = pd.read_csv(\"leitos.csv\")\n"
     ]
    }
   ],
   "source": [
    "df = pd.read_csv(\"OLeitos_2018.csv\")"
   ]
  },
  {
   "cell_type": "code",
   "execution_count": 28,
   "metadata": {},
   "outputs": [
    {
     "data": {
      "text/html": [
       "<div>\n",
       "<style scoped>\n",
       "    .dataframe tbody tr th:only-of-type {\n",
       "        vertical-align: middle;\n",
       "    }\n",
       "\n",
       "    .dataframe tbody tr th {\n",
       "        vertical-align: top;\n",
       "    }\n",
       "\n",
       "    .dataframe thead th {\n",
       "        text-align: right;\n",
       "    }\n",
       "</style>\n",
       "<table border=\"1\" class=\"dataframe\">\n",
       "  <thead>\n",
       "    <tr style=\"text-align: right;\">\n",
       "      <th></th>\n",
       "      <th>V34</th>\n",
       "      <th>V35</th>\n",
       "      <th>V36</th>\n",
       "      <th>V37</th>\n",
       "      <th>V38</th>\n",
       "      <th>V39</th>\n",
       "      <th>V40</th>\n",
       "      <th>V41</th>\n",
       "      <th>V42</th>\n",
       "      <th>V43</th>\n",
       "      <th>...</th>\n",
       "      <th>V58</th>\n",
       "      <th>V59</th>\n",
       "      <th>V60</th>\n",
       "      <th>V61</th>\n",
       "      <th>V62</th>\n",
       "      <th>V63</th>\n",
       "      <th>V64</th>\n",
       "      <th>V65</th>\n",
       "      <th>V66</th>\n",
       "      <th>V67</th>\n",
       "    </tr>\n",
       "  </thead>\n",
       "  <tbody>\n",
       "    <tr>\n",
       "      <th>0</th>\n",
       "      <td>201801</td>\n",
       "      <td>'NORDESTE'</td>\n",
       "      <td>'PE'</td>\n",
       "      <td>'CABO DE SANTO AGOSTINHO'</td>\n",
       "      <td>NaN</td>\n",
       "      <td>'0000027'</td>\n",
       "      <td>'CASA DE SAUDE SANTA HELENA'</td>\n",
       "      <td>'CASA DE SAUDE E MATERNIDADE SANTA HELENA LTDA'</td>\n",
       "      <td>'M'</td>\n",
       "      <td>'05'</td>\n",
       "      <td>...</td>\n",
       "      <td>0.0</td>\n",
       "      <td>0.0</td>\n",
       "      <td>0.0</td>\n",
       "      <td>0.0</td>\n",
       "      <td>0.0</td>\n",
       "      <td>0.0</td>\n",
       "      <td>0.0</td>\n",
       "      <td>0.0</td>\n",
       "      <td>0.0</td>\n",
       "      <td>0);</td>\n",
       "    </tr>\n",
       "    <tr>\n",
       "      <th>1</th>\n",
       "      <td>201802</td>\n",
       "      <td>'NORDESTE'</td>\n",
       "      <td>'PE'</td>\n",
       "      <td>'CABO DE SANTO AGOSTINHO'</td>\n",
       "      <td>NaN</td>\n",
       "      <td>'0000027'</td>\n",
       "      <td>'CASA DE SAUDE SANTA HELENA'</td>\n",
       "      <td>'CASA DE SAUDE E MATERNIDADE SANTA HELENA LTDA'</td>\n",
       "      <td>'M'</td>\n",
       "      <td>'05'</td>\n",
       "      <td>...</td>\n",
       "      <td>0.0</td>\n",
       "      <td>0.0</td>\n",
       "      <td>0.0</td>\n",
       "      <td>0.0</td>\n",
       "      <td>0.0</td>\n",
       "      <td>0.0</td>\n",
       "      <td>0.0</td>\n",
       "      <td>0.0</td>\n",
       "      <td>0.0</td>\n",
       "      <td>0);</td>\n",
       "    </tr>\n",
       "    <tr>\n",
       "      <th>2</th>\n",
       "      <td>201803</td>\n",
       "      <td>'NORDESTE'</td>\n",
       "      <td>'PE'</td>\n",
       "      <td>'CABO DE SANTO AGOSTINHO'</td>\n",
       "      <td>NaN</td>\n",
       "      <td>'0000027'</td>\n",
       "      <td>'CASA DE SAUDE SANTA HELENA'</td>\n",
       "      <td>'CASA DE SAUDE E MATERNIDADE SANTA HELENA LTDA'</td>\n",
       "      <td>'M'</td>\n",
       "      <td>'05'</td>\n",
       "      <td>...</td>\n",
       "      <td>0.0</td>\n",
       "      <td>0.0</td>\n",
       "      <td>0.0</td>\n",
       "      <td>0.0</td>\n",
       "      <td>0.0</td>\n",
       "      <td>0.0</td>\n",
       "      <td>0.0</td>\n",
       "      <td>0.0</td>\n",
       "      <td>0.0</td>\n",
       "      <td>0);</td>\n",
       "    </tr>\n",
       "    <tr>\n",
       "      <th>3</th>\n",
       "      <td>201804</td>\n",
       "      <td>'NORDESTE'</td>\n",
       "      <td>'PE'</td>\n",
       "      <td>'CABO DE SANTO AGOSTINHO'</td>\n",
       "      <td>NaN</td>\n",
       "      <td>'0000027'</td>\n",
       "      <td>'CASA DE SAUDE SANTA HELENA'</td>\n",
       "      <td>'CASA DE SAUDE E MATERNIDADE SANTA HELENA LTDA'</td>\n",
       "      <td>'M'</td>\n",
       "      <td>'05'</td>\n",
       "      <td>...</td>\n",
       "      <td>0.0</td>\n",
       "      <td>0.0</td>\n",
       "      <td>0.0</td>\n",
       "      <td>0.0</td>\n",
       "      <td>0.0</td>\n",
       "      <td>0.0</td>\n",
       "      <td>0.0</td>\n",
       "      <td>0.0</td>\n",
       "      <td>0.0</td>\n",
       "      <td>0);</td>\n",
       "    </tr>\n",
       "    <tr>\n",
       "      <th>4</th>\n",
       "      <td>201805</td>\n",
       "      <td>'NORDESTE'</td>\n",
       "      <td>'PE'</td>\n",
       "      <td>'CABO DE SANTO AGOSTINHO'</td>\n",
       "      <td>NaN</td>\n",
       "      <td>'0000027'</td>\n",
       "      <td>'CASA DE SAUDE SANTA HELENA'</td>\n",
       "      <td>'CASA DE SAUDE E MATERNIDADE SANTA HELENA LTDA'</td>\n",
       "      <td>'M'</td>\n",
       "      <td>'05'</td>\n",
       "      <td>...</td>\n",
       "      <td>0.0</td>\n",
       "      <td>0.0</td>\n",
       "      <td>0.0</td>\n",
       "      <td>0.0</td>\n",
       "      <td>0.0</td>\n",
       "      <td>0.0</td>\n",
       "      <td>0.0</td>\n",
       "      <td>0.0</td>\n",
       "      <td>0.0</td>\n",
       "      <td>0);</td>\n",
       "    </tr>\n",
       "  </tbody>\n",
       "</table>\n",
       "<p>5 rows × 34 columns</p>\n",
       "</div>"
      ],
      "text/plain": [
       "      V34         V35   V36                        V37  V38        V39  \\\n",
       "0  201801  'NORDESTE'  'PE'  'CABO DE SANTO AGOSTINHO'  NaN  '0000027'   \n",
       "1  201802  'NORDESTE'  'PE'  'CABO DE SANTO AGOSTINHO'  NaN  '0000027'   \n",
       "2  201803  'NORDESTE'  'PE'  'CABO DE SANTO AGOSTINHO'  NaN  '0000027'   \n",
       "3  201804  'NORDESTE'  'PE'  'CABO DE SANTO AGOSTINHO'  NaN  '0000027'   \n",
       "4  201805  'NORDESTE'  'PE'  'CABO DE SANTO AGOSTINHO'  NaN  '0000027'   \n",
       "\n",
       "                            V40  \\\n",
       "0  'CASA DE SAUDE SANTA HELENA'   \n",
       "1  'CASA DE SAUDE SANTA HELENA'   \n",
       "2  'CASA DE SAUDE SANTA HELENA'   \n",
       "3  'CASA DE SAUDE SANTA HELENA'   \n",
       "4  'CASA DE SAUDE SANTA HELENA'   \n",
       "\n",
       "                                               V41  V42   V43  ...  V58  V59  \\\n",
       "0  'CASA DE SAUDE E MATERNIDADE SANTA HELENA LTDA'  'M'  '05'  ...  0.0  0.0   \n",
       "1  'CASA DE SAUDE E MATERNIDADE SANTA HELENA LTDA'  'M'  '05'  ...  0.0  0.0   \n",
       "2  'CASA DE SAUDE E MATERNIDADE SANTA HELENA LTDA'  'M'  '05'  ...  0.0  0.0   \n",
       "3  'CASA DE SAUDE E MATERNIDADE SANTA HELENA LTDA'  'M'  '05'  ...  0.0  0.0   \n",
       "4  'CASA DE SAUDE E MATERNIDADE SANTA HELENA LTDA'  'M'  '05'  ...  0.0  0.0   \n",
       "\n",
       "   V60  V61  V62  V63  V64  V65  V66  V67  \n",
       "0  0.0  0.0  0.0  0.0  0.0  0.0  0.0  0);  \n",
       "1  0.0  0.0  0.0  0.0  0.0  0.0  0.0  0);  \n",
       "2  0.0  0.0  0.0  0.0  0.0  0.0  0.0  0);  \n",
       "3  0.0  0.0  0.0  0.0  0.0  0.0  0.0  0);  \n",
       "4  0.0  0.0  0.0  0.0  0.0  0.0  0.0  0);  \n",
       "\n",
       "[5 rows x 34 columns]"
      ]
     },
     "execution_count": 28,
     "metadata": {},
     "output_type": "execute_result"
    }
   ],
   "source": [
    "coluna = df['V34']\n",
    "coluna_modificada = coluna.str[32:-1]\n",
    "df['V34'] = coluna_modificada\n",
    "df.head()"
   ]
  },
  {
   "cell_type": "code",
   "execution_count": 29,
   "metadata": {},
   "outputs": [],
   "source": [
    "co1 = df[\"V35\"]\n",
    "co1m = co1.str[1:-1]\n",
    "df[\"V35\"] = co1m"
   ]
  },
  {
   "cell_type": "code",
   "execution_count": 30,
   "metadata": {},
   "outputs": [],
   "source": [
    "co2 = df[\"V36\"]\n",
    "co2m = co2.str[1:-1]\n",
    "df[\"V36\"] = co2m"
   ]
  },
  {
   "cell_type": "code",
   "execution_count": 31,
   "metadata": {},
   "outputs": [],
   "source": [
    "co3 = df[\"V37\"]\n",
    "co3m = co3.str[1:-1]\n",
    "df[\"V37\"] = co3m"
   ]
  },
  {
   "cell_type": "code",
   "execution_count": 32,
   "metadata": {},
   "outputs": [
    {
     "data": {
      "text/plain": [
       "array([nan])"
      ]
     },
     "execution_count": 32,
     "metadata": {},
     "output_type": "execute_result"
    }
   ],
   "source": [
    "df[\"V38\"].unique()"
   ]
  },
  {
   "cell_type": "code",
   "execution_count": 33,
   "metadata": {},
   "outputs": [],
   "source": [
    "co4 = df[\"V39\"]\n",
    "co4m = co4.str[1:-1]\n",
    "df[\"V39\"] = co4m"
   ]
  },
  {
   "cell_type": "code",
   "execution_count": 34,
   "metadata": {},
   "outputs": [],
   "source": [
    "co5 = df[\"V40\"]\n",
    "co5m = co5.str[1:-1]\n",
    "df[\"V40\"] = co5m"
   ]
  },
  {
   "cell_type": "code",
   "execution_count": 35,
   "metadata": {},
   "outputs": [],
   "source": [
    "co6 = df[\"V41\"]\n",
    "co6m = co6.str[1:-1]\n",
    "df[\"V41\"] = co6m"
   ]
  },
  {
   "cell_type": "code",
   "execution_count": 36,
   "metadata": {},
   "outputs": [],
   "source": [
    "co7 = df[\"V42\"]\n",
    "co7m = co7.str[1:-1]\n",
    "df[\"V42\"] = co7m"
   ]
  },
  {
   "cell_type": "code",
   "execution_count": 37,
   "metadata": {},
   "outputs": [],
   "source": [
    "co8 = df[\"V43\"]\n",
    "co8m = co8.str[1:-1]\n",
    "df[\"V43\"] = co8m"
   ]
  },
  {
   "cell_type": "code",
   "execution_count": 38,
   "metadata": {},
   "outputs": [],
   "source": [
    "co9 = df[\"V44\"]\n",
    "co9m = co9.str[1:-1]\n",
    "df[\"V44\"] = co9m"
   ]
  },
  {
   "cell_type": "code",
   "execution_count": 39,
   "metadata": {},
   "outputs": [],
   "source": [
    "coa = df[\"V45\"]\n",
    "coam = coa.str[1:-1]\n",
    "df[\"V45\"] = coam"
   ]
  },
  {
   "cell_type": "code",
   "execution_count": 40,
   "metadata": {},
   "outputs": [],
   "source": [
    "cob = df[\"V46\"]\n",
    "cobm = cob.str[1:-1]\n",
    "df[\"V46\"] = cobm"
   ]
  },
  {
   "cell_type": "code",
   "execution_count": 41,
   "metadata": {},
   "outputs": [],
   "source": [
    "coc = df[\"V47\"]\n",
    "cocm = coc.str[1:-1]\n",
    "df[\"V47\"] = cocm"
   ]
  },
  {
   "cell_type": "code",
   "execution_count": 42,
   "metadata": {},
   "outputs": [],
   "source": [
    "cod = df[\"V48\"]\n",
    "codm = cod.str[1:-1]\n",
    "df[\"V48\"] = codm"
   ]
  },
  {
   "cell_type": "code",
   "execution_count": 43,
   "metadata": {},
   "outputs": [
    {
     "data": {
      "text/plain": [
       "array([nan, \"'PREDIO'\", \"'1 SUBSOLO'\", \"'FAZENDA GRANDE II'\",\n",
       "       \"'2A TRAVESSA'\", \"'CAJAZEIRAS II'\", \"'CASA 2 CAS 3'\", \"'CASA'\",\n",
       "       \"'SALA ABSJ'\", \"'SAO JULIAO'\", \"'BLOCO A'\", \"'QNM 27'\",\n",
       "       \"'AREA ESPECIAL'\", \"'SETOR HOSPITALAR OES'\", \"'01'\", \"'PAVMTO 01'\",\n",
       "       \"'ESTRADA DA LAGOA'\", \"'4 ANDAR'\", \"'LOT VICENTE BESSA'\",\n",
       "       \"'CENTRO'\", \"'ZONA URBANA'\", \"'KM 5'\", \"'SANTA LUZIA'\",\n",
       "       \"'CONJ D PEDRO II'\", \"'NUC09 QUADRA 316'\", \"'MATRIZ'\",\n",
       "       \"'EST DO ALEIXO KM 14'\", \"'AO LADO DO CCA'\", \"'HOSPITAL'\",\n",
       "       \"'CAIXA POSTAL 180'\", \"'1337'\", \"'23 06 2004'\", \"'1 ANDAR SALA 2'\",\n",
       "       \"'CXPST 14'\", \"'PROX ESTACAO DE TREM'\", \"'CAIXA POSTAL 94'\",\n",
       "       \"'A 270'\", \"'KM'\", \"'KM 92'\", \"'BLOCO'\", \"'KM 113'\", \"'KM04'\",\n",
       "       \"'ED I II III IV'\", \"'KM 109'\", \"'CAIXA POSTAL 1038'\", \"'TERREO'\",\n",
       "       \"'KM 63'\", \"'CAIXA POSTAL 6028'\", \"'PRQ BOA ESPERANCA'\",\n",
       "       \"'CAIXA POSTAL 221'\", \"'CX POSTAL 186'\", \"'A'\", \"'S C'\",\n",
       "       \"'BR 116 KM 656'\", \"'CONT MARINALVA ROGER'\", \"'CAIXA POSTAL 164'\",\n",
       "       \"'1 ANDAR'\", \"'PAVILHAO'\", \"'PROPRIO'\", \"'1'\", \"'6 DISTRITO'\",\n",
       "       \"'CAS'\", \"'GLORIA'\", \"'LARGO EDUARDO FARACO'\", \"'PAVLH HOSPITAL'\",\n",
       "       \"'CAMPUS'\", \"'SUBSL PRIMEIRO E SEG'\", \"'PREDIO HSI'\",\n",
       "       \"'CAIXA POSTAL 92'\", \"'PREDIO 60'\", \"'FUNDOS'\",\n",
       "       \"'ILHA DO GOVERNADOR'\", \"'2 ANDAR'\", \"'FDS'\", \"'66 76 90 114'\",\n",
       "       \"'TAQUARA'\", \"'CURICICA'\", \"'ANEXO IV 4 ANDAR'\", \"'QD L LT 11'\",\n",
       "       \"'SANTO ALEIXO'\", \"'CIDADE UNIVERSITARIA'\", \"'KM 45'\",\n",
       "       \"'BR 040 KM 109'\", \"'KILOMETRO'\", \"'ILHA DO FUNDAO'\", \"'PARTE'\",\n",
       "       \"'CURITIBANOS'\", \"'CAIXA POSTAL 15'\", \"'LAT RUA JORGE CZERN'\",\n",
       "       \"'CONDOMINIO ENEIDA'\", \"'QUADRA 44'\", \"'RUA DA LADEIRA'\",\n",
       "       \"'QUADRA ESPECIAL'\", \"'EM FRENTE A PRACA'\", \"'KM12 BR316'\",\n",
       "       \"'CIDADE'\", \"'RUA LAURO SODRE'\", \"'ANTIGA 5 RUA'\",\n",
       "       \"'PROX A RODOVIARIA'\", \"'ASEVEC'\", \"'SUL'\", \"'ZONA SUL'\",\n",
       "       \"'DIRCEU II'\", \"'SALA A'\", \"'ANANINDEUA'\", \"'SEDE'\", \"'QD 07'\",\n",
       "       \"'QD A 10 LOTE 04'\", \"'CERES'\", \"'ESQ C RUA 01'\", \"'QD H16 LT 15'\",\n",
       "       \"'QD 24 LT 48E'\", \"'QD 79 LT 10E'\", \"'QD R14 LT 4'\",\n",
       "       \"'QD 51 LT 1 A 6'\", \"'QD 74 LT 7E'\", \"'QD S33 LT 27E'\",\n",
       "       \"'QD 253 LT 12E'\", \"'QD 68 AREA 1'\", \"'QD 67 LT 12E'\",\n",
       "       \"'ANTIGA AVENIDA Z'\", \"'ESQ COM AV L'\", \"'QD 72 LT 1E'\",\n",
       "       \"'QD 169 LT 12 31'\", \"'QD R2B LT 20'\", \"'QD 01 LT 03'\",\n",
       "       \"'QD 01 LT 01 AO 22'\", \"'SALA 03'\", \"'BR 232 KM 103'\",\n",
       "       \"'VILA TORRES GALVAO'\", \"'NAO INFORMADO'\", \"'ESQUINA COM R1'\",\n",
       "       \"'QUADRA 15'\", \"'OK'\", \"'C P 04'\", \"'CAIXA POSTAL N 89'\", \"'8'\",\n",
       "       \"'INC'\", \"'PREDIO OK'\", \"'UNIDADE HOSPITALAR'\", \"'INTERNAMENTOS'\",\n",
       "       \"'ANDAR 01'\", \"'MATERNIDADE'\", \"'UMSM'\", \"'Q 12'\",\n",
       "       \"'QD 24 LTS 10 E 16'\", \"'QD 2 LT 14'\", \"'QD 81 LT 05'\", \"'QD 45'\",\n",
       "       \"'QDA 08'\", \"'QD 01 LT 01'\", \"'QD 20'\", \"'Q177'\",\n",
       "       \"'CENTRO DE SAUDE'\", \"'VIA PARAFUSO'\", \"'LOTE 10 E 12'\",\n",
       "       \"'LOTE 11 QDA 37'\", \"'AO LADO DO PAM'\", \"'LOT NOVA VARZEA GDE'\",\n",
       "       \"'SETOR NORTE'\", \"'N'\", \"'CX POSTAL 46'\", \"'PERTO DO PSF'\",\n",
       "       \"'JARDIM GUANABARA'\", \"'KADIJA'\", \"'QUARTO'\", \"'KM 16'\",\n",
       "       \"'PROXIMO'\", \"'EM FRENTE A'\", \"'EM FRENTE'\", \"'AO LADO FIGUEIRA'\",\n",
       "       \"'CJ LIDIA SOUZA CRUZ'\", \"'SAIDA PARA O PECEM'\", \"'KM 01'\",\n",
       "       \"'BR 122'\", \"'S N'\", \"'QD 06 LT 13'\", \"'QD 02 LT 02'\",\n",
       "       \"'KM 190 AO LADO'\", \"'LOTES 02 A 05'\", \"'ESQ AV CAMPOS VERD'\",\n",
       "       \"'QD 12 LT 516'\", \"'QD 43'\", \"'QUADA 12 LOTES 7 10'\",\n",
       "       \"'QDA 15 LT 12 14'\", \"'ESQ COM L04 E L05'\", \"'SANTA CASA'\",\n",
       "       \"'QD 01 LT 02'\", \"'QUADRA 109'\", \"'BR'\", \"'AV SANTOS DRUMONT'\",\n",
       "       \"'FFRENTE DEPOL'\", \"'KM 02'\", \"'SN'\", \"'QUADRA 5 LOTE 5'\", \"'W'\",\n",
       "       \"'E'\", \"'VM'\", \"'ETAPA 4'\", \"'ANTIGO CAMPO FUTEBOL'\", \"'LAGOA'\",\n",
       "       \"'GRANDES AREAS'\", \"'EDIFICIO'\", \"'DISTRITO ITABATAN'\",\n",
       "       \"'ITABATAN'\", \"'DISTRITO'\", \"'AREA'\", \"'ESQ C RUA 31'\", \"'PRACA'\",\n",
       "       \"'E 2615'\", \"'ENTRADA SUPLEMENTAR'\", \"'QD10A LT02'\",\n",
       "       \"'QD E LT 1214'\", \"'QD E 12 LT 15A'\", \"'QD 01 LT 37 185'\",\n",
       "       \"'QD F13 LT 21 23'\", \"'QD 17A LT 3'\", \"'QD 221 LT 6E'\",\n",
       "       \"'QD21 LT 05'\", \"'QD 21 LT 05'\", \"'QD 24 LT 1E'\", \"'QD44'\",\n",
       "       \"'QD 4A LT 08E'\", \"'QD D4 LT 22'\", \"'QD 46 LT 05A'\", \"'QUADRA 2'\",\n",
       "       \"'IGREJA CATOLICA'\", \"'5054'\", \"'BR 316'\", \"'540A'\",\n",
       "       \"'ESTRADA DE CANDEIAS'\", \"'PREDIO DO HOSPITAL'\",\n",
       "       \"'ENTRE A 31 E A 33'\", \"'ESQ COM RUA 15'\", \"'QD 2 LT 16'\",\n",
       "       \"'QUADREA 03 LOTE 01'\", \"'QD B LT11'\", \"'QD 27 LT01'\",\n",
       "       \"'QD 15 E 16'\", \"'CONJUNTO OK'\", \"'D'\", \"'SALAS'\",\n",
       "       \"'LOTE DE 01 A 12'\", \"'N 200'\", \"'EDIF CENTRO'\", \"'E 520'\",\n",
       "       \"'QD 05 AREA ESPECIAL'\", \"'QD 114 LT 04'\", \"'QDA 14 LOTE 9 A 13'\",\n",
       "       \"'ESQ C R 8'\", \"'QD 02 LT 01'\", \"'ATRAS DA SMS'\", \"'HOSPITALAR'\",\n",
       "       \"'CAIXA POSTAL 04'\", \"'ESQ ALFREDO CHAVES'\", \"'QD 26 LT01 A 03'\",\n",
       "       \"'QUADRAAREA'\", \"'SAIDA SUL'\", \"'QUADRA 25 LT06 A 0'\", \"'INCL'\",\n",
       "       \"'QUADRA 10'\", \"'ANEXO 01'\", \"'KM 06'\", \"'CLINICA'\", \"'QUADRA 19'\",\n",
       "       \"'HOSP COSN C SAUDE'\", \"'LTS 179 181 QDRA 10'\", \"'QUADRA61'\",\n",
       "       \"'ROD BR 316 KM 09'\", \"'PROX A DELEGACIA'\", \"'PROX RODOVIARIA'\",\n",
       "       \"'LOTEAMENTO'\", \"'HOSPITAL PUBLICO'\", \"'QUADRA 08'\",\n",
       "       \"'QD 6 A LT 14'\", \"'ANEXO AO CENTRO DE S'\", \"'OURICANGAS'\",\n",
       "       \"'TERREO E 1 ANDAR'\", \"'QD 26'\", \"'QUADRA 16 LOTE 18'\",\n",
       "       \"'01 E 17'\", \"'CONJUNTO'\", \"'CONJ NOVA ASSUNCAO'\",\n",
       "       \"'PRACA DOS MARTIRES'\", \"'ESTRADA SEN CANEDO'\",\n",
       "       \"'PQE DOS COQUEIROS'\", \"'NE'\", \"'PRESIDENTE VARGAS'\", \"'NENHUM'\",\n",
       "       \"'JARDIM FESTUGATO'\", \"'CONJUNTO A'\", \"'QD AREA LT AREA'\",\n",
       "       \"'PROX IGR SAO PEDRO'\", \"'PREDIO PROPRIO'\", \"'PRAIA'\",\n",
       "       \"'PROXMARINO CONTI'\", \"'PLANALTO'\", \"'HOSPITAL MUNICIPAL'\",\n",
       "       \"'PROXIMO A MAT CONST'\", \"'287'\", \"'KM2'\", \"'CONJUNTO 66'\",\n",
       "       \"'ANEXO HOSPITAL'\", \"'ICOARACI'\", \"'PONTA DO BONFIM'\", \"'QD 39 A'\",\n",
       "       \"'UNIDADE A 1'\", \"'UNIDADE A 2'\", \"'HOSP ITAL'\", \"'DOIS ANDARES'\",\n",
       "       \"'ROD MS 379 KM 12'\", \"'QUADRA 04'\", \"'AVENIDA'\",\n",
       "       \"'VILA SAO LOURENCO'\", \"'URBANO'\", \"'ESQ AV MOISES LUPI'\",\n",
       "       \"'SOB ESQ P BECHAUSER'\", \"'SALA 02'\", \"'EDIFICIO SALA 08'\",\n",
       "       \"'ESQ GERSON SOARES'\", \"'PROXIMO A COHAB'\", \"'ZONA RURAL'\",\n",
       "       \"'QUADRA 36'\", \"'QUADRA 09'\", \"'000'\", \"'CAIXA POSTAL 44'\",\n",
       "       \"'QDA 02 LTS 01 AO 19'\", \"'Q 401 SUL'\", \"'ANEXO B'\", \"'ANEXO'\",\n",
       "       \"'QD 34 LT 01'\", \"'PROXIMO A PREFEITURA'\", \"'PRACA DA BIBLIA'\",\n",
       "       \"'QD03 LT0104'\", \"'KM 1'\", \"'508 A 511 517 E 518'\",\n",
       "       \"'QUADRA 31 LOTE01'\", \"'VILA MARACANA'\", \"'KM 225 226'\",\n",
       "       \"'ZONA OESTE'\", \"'CAIXA POSTAL 11'\", \"'ESTABELECIMENTO'\",\n",
       "       \"'LAGOA REDONDA'\", \"'BLOCOS'\", \"'LOTE F QUADRA 01'\",\n",
       "       \"'PROXPREFEITURA'\", \"'PREDIO PUBLICO'\", \"'QUADRA'\", \"'SETOR 01'\",\n",
       "       \"'KM 34'\", \"'LOTE C AREA ESP'\", \"'BLOCOS A B E C'\", \"'KM 396'\",\n",
       "       \"'CONJ C SLS 01 A 08'\", \"'CONJ C SLS 01A08 10'\", \"'83'\", \"'KM 03'\",\n",
       "       \"'302 PARTE'\", \"'FINAL R SIRACUSA'\", \"'61'\", \"'JARDIM HELENA'\",\n",
       "       \"'322'\", \"'SALAS 501 510 E 601'\", \"'SALAS 501 502 503'\",\n",
       "       \"'CEILANDIA SUL'\", \"'BBENTES I'\", \"'KM 332'\", \"'SETOR C NORTE'\",\n",
       "       \"'VILA DA SERRA'\", \"'QD 40 LT 5 6'\", \"'435 467'\",\n",
       "       \"'323 A L331 T106 108'\", \"'ANEXO 151'\", \"'96'\", \"'QD F23 LT 8 17'\",\n",
       "       \"'BLOCO C'\", \"'BEIRA RIO'\", \"'SALAS 316 318'\", \"'2 ANDAR TAQUARA'\",\n",
       "       \"'RUA DR CELESTINO 113'\", \"'1354 E 1368'\", \"'3 ANDAR'\",\n",
       "       \"'Q 162 L 6 AND 3 E 4'\", \"'2011'\", \"'SALA 101 A 110'\",\n",
       "       \"'CAIXA POSTAL 62'\", \"'SALA 4'\", \"'COLONIA VITORIA'\", \"'UFSC'\",\n",
       "       \"'ANEXO HOSP CARIDADE'\", \"'QD 260 LT 01'\", \"'1 2 3 E 5 ANDAR'\",\n",
       "       \"'88'\", \"'219 223'\", \"'CASSA'\", \"'QD 32 LT 0507'\", \"'14 ANDAR'\",\n",
       "       \"'SALA B'\", \"'ESTRADA DO COCO'\", \"'SALA 306'\", \"'1926'\",\n",
       "       \"'QD R2B LT 19'\", \"'ANDAR 5'\", \"'76 90 PARTE'\", \"'QD 122 LT 6'\",\n",
       "       \"'QD 122 LT 08 09'\", \"'CONVENIOS'\", \"'PX DUQUE'\",\n",
       "       \"'1 SUB 1 AO 5 ANDAR'\", \"'2 ETAPA'\", \"'2 PISO'\",\n",
       "       \"'PAVILHAO ALA 1'\", \"'BLOCO B TERREO'\", \"'LARGO SAO SEBASTIAO'\",\n",
       "       \"'RUA BOCAIUVA'\", \"'KM 01 S N'\", \"'151 E 151 A'\",\n",
       "       \"'QD FO LT 16AE'\", \"'ATRAS DO CAMPO'\", \"'AO LADO DA UBS'\",\n",
       "       \"'QD 29 LT 07 E 10'\", \"'QD 169 LT 12E'\", \"'SALA 701 702 801 802'\",\n",
       "       \"'ESQ PIRES DE CAMPOS'\", \"'JUSTINOPOLIS'\", \"'PETROBRAS RLAM PORT'\",\n",
       "       \"'QD 97 LT 19 20 21'\", \"'1 E 2 ANDAR'\", \"'ESQ 7 DE SETEMBRO'\",\n",
       "       \"'HOSPITAL MILITAR'\", \"'QD 32 LT 15'\", \"'ESQ C AV FLAMINGO'\",\n",
       "       \"'FRENTE LAB BIOTEC'\", \"'ESQ COM A RUA POSSE'\", \"'SEM NUMERO'\",\n",
       "       \"'KM 42'\", \"'SALA 08'\", \"'QUADRA NI LOTE NI'\", \"'PROX A TEQUINHA'\",\n",
       "       \"'PROXIMO AO POSTO CCM'\", \"'HMJFZ'\", \"'U B S'\", \"'INSTALACAO'\",\n",
       "       \"'RUA'\", \"'EM FRENTE AO MERCADO'\", \"'JARDIM ATLANTICO'\",\n",
       "       \"'Q 23 L 11'\", \"'A 232'\", \"'SLS 4 5 E 6 SUBSOLO'\",\n",
       "       \"'ESQUINA RUA 5'\", \"'COMPLEXO TAICOCA'\", \"'570'\",\n",
       "       \"'QD R 10 LT 07'\", \"'VILA FARAH'\", \"'HOSP BOM VIVER'\",\n",
       "       \"'PQ NOSSA SENHORA LUZ'\", \"'328 329'\", \"'SEN LEMOS JERONIMO P'\",\n",
       "       \"'602'\", \"'01D58'\", \"'SALA 1205'\", \"'SALA 05'\",\n",
       "       \"'ESQ AV CURITIBA'\", \"'KM 04'\", \"'QUADRA 41'\", \"'QUADRA 30'\",\n",
       "       \"'SALA 2107 E 2109'\", \"'ALTURA DO KM 07'\", \"'201 301 E 401'\",\n",
       "       \"'SALA 01'\", \"'BLOCOS A B C D'\", \"'QD 02 LT 03'\",\n",
       "       \"'BLOCO HOSPITALAR 1'\", \"'CAIXA POSTAL 89'\", \"'TRAVESSA 5'\",\n",
       "       \"'PREDIO CENTRAL'\", \"'QD 11 A LT 20'\", \"'COMPLEXO HMA'\",\n",
       "       \"'COND BUSCA VIDA'\", \"'QUADRA A20'\", \"'ANEXO AO HMSFA'\",\n",
       "       \"'HOSPITAL UNIMED'\", \"'ANEXO HOSP STA ROSA'\", \"'SALA 24'\",\n",
       "       \"'AMERICO BRASILIENSE'\", \"'E 1316'\", \"'LOTE 01 QUADRA 07'\",\n",
       "       \"'EDIF HOSPITAL UNIME'\", \"'CIDADE NOVA III'\", \"'PRAIA DOS AMORES'\",\n",
       "       \"'QD 08 LT 07'\", \"'QD 389'\", \"'SALA 101'\",\n",
       "       \"'PAVMTOTERREO BLOCO A'\", \"'PORTO TROMBETAS'\",\n",
       "       \"'QUADRA 25 LOTE 04 05'\", \"'QD 61 LT AREA'\", \"'QUADRA34'\",\n",
       "       \"'QD 117 LT 12 13'\", \"'QD 05 LT 07 08'\", \"'QD 1 F LT 2 6'\",\n",
       "       \"'ALA B'\", \"'TABOCA'\", \"'VILA TABOCA'\", \"'CONJ MANOEL C SOUZA'\",\n",
       "       \"'ANEXO BLOCO C'\", \"'KM ONZE QUADRA E LOT'\", \"'LT 1745'\",\n",
       "       \"'KM 28'\", \"'11 A 14 ANDAR'\", \"'ANDAR DE 16 A 3 SUBS'\",\n",
       "       \"'SALA 110'\", \"'QD 100 LT 13 14 15'\", \"'ESQUINA MAR C RONDOM'\",\n",
       "       \"'QD 9A LT 01 02'\", \"'ESQUINA RUA MUTUM'\", \"'LOTE 18 A 35 QD 36'\",\n",
       "       \"'SALA 01 02 E 03'\", \"'BLOCO B 2 ANDAR'\", \"'ANDAR TERREO SALAS 3'\",\n",
       "       \"'PAVILHAO CENTRAL'\", \"'ALA UTI'\", \"'PAVLH DIVISAO ADM'\",\n",
       "       \"'TERREO SL ROSA M BA'\", \"'ANDAR 6 PARTE'\", \"'ED IOP'\",\n",
       "       \"'QD 24 LT 04'\", \"'CHACARA'\", \"'CASA 31'\", \"'RUA CAP SALOMAO 27'\",\n",
       "       \"'QD 1 CHAC 9'\", \"'QUADRAA000 LOTE 0001'\",\n",
       "       \"'ANTIGO CAMPO DE POUS'\", \"'EDIF DO HOSPITAL OT'\",\n",
       "       \"'LOTM SAO JUDAS TADEU'\", \"'QD 216 LT 15 18'\",\n",
       "       \"'FUNDOS H SAO LUCAS'\", \"'QD H'\", \"'147 E 153'\",\n",
       "       \"'LT PARQUE DAS DUNAS'\", \"'753A 767 777'\", \"'SL DE HEMODINAMICA'\",\n",
       "       \"'FRENTE AV NEREU RAM'\", \"'CACHOEIRINHA CH 560'\", \"'SL 116'\",\n",
       "       \"'SUBURBIO FERROVIARIO'\", \"'QD 7 L 41'\", \"'RUA DAS POPULARES'\",\n",
       "       \"'QD 4 LT 20'\", \"'SANTA ROSA'\", \"'SAIDA PARA SANTA FE'\",\n",
       "       \"'ESQUINA C AV BRASIL'\", \"'ANDAR 1'\", \"'LOTE'\",\n",
       "       \"'PROX CANTEIRO PAAR'\", \"'KM 4'\", \"'SUBSL 2597'\",\n",
       "       \"'QD 168 A LT 14 16'\", \"'QD F2 LT 35'\", \"'DOMICIANO RIBEIRO'\",\n",
       "       \"'BLOCO B SALA 101'\", \"'CHACARA SOL NASCENTE'\",\n",
       "       \"'ESQ C A ODORICO TOC'\", \"'PROX A EMATER'\",\n",
       "       \"'ANDAR 2 SL 1 PVLH 2'\", \"'SALA 1'\", \"'COMP PENITENCIARIO'\",\n",
       "       \"'LOJA OO C'\", \"'QD03 LT03 E 04'\", \"'WE 72'\",\n",
       "       \"'ANTIGO 2 541 AREA 2'\", \"'CAIXA POSTAL 141'\", \"'RORAINOPOLIS'\",\n",
       "       \"'E 732'\", \"'29 32 S C RAMOS 173'\", \"'ROD SC 407 KM 02'\",\n",
       "       \"'CASA B'\", \"'FRENTE A PREFEITURA'\", \"'RIO BRANCO'\",\n",
       "       \"'QD0A8 LT014'\", \"'KM 19 CHACARA VIDA'\", \"'ANDAR 2'\",\n",
       "       \"'BL 1 2 3 E4'\", \"'BLOCO B'\", \"'ANDAR 1 2 3 SALAS'\",\n",
       "       \"'QD 51 LT 5'\", \"'ESQUINA COM RUA NOVA'\", \"'QD 39 LT 7 8'\",\n",
       "       \"'ANEXO A'\", \"'4 E 5 ANDA'\", \"'BLOCO 01'\", \"'ANDAR 3 ANDAR'\",\n",
       "       \"'PARTE LOJA 17 B'\", \"'PROXIMO AO LAGO'\", \"'KM 11 5'\",\n",
       "       \"'CHACARA AGUA SANTA'\", \"'PROXIMO AO IGUATEMI'\",\n",
       "       \"'KM 01 ROD DF 415'\", \"'LOTE 28 PAL 2040 QD'\",\n",
       "       \"'ANEXO AO HOSPITAL D'\", \"'QD 216 LT 6 E'\",\n",
       "       \"'UNID AUTONOM 01 E 04'\", \"'90'\", \"'QD02'\", \"'SALA'\",\n",
       "       \"'TERCEIRO ANDAR'\", \"'08 16 22 28 34'\", \"'KM 6 5'\",\n",
       "       \"'TERREO FRENTE'\", \"'SALA D'\", \"'ANEXO I'\", \"'ESQ RUA FIGUEIREDO'\",\n",
       "       \"'ALTOS SALA 01 E02'\", \"'KM 257 258'\", \"'PARTE DO 4 ANDAR'\",\n",
       "       \"'QD 221 LT 6 E'\", \"'CONJ J RAIMUNDO POR'\", \"'PAVMTO02'\",\n",
       "       \"'SALA 01 HEMODINAMICA'\", \"'LT 01 10 QD 62'\", \"'SALA 103'\",\n",
       "       \"'QD 217 LT 09E'\", \"'QD F'\", \"'QUADRA08'\", \"'QD Y LOTE 03'\",\n",
       "       \"'ATUAL CLINICA'\", \"'QD D LT 03'\", \"'LOTE 8'\", \"'ANTIGO 420'\",\n",
       "       \"'QD G00 LT 09 A 13'\", \"'LETRA A'\", \"'LETRA H'\", \"'SITIO JATOBA'\",\n",
       "       \"'SENTIDO OURO VERDE'\", \"'LOTE 06'\", \"'1037 LT 01 A 16'\",\n",
       "       \"'LT 8 ANDAR 2 SAL 2'\", \"'DESCIDA DA EMBRAPA'\", \"'QD 08'\",\n",
       "       \"'ANTIGA RADIAL A'\", \"'LT 2 CJ 2 SL 10'\", \"'QD 453 LT 01 05'\",\n",
       "       \"'QDRA 44'\", \"'AV DO AEROPORTO'\", \"'BA415'\", \"'CJ 1 LT 8 A'\",\n",
       "       \"'LT 9 SL 2'\", \"'ANEXO 03'\", \"'B'\", \"'LT 02'\", \"'KM 106'\",\n",
       "       \"'SALA 03 E'\", \"'LOTE 1 PAL 10328'\", \"'ANEXO HOSP STA RITA'\",\n",
       "       \"'SALA UTI'\", \"'QD 46 LT 05 A'\", \"'11 2662 2175'\", \"'KM 449'\",\n",
       "       \"'SALA 202'\", \"'102'\", \"'CX POSTAL 132'\", \"'N A'\",\n",
       "       \"'3 ANDAR CONSULT 4'\", \"'PISO S1'\", \"'CJ 2 LT 7 SL 1'\",\n",
       "       \"'QD A LT 7'\", \"'ANEXO HOSPITAL JD CU'\", \"'LOTES 21 E 22'\",\n",
       "       \"'KM 30'\", \"'COHAB'\", \"'QUADRA8'\", \"'1927'\"], dtype=object)"
      ]
     },
     "execution_count": 43,
     "metadata": {},
     "output_type": "execute_result"
    }
   ],
   "source": [
    "df[\"V49\"].unique()"
   ]
  },
  {
   "cell_type": "code",
   "execution_count": 44,
   "metadata": {},
   "outputs": [],
   "source": [
    "coe = df[\"V49\"]\n",
    "coem = coe.apply(lambda x: x[1:-1] if isinstance(x, str) and x != 'null' else x)\n",
    "# a função 'isinstance' é usada quando a gente vai conferir se um tal elemento x é aquilo mesmo, nesse caso uma string\n",
    "df[\"V49\"] = coem"
   ]
  },
  {
   "cell_type": "code",
   "execution_count": 45,
   "metadata": {},
   "outputs": [],
   "source": [
    "cof = df[\"V50\"]\n",
    "cofm = cof.str[1:-1]\n",
    "df[\"V50\"] = cofm"
   ]
  },
  {
   "cell_type": "code",
   "execution_count": 46,
   "metadata": {},
   "outputs": [],
   "source": [
    "cog = df[\"V51\"]\n",
    "cogm = cog.str[1:-1]\n",
    "df[\"V51\"] = cogm"
   ]
  },
  {
   "cell_type": "code",
   "execution_count": 47,
   "metadata": {},
   "outputs": [],
   "source": [
    "coh = df[\"V52\"]\n",
    "cohm = coh.str[1:-1]\n",
    "df[\"V52\"] = cohm"
   ]
  },
  {
   "cell_type": "code",
   "execution_count": 48,
   "metadata": {},
   "outputs": [
    {
     "data": {
      "text/plain": [
       "array([nan, \"'ADM@HOSPITALSAOSEBASTIAO.COM.BR'\",\n",
       "       \"'claudia.miranda@saude.pe.gov.br'\", ...,\n",
       "       \"'hanossasenhora@hnosasenhora.com.br'\",\n",
       "       \"'administrativo.campos@vilaverdejf.com.br'\",\n",
       "       \"'processos@atsolucoes.com.br'\"], dtype=object)"
      ]
     },
     "execution_count": 48,
     "metadata": {},
     "output_type": "execute_result"
    }
   ],
   "source": [
    "df[\"V53\"].unique()"
   ]
  },
  {
   "cell_type": "code",
   "execution_count": 49,
   "metadata": {},
   "outputs": [],
   "source": [
    "coi = df[\"V53\"]\n",
    "coim = coi.apply(lambda x: x[1:-1] if isinstance(x, str) and x != 'null' else x)\n",
    "df[\"V53\"] = coim"
   ]
  },
  {
   "cell_type": "code",
   "execution_count": 50,
   "metadata": {},
   "outputs": [],
   "source": [
    "coj = df[\"V67\"]\n",
    "cojm = coj.str[:-2]\n",
    "df[\"V67\"] = cojm"
   ]
  },
  {
   "cell_type": "code",
   "execution_count": 51,
   "metadata": {},
   "outputs": [
    {
     "data": {
      "text/html": [
       "<div>\n",
       "<style scoped>\n",
       "    .dataframe tbody tr th:only-of-type {\n",
       "        vertical-align: middle;\n",
       "    }\n",
       "\n",
       "    .dataframe tbody tr th {\n",
       "        vertical-align: top;\n",
       "    }\n",
       "\n",
       "    .dataframe thead th {\n",
       "        text-align: right;\n",
       "    }\n",
       "</style>\n",
       "<table border=\"1\" class=\"dataframe\">\n",
       "  <thead>\n",
       "    <tr style=\"text-align: right;\">\n",
       "      <th></th>\n",
       "      <th>V34</th>\n",
       "      <th>V35</th>\n",
       "      <th>V36</th>\n",
       "      <th>V37</th>\n",
       "      <th>V38</th>\n",
       "      <th>V39</th>\n",
       "      <th>V40</th>\n",
       "      <th>V41</th>\n",
       "      <th>V42</th>\n",
       "      <th>V43</th>\n",
       "      <th>...</th>\n",
       "      <th>V58</th>\n",
       "      <th>V59</th>\n",
       "      <th>V60</th>\n",
       "      <th>V61</th>\n",
       "      <th>V62</th>\n",
       "      <th>V63</th>\n",
       "      <th>V64</th>\n",
       "      <th>V65</th>\n",
       "      <th>V66</th>\n",
       "      <th>V67</th>\n",
       "    </tr>\n",
       "  </thead>\n",
       "  <tbody>\n",
       "    <tr>\n",
       "      <th>0</th>\n",
       "      <td>201801</td>\n",
       "      <td>NORDESTE</td>\n",
       "      <td>PE</td>\n",
       "      <td>CABO DE SANTO AGOSTINHO</td>\n",
       "      <td>NaN</td>\n",
       "      <td>0000027</td>\n",
       "      <td>CASA DE SAUDE SANTA HELENA</td>\n",
       "      <td>CASA DE SAUDE E MATERNIDADE SANTA HELENA LTDA</td>\n",
       "      <td>M</td>\n",
       "      <td>05</td>\n",
       "      <td>...</td>\n",
       "      <td>0.0</td>\n",
       "      <td>0.0</td>\n",
       "      <td>0.0</td>\n",
       "      <td>0.0</td>\n",
       "      <td>0.0</td>\n",
       "      <td>0.0</td>\n",
       "      <td>0.0</td>\n",
       "      <td>0.0</td>\n",
       "      <td>0.0</td>\n",
       "      <td>0</td>\n",
       "    </tr>\n",
       "    <tr>\n",
       "      <th>1</th>\n",
       "      <td>201802</td>\n",
       "      <td>NORDESTE</td>\n",
       "      <td>PE</td>\n",
       "      <td>CABO DE SANTO AGOSTINHO</td>\n",
       "      <td>NaN</td>\n",
       "      <td>0000027</td>\n",
       "      <td>CASA DE SAUDE SANTA HELENA</td>\n",
       "      <td>CASA DE SAUDE E MATERNIDADE SANTA HELENA LTDA</td>\n",
       "      <td>M</td>\n",
       "      <td>05</td>\n",
       "      <td>...</td>\n",
       "      <td>0.0</td>\n",
       "      <td>0.0</td>\n",
       "      <td>0.0</td>\n",
       "      <td>0.0</td>\n",
       "      <td>0.0</td>\n",
       "      <td>0.0</td>\n",
       "      <td>0.0</td>\n",
       "      <td>0.0</td>\n",
       "      <td>0.0</td>\n",
       "      <td>0</td>\n",
       "    </tr>\n",
       "    <tr>\n",
       "      <th>2</th>\n",
       "      <td>201803</td>\n",
       "      <td>NORDESTE</td>\n",
       "      <td>PE</td>\n",
       "      <td>CABO DE SANTO AGOSTINHO</td>\n",
       "      <td>NaN</td>\n",
       "      <td>0000027</td>\n",
       "      <td>CASA DE SAUDE SANTA HELENA</td>\n",
       "      <td>CASA DE SAUDE E MATERNIDADE SANTA HELENA LTDA</td>\n",
       "      <td>M</td>\n",
       "      <td>05</td>\n",
       "      <td>...</td>\n",
       "      <td>0.0</td>\n",
       "      <td>0.0</td>\n",
       "      <td>0.0</td>\n",
       "      <td>0.0</td>\n",
       "      <td>0.0</td>\n",
       "      <td>0.0</td>\n",
       "      <td>0.0</td>\n",
       "      <td>0.0</td>\n",
       "      <td>0.0</td>\n",
       "      <td>0</td>\n",
       "    </tr>\n",
       "    <tr>\n",
       "      <th>3</th>\n",
       "      <td>201804</td>\n",
       "      <td>NORDESTE</td>\n",
       "      <td>PE</td>\n",
       "      <td>CABO DE SANTO AGOSTINHO</td>\n",
       "      <td>NaN</td>\n",
       "      <td>0000027</td>\n",
       "      <td>CASA DE SAUDE SANTA HELENA</td>\n",
       "      <td>CASA DE SAUDE E MATERNIDADE SANTA HELENA LTDA</td>\n",
       "      <td>M</td>\n",
       "      <td>05</td>\n",
       "      <td>...</td>\n",
       "      <td>0.0</td>\n",
       "      <td>0.0</td>\n",
       "      <td>0.0</td>\n",
       "      <td>0.0</td>\n",
       "      <td>0.0</td>\n",
       "      <td>0.0</td>\n",
       "      <td>0.0</td>\n",
       "      <td>0.0</td>\n",
       "      <td>0.0</td>\n",
       "      <td>0</td>\n",
       "    </tr>\n",
       "    <tr>\n",
       "      <th>4</th>\n",
       "      <td>201805</td>\n",
       "      <td>NORDESTE</td>\n",
       "      <td>PE</td>\n",
       "      <td>CABO DE SANTO AGOSTINHO</td>\n",
       "      <td>NaN</td>\n",
       "      <td>0000027</td>\n",
       "      <td>CASA DE SAUDE SANTA HELENA</td>\n",
       "      <td>CASA DE SAUDE E MATERNIDADE SANTA HELENA LTDA</td>\n",
       "      <td>M</td>\n",
       "      <td>05</td>\n",
       "      <td>...</td>\n",
       "      <td>0.0</td>\n",
       "      <td>0.0</td>\n",
       "      <td>0.0</td>\n",
       "      <td>0.0</td>\n",
       "      <td>0.0</td>\n",
       "      <td>0.0</td>\n",
       "      <td>0.0</td>\n",
       "      <td>0.0</td>\n",
       "      <td>0.0</td>\n",
       "      <td>0</td>\n",
       "    </tr>\n",
       "  </tbody>\n",
       "</table>\n",
       "<p>5 rows × 34 columns</p>\n",
       "</div>"
      ],
      "text/plain": [
       "      V34       V35 V36                      V37  V38      V39  \\\n",
       "0  201801  NORDESTE  PE  CABO DE SANTO AGOSTINHO  NaN  0000027   \n",
       "1  201802  NORDESTE  PE  CABO DE SANTO AGOSTINHO  NaN  0000027   \n",
       "2  201803  NORDESTE  PE  CABO DE SANTO AGOSTINHO  NaN  0000027   \n",
       "3  201804  NORDESTE  PE  CABO DE SANTO AGOSTINHO  NaN  0000027   \n",
       "4  201805  NORDESTE  PE  CABO DE SANTO AGOSTINHO  NaN  0000027   \n",
       "\n",
       "                          V40                                            V41  \\\n",
       "0  CASA DE SAUDE SANTA HELENA  CASA DE SAUDE E MATERNIDADE SANTA HELENA LTDA   \n",
       "1  CASA DE SAUDE SANTA HELENA  CASA DE SAUDE E MATERNIDADE SANTA HELENA LTDA   \n",
       "2  CASA DE SAUDE SANTA HELENA  CASA DE SAUDE E MATERNIDADE SANTA HELENA LTDA   \n",
       "3  CASA DE SAUDE SANTA HELENA  CASA DE SAUDE E MATERNIDADE SANTA HELENA LTDA   \n",
       "4  CASA DE SAUDE SANTA HELENA  CASA DE SAUDE E MATERNIDADE SANTA HELENA LTDA   \n",
       "\n",
       "  V42 V43  ...  V58  V59  V60  V61  V62  V63  V64  V65  V66 V67  \n",
       "0   M  05  ...  0.0  0.0  0.0  0.0  0.0  0.0  0.0  0.0  0.0   0  \n",
       "1   M  05  ...  0.0  0.0  0.0  0.0  0.0  0.0  0.0  0.0  0.0   0  \n",
       "2   M  05  ...  0.0  0.0  0.0  0.0  0.0  0.0  0.0  0.0  0.0   0  \n",
       "3   M  05  ...  0.0  0.0  0.0  0.0  0.0  0.0  0.0  0.0  0.0   0  \n",
       "4   M  05  ...  0.0  0.0  0.0  0.0  0.0  0.0  0.0  0.0  0.0   0  \n",
       "\n",
       "[5 rows x 34 columns]"
      ]
     },
     "execution_count": 51,
     "metadata": {},
     "output_type": "execute_result"
    }
   ],
   "source": [
    "df.head()"
   ]
  },
  {
   "cell_type": "code",
   "execution_count": 52,
   "metadata": {},
   "outputs": [
    {
     "name": "stdout",
     "output_type": "stream",
     "text": [
      "<class 'pandas.core.frame.DataFrame'>\n",
      "RangeIndex: 82963 entries, 0 to 82962\n",
      "Data columns (total 34 columns):\n",
      " #   Column  Non-Null Count  Dtype  \n",
      "---  ------  --------------  -----  \n",
      " 0   V34     82832 non-null  object \n",
      " 1   V35     82832 non-null  object \n",
      " 2   V36     82832 non-null  object \n",
      " 3   V37     82832 non-null  object \n",
      " 4   V38     0 non-null      float64\n",
      " 5   V39     82832 non-null  object \n",
      " 6   V40     82832 non-null  object \n",
      " 7   V41     82832 non-null  object \n",
      " 8   V42     82832 non-null  object \n",
      " 9   V43     82832 non-null  object \n",
      " 10  V44     82832 non-null  object \n",
      " 11  V45     82832 non-null  object \n",
      " 12  V46     82832 non-null  object \n",
      " 13  V47     82832 non-null  object \n",
      " 14  V48     82832 non-null  object \n",
      " 15  V49     13658 non-null  object \n",
      " 16  V50     82832 non-null  object \n",
      " 17  V51     82832 non-null  object \n",
      " 18  V52     76531 non-null  object \n",
      " 19  V53     52640 non-null  object \n",
      " 20  V54     82832 non-null  object \n",
      " 21  V55     82832 non-null  object \n",
      " 22  V56     82832 non-null  float64\n",
      " 23  V57     82832 non-null  float64\n",
      " 24  V58     82832 non-null  float64\n",
      " 25  V59     82832 non-null  float64\n",
      " 26  V60     82832 non-null  float64\n",
      " 27  V61     82832 non-null  float64\n",
      " 28  V62     82832 non-null  float64\n",
      " 29  V63     82832 non-null  float64\n",
      " 30  V64     82832 non-null  float64\n",
      " 31  V65     82832 non-null  float64\n",
      " 32  V66     82832 non-null  float64\n",
      " 33  V67     82832 non-null  object \n",
      "dtypes: float64(12), object(22)\n",
      "memory usage: 21.5+ MB\n"
     ]
    }
   ],
   "source": [
    "df.info()"
   ]
  },
  {
   "cell_type": "code",
   "execution_count": 53,
   "metadata": {},
   "outputs": [
    {
     "data": {
      "text/plain": [
       "array(['0', '8', '10', '2', '20', '14', '4', '', nan, '5', '3', '1', '6',\n",
       "       '13', '18'], dtype=object)"
      ]
     },
     "execution_count": 53,
     "metadata": {},
     "output_type": "execute_result"
    }
   ],
   "source": [
    "df[\"V67\"].unique()"
   ]
  },
  {
   "cell_type": "code",
   "execution_count": 54,
   "metadata": {},
   "outputs": [
    {
     "data": {
      "text/plain": [
       "array(['201801', '201802', '201803', '201804', '201805', '201806',\n",
       "       '201807', '201808', '201809', '201810', '201811', '201812', nan],\n",
       "      dtype=object)"
      ]
     },
     "execution_count": 54,
     "metadata": {},
     "output_type": "execute_result"
    }
   ],
   "source": [
    "df[\"V34\"].unique()"
   ]
  },
  {
   "cell_type": "code",
   "execution_count": 55,
   "metadata": {},
   "outputs": [],
   "source": [
    "coluna = df['V34']\n",
    "df['V34'] = coluna.astype(float)"
   ]
  },
  {
   "cell_type": "code",
   "execution_count": 56,
   "metadata": {},
   "outputs": [],
   "source": [
    "coluna = df['V43']\n",
    "df['V43'] = coluna.astype(float)"
   ]
  },
  {
   "cell_type": "code",
   "execution_count": 57,
   "metadata": {},
   "outputs": [],
   "source": [
    "coluna = df['V45']\n",
    "df['V45'] = coluna.astype(float)"
   ]
  },
  {
   "cell_type": "code",
   "execution_count": 58,
   "metadata": {},
   "outputs": [],
   "source": [
    "coluna = df['V51']\n",
    "df['V51'] = coluna.astype(float)"
   ]
  },
  {
   "cell_type": "code",
   "execution_count": 59,
   "metadata": {},
   "outputs": [
    {
     "data": {
      "text/plain": [
       "array(['64', '38', '32', '59', '37', '413', '416', '407', '482', '620',\n",
       "       '1075', '425', '12', '200', '193', '243', '239', '830', '44', '61',\n",
       "       '88', '50', '744', '2', '164', '119', '235', '101', '283', '370',\n",
       "       '15', '128', '142', '123', '58', '185', '140', '5', '139', '234',\n",
       "       '100', '352', '356', '326', '263', '477', '78', '700', '730',\n",
       "       '737', '247', '159', '209', '213', '116', '153', '165', '57', '94',\n",
       "       '93', '415', '314', '178', '412', '240', '9', '79', '36', '74',\n",
       "       '84', '55', '91', '120', '30', '54', '11', '134', '146', '149',\n",
       "       '45', '199', '173', '174', '212', '17', '66', '18', '1', '87',\n",
       "       '83', '362', '229', '230', '625', '628', '613', '624', '115', '62',\n",
       "       '27', '662', '702', '319', '351', '357', '359', '389', '421',\n",
       "       '430', '449', '443', '277', '249', '258', '255', '253', '147',\n",
       "       '144', '327', '323', '124', '242', '98', '86', '237', '151', '273',\n",
       "       '267', '69', '99', '210', '155', '3', '445', '156', '918', '957',\n",
       "       '1053', '20', '48', '148', '92', '28', '16', '568', '217', '224',\n",
       "       '222', '232', '206', '42', '369', '22', '150', '6', '60', '114',\n",
       "       '34', '434', '270', '52', '89', '130', '160', '400', '96', '97',\n",
       "       '105', '198', '76', '31', '187', '127', '68', '121', '29', '275',\n",
       "       '162', '167', '166', '320', '391', '577', '487', '157', '106',\n",
       "       '108', '104', '971', '337', '504', '82', '33', '8', '23', '49',\n",
       "       '340', '14', '181', '113', '25', '41', '103', '65', '13', '40',\n",
       "       '118', '135', '343', '422', '442', '251', '39', '102', '132', '43',\n",
       "       '354', '77', '112', '312', '225', '287', '310', '281', '24', '311',\n",
       "       '145', '35', '80', '223', '81', '26', '21', '19', '70', '10', '53',\n",
       "       '90', '47', '131', '138', '179', '171', '180', '182', '175', '95',\n",
       "       '227', '244', '73', '56', '111', '72', '126', '197', '205', '306',\n",
       "       '657', '670', '664', '67', '298', '125', '886', '172', '117',\n",
       "       '110', '107', '280', '170', '158', '508', '451', '163', '262',\n",
       "       '914', '910', '136', '219', '176', '177', '186', '726', '812',\n",
       "       '318', '360', '355', '396', '190', '305', '248', '260', '161',\n",
       "       '1543', '129', '143', '133', '75', '154', '152', '403', '406',\n",
       "       '228', '335', '338', '63', '71', '469', '349', '191', '233', '46',\n",
       "       '615', '317', '85', '51', '215', '300', '299', '392', '395', '202',\n",
       "       '1079', '292', '204', '220', '322', '315', '334', '333', '307',\n",
       "       '183', '196', '201', '257', '216', '221', '397', '296', '819',\n",
       "       '823', '827', '848', '254', '610', '192', '189', '218', '169',\n",
       "       '304', '345', '331', '141', '4', '308', '122', '272', '279', '817',\n",
       "       '274', '265', '168', '207', '188', '184', '246', '231', '137',\n",
       "       'com', nan, '293', '516', '538', '507', '506', '387', '290', '461',\n",
       "       '488', '455', '7', \"br'\", '109', '521', '344', '278', '533', '543',\n",
       "       '544', '302', '385', '297', '295', '288', '286', '226', '195',\n",
       "       '203', '411', '1074', '1077', '1070', '1065', '1066', '1080',\n",
       "       '1081', '1321', '988', '866', '860', '347', '447', '374', '631',\n",
       "       '245', '276', '328', '194', '580', '593', '571', '303', '428',\n",
       "       '440', '250', '332', '214', '208', '264', '256', '456', '376',\n",
       "       '540', '536', '236', '241', '404', '289', \"com'\", '313', '371',\n",
       "       '238', '653', '271', \"com.br'\", '259', \" com.br'\", '432', '542',\n",
       "       '550', '586', '321', '380', '520', '282', '353', '366', '329',\n",
       "       '285', '266', '261', '339', '381', '377', '457', '324', '1210',\n",
       "       '1198', '378', \"supertec@hospitaldabaleia.org.br'\", '591', '464',\n",
       "       '500', '472', '211', '460', \"to.gov.br'\", '363', '294', '450',\n",
       "       '603', '535', '954', '444', '567', '480', '291', '438', '468',\n",
       "       '301', '552', '601', '473', '368', '373',\n",
       "       \" nucleoinsbot@oi.com.br'\", '365', '470', 16, 21, 53, 29, 25, 73,\n",
       "       14, 28, 174, 60, 75, 40, 113, 46, 18, 11, 9, 12, 1, 61, 71, 2, 30,\n",
       "       45, 10, 66, 44, 8, 56, 143, 144, 23, 140, 160, 101, 184, 5, 3, 82,\n",
       "       69, 33, 78, 6, 100, 120, 130, 210, 4, 129, 58, 65, 104, 114, 115,\n",
       "       116, 88, 142, 35, 112, 52, 240, 162, 36, 38, 126, 42, 20, 13, 70,\n",
       "       39, 15, 50, 55, 546, 7, 27, 93, 49, 89, 80, 64, 85, 19, 22, 48,\n",
       "       121, 24, 81, 176, 79, 110], dtype=object)"
      ]
     },
     "execution_count": 59,
     "metadata": {},
     "output_type": "execute_result"
    }
   ],
   "source": [
    "df[\"V54\"].unique()"
   ]
  },
  {
   "cell_type": "code",
   "execution_count": 60,
   "metadata": {},
   "outputs": [],
   "source": [
    "df[\"V54\"] =df[\"V54\"].replace(\" com.br'\", None)"
   ]
  },
  {
   "cell_type": "code",
   "execution_count": 61,
   "metadata": {},
   "outputs": [],
   "source": [
    "df[\"V54\"] =df[\"V54\"].replace(\"com\", None)"
   ]
  },
  {
   "cell_type": "code",
   "execution_count": 62,
   "metadata": {},
   "outputs": [],
   "source": [
    "df[\"V54\"] =df[\"V54\"].replace(\"supertec@hospitaldabaleia.org.br'\", None)"
   ]
  },
  {
   "cell_type": "code",
   "execution_count": 63,
   "metadata": {},
   "outputs": [],
   "source": [
    "df[\"V54\"] =df[\"V54\"].replace(\" nucleoinsbot@oi.com.br'\", None)"
   ]
  },
  {
   "cell_type": "code",
   "execution_count": 64,
   "metadata": {},
   "outputs": [],
   "source": [
    "df[\"V54\"] =df[\"V54\"].replace(\"to.gov.br'\", None) "
   ]
  },
  {
   "cell_type": "code",
   "execution_count": 65,
   "metadata": {},
   "outputs": [],
   "source": [
    "df[\"V54\"] =df[\"V54\"].replace(\"br'\", None) "
   ]
  },
  {
   "cell_type": "code",
   "execution_count": 66,
   "metadata": {},
   "outputs": [],
   "source": [
    "df[\"V54\"] =df[\"V54\"].replace(\"com'\", None) "
   ]
  },
  {
   "cell_type": "code",
   "execution_count": 67,
   "metadata": {},
   "outputs": [
    {
     "ename": "ValueError",
     "evalue": "could not convert string to float: \"com.br'\"",
     "output_type": "error",
     "traceback": [
      "\u001b[1;31m---------------------------------------------------------------------------\u001b[0m",
      "\u001b[1;31mValueError\u001b[0m                                Traceback (most recent call last)",
      "Cell \u001b[1;32mIn[67], line 2\u001b[0m\n\u001b[0;32m      1\u001b[0m coluna \u001b[39m=\u001b[39m df[\u001b[39m'\u001b[39m\u001b[39mV54\u001b[39m\u001b[39m'\u001b[39m]\n\u001b[1;32m----> 2\u001b[0m df[\u001b[39m'\u001b[39m\u001b[39mV54\u001b[39m\u001b[39m'\u001b[39m] \u001b[39m=\u001b[39m coluna\u001b[39m.\u001b[39;49mastype(\u001b[39mfloat\u001b[39;49m)\n",
      "File \u001b[1;32mc:\\Users\\Clara Aquino\\AppData\\Local\\Programs\\Python\\Python311\\Lib\\site-packages\\pandas\\core\\generic.py:6324\u001b[0m, in \u001b[0;36mNDFrame.astype\u001b[1;34m(self, dtype, copy, errors)\u001b[0m\n\u001b[0;32m   6317\u001b[0m     results \u001b[39m=\u001b[39m [\n\u001b[0;32m   6318\u001b[0m         \u001b[39mself\u001b[39m\u001b[39m.\u001b[39miloc[:, i]\u001b[39m.\u001b[39mastype(dtype, copy\u001b[39m=\u001b[39mcopy)\n\u001b[0;32m   6319\u001b[0m         \u001b[39mfor\u001b[39;00m i \u001b[39min\u001b[39;00m \u001b[39mrange\u001b[39m(\u001b[39mlen\u001b[39m(\u001b[39mself\u001b[39m\u001b[39m.\u001b[39mcolumns))\n\u001b[0;32m   6320\u001b[0m     ]\n\u001b[0;32m   6322\u001b[0m \u001b[39melse\u001b[39;00m:\n\u001b[0;32m   6323\u001b[0m     \u001b[39m# else, only a single dtype is given\u001b[39;00m\n\u001b[1;32m-> 6324\u001b[0m     new_data \u001b[39m=\u001b[39m \u001b[39mself\u001b[39;49m\u001b[39m.\u001b[39;49m_mgr\u001b[39m.\u001b[39;49mastype(dtype\u001b[39m=\u001b[39;49mdtype, copy\u001b[39m=\u001b[39;49mcopy, errors\u001b[39m=\u001b[39;49merrors)\n\u001b[0;32m   6325\u001b[0m     \u001b[39mreturn\u001b[39;00m \u001b[39mself\u001b[39m\u001b[39m.\u001b[39m_constructor(new_data)\u001b[39m.\u001b[39m__finalize__(\u001b[39mself\u001b[39m, method\u001b[39m=\u001b[39m\u001b[39m\"\u001b[39m\u001b[39mastype\u001b[39m\u001b[39m\"\u001b[39m)\n\u001b[0;32m   6327\u001b[0m \u001b[39m# GH 33113: handle empty frame or series\u001b[39;00m\n",
      "File \u001b[1;32mc:\\Users\\Clara Aquino\\AppData\\Local\\Programs\\Python\\Python311\\Lib\\site-packages\\pandas\\core\\internals\\managers.py:451\u001b[0m, in \u001b[0;36mBaseBlockManager.astype\u001b[1;34m(self, dtype, copy, errors)\u001b[0m\n\u001b[0;32m    448\u001b[0m \u001b[39melif\u001b[39;00m using_copy_on_write():\n\u001b[0;32m    449\u001b[0m     copy \u001b[39m=\u001b[39m \u001b[39mFalse\u001b[39;00m\n\u001b[1;32m--> 451\u001b[0m \u001b[39mreturn\u001b[39;00m \u001b[39mself\u001b[39;49m\u001b[39m.\u001b[39;49mapply(\n\u001b[0;32m    452\u001b[0m     \u001b[39m\"\u001b[39;49m\u001b[39mastype\u001b[39;49m\u001b[39m\"\u001b[39;49m,\n\u001b[0;32m    453\u001b[0m     dtype\u001b[39m=\u001b[39;49mdtype,\n\u001b[0;32m    454\u001b[0m     copy\u001b[39m=\u001b[39;49mcopy,\n\u001b[0;32m    455\u001b[0m     errors\u001b[39m=\u001b[39;49merrors,\n\u001b[0;32m    456\u001b[0m     using_cow\u001b[39m=\u001b[39;49musing_copy_on_write(),\n\u001b[0;32m    457\u001b[0m )\n",
      "File \u001b[1;32mc:\\Users\\Clara Aquino\\AppData\\Local\\Programs\\Python\\Python311\\Lib\\site-packages\\pandas\\core\\internals\\managers.py:352\u001b[0m, in \u001b[0;36mBaseBlockManager.apply\u001b[1;34m(self, f, align_keys, **kwargs)\u001b[0m\n\u001b[0;32m    350\u001b[0m         applied \u001b[39m=\u001b[39m b\u001b[39m.\u001b[39mapply(f, \u001b[39m*\u001b[39m\u001b[39m*\u001b[39mkwargs)\n\u001b[0;32m    351\u001b[0m     \u001b[39melse\u001b[39;00m:\n\u001b[1;32m--> 352\u001b[0m         applied \u001b[39m=\u001b[39m \u001b[39mgetattr\u001b[39;49m(b, f)(\u001b[39m*\u001b[39;49m\u001b[39m*\u001b[39;49mkwargs)\n\u001b[0;32m    353\u001b[0m     result_blocks \u001b[39m=\u001b[39m extend_blocks(applied, result_blocks)\n\u001b[0;32m    355\u001b[0m out \u001b[39m=\u001b[39m \u001b[39mtype\u001b[39m(\u001b[39mself\u001b[39m)\u001b[39m.\u001b[39mfrom_blocks(result_blocks, \u001b[39mself\u001b[39m\u001b[39m.\u001b[39maxes)\n",
      "File \u001b[1;32mc:\\Users\\Clara Aquino\\AppData\\Local\\Programs\\Python\\Python311\\Lib\\site-packages\\pandas\\core\\internals\\blocks.py:511\u001b[0m, in \u001b[0;36mBlock.astype\u001b[1;34m(self, dtype, copy, errors, using_cow)\u001b[0m\n\u001b[0;32m    491\u001b[0m \u001b[39m\u001b[39m\u001b[39m\"\"\"\u001b[39;00m\n\u001b[0;32m    492\u001b[0m \u001b[39mCoerce to the new dtype.\u001b[39;00m\n\u001b[0;32m    493\u001b[0m \n\u001b[1;32m   (...)\u001b[0m\n\u001b[0;32m    507\u001b[0m \u001b[39mBlock\u001b[39;00m\n\u001b[0;32m    508\u001b[0m \u001b[39m\"\"\"\u001b[39;00m\n\u001b[0;32m    509\u001b[0m values \u001b[39m=\u001b[39m \u001b[39mself\u001b[39m\u001b[39m.\u001b[39mvalues\n\u001b[1;32m--> 511\u001b[0m new_values \u001b[39m=\u001b[39m astype_array_safe(values, dtype, copy\u001b[39m=\u001b[39;49mcopy, errors\u001b[39m=\u001b[39;49merrors)\n\u001b[0;32m    513\u001b[0m new_values \u001b[39m=\u001b[39m maybe_coerce_values(new_values)\n\u001b[0;32m    515\u001b[0m refs \u001b[39m=\u001b[39m \u001b[39mNone\u001b[39;00m\n",
      "File \u001b[1;32mc:\\Users\\Clara Aquino\\AppData\\Local\\Programs\\Python\\Python311\\Lib\\site-packages\\pandas\\core\\dtypes\\astype.py:242\u001b[0m, in \u001b[0;36mastype_array_safe\u001b[1;34m(values, dtype, copy, errors)\u001b[0m\n\u001b[0;32m    239\u001b[0m     dtype \u001b[39m=\u001b[39m dtype\u001b[39m.\u001b[39mnumpy_dtype\n\u001b[0;32m    241\u001b[0m \u001b[39mtry\u001b[39;00m:\n\u001b[1;32m--> 242\u001b[0m     new_values \u001b[39m=\u001b[39m astype_array(values, dtype, copy\u001b[39m=\u001b[39;49mcopy)\n\u001b[0;32m    243\u001b[0m \u001b[39mexcept\u001b[39;00m (\u001b[39mValueError\u001b[39;00m, \u001b[39mTypeError\u001b[39;00m):\n\u001b[0;32m    244\u001b[0m     \u001b[39m# e.g. _astype_nansafe can fail on object-dtype of strings\u001b[39;00m\n\u001b[0;32m    245\u001b[0m     \u001b[39m#  trying to convert to float\u001b[39;00m\n\u001b[0;32m    246\u001b[0m     \u001b[39mif\u001b[39;00m errors \u001b[39m==\u001b[39m \u001b[39m\"\u001b[39m\u001b[39mignore\u001b[39m\u001b[39m\"\u001b[39m:\n",
      "File \u001b[1;32mc:\\Users\\Clara Aquino\\AppData\\Local\\Programs\\Python\\Python311\\Lib\\site-packages\\pandas\\core\\dtypes\\astype.py:187\u001b[0m, in \u001b[0;36mastype_array\u001b[1;34m(values, dtype, copy)\u001b[0m\n\u001b[0;32m    184\u001b[0m     values \u001b[39m=\u001b[39m values\u001b[39m.\u001b[39mastype(dtype, copy\u001b[39m=\u001b[39mcopy)\n\u001b[0;32m    186\u001b[0m \u001b[39melse\u001b[39;00m:\n\u001b[1;32m--> 187\u001b[0m     values \u001b[39m=\u001b[39m _astype_nansafe(values, dtype, copy\u001b[39m=\u001b[39;49mcopy)\n\u001b[0;32m    189\u001b[0m \u001b[39m# in pandas we don't store numpy str dtypes, so convert to object\u001b[39;00m\n\u001b[0;32m    190\u001b[0m \u001b[39mif\u001b[39;00m \u001b[39misinstance\u001b[39m(dtype, np\u001b[39m.\u001b[39mdtype) \u001b[39mand\u001b[39;00m \u001b[39missubclass\u001b[39m(values\u001b[39m.\u001b[39mdtype\u001b[39m.\u001b[39mtype, \u001b[39mstr\u001b[39m):\n",
      "File \u001b[1;32mc:\\Users\\Clara Aquino\\AppData\\Local\\Programs\\Python\\Python311\\Lib\\site-packages\\pandas\\core\\dtypes\\astype.py:138\u001b[0m, in \u001b[0;36m_astype_nansafe\u001b[1;34m(arr, dtype, copy, skipna)\u001b[0m\n\u001b[0;32m    134\u001b[0m     \u001b[39mraise\u001b[39;00m \u001b[39mValueError\u001b[39;00m(msg)\n\u001b[0;32m    136\u001b[0m \u001b[39mif\u001b[39;00m copy \u001b[39mor\u001b[39;00m is_object_dtype(arr\u001b[39m.\u001b[39mdtype) \u001b[39mor\u001b[39;00m is_object_dtype(dtype):\n\u001b[0;32m    137\u001b[0m     \u001b[39m# Explicit copy, or required since NumPy can't view from / to object.\u001b[39;00m\n\u001b[1;32m--> 138\u001b[0m     \u001b[39mreturn\u001b[39;00m arr\u001b[39m.\u001b[39;49mastype(dtype, copy\u001b[39m=\u001b[39;49m\u001b[39mTrue\u001b[39;49;00m)\n\u001b[0;32m    140\u001b[0m \u001b[39mreturn\u001b[39;00m arr\u001b[39m.\u001b[39mastype(dtype, copy\u001b[39m=\u001b[39mcopy)\n",
      "\u001b[1;31mValueError\u001b[0m: could not convert string to float: \"com.br'\""
     ]
    }
   ],
   "source": [
    "coluna = df['V54']\n",
    "df['V54'] = coluna.astype(float)"
   ]
  },
  {
   "cell_type": "code",
   "execution_count": 68,
   "metadata": {},
   "outputs": [],
   "source": [
    "df[\"V55\"] =df[\"V55\"].replace(\"br'\", None) "
   ]
  },
  {
   "cell_type": "code",
   "execution_count": 69,
   "metadata": {},
   "outputs": [],
   "source": [
    "df[\"V55\"] =df[\"V55\"].replace(\"br'\", None) "
   ]
  },
  {
   "cell_type": "code",
   "execution_count": 70,
   "metadata": {},
   "outputs": [],
   "source": [
    "coluna = df['V55']\n",
    "df['V55'] = coluna.astype(float)"
   ]
  },
  {
   "cell_type": "code",
   "execution_count": 71,
   "metadata": {},
   "outputs": [],
   "source": [
    "df[\"V67\"] =df[\"V67\"].replace(\"\", None) "
   ]
  },
  {
   "cell_type": "code",
   "execution_count": 72,
   "metadata": {},
   "outputs": [],
   "source": [
    "coluna = df['V67']\n",
    "df['V67'] = coluna.astype(float)"
   ]
  },
  {
   "cell_type": "code",
   "execution_count": 73,
   "metadata": {},
   "outputs": [
    {
     "name": "stdout",
     "output_type": "stream",
     "text": [
      "<class 'pandas.core.frame.DataFrame'>\n",
      "RangeIndex: 82963 entries, 0 to 82962\n",
      "Data columns (total 34 columns):\n",
      " #   Column  Non-Null Count  Dtype  \n",
      "---  ------  --------------  -----  \n",
      " 0   V34     82832 non-null  float64\n",
      " 1   V35     82832 non-null  object \n",
      " 2   V36     82832 non-null  object \n",
      " 3   V37     82832 non-null  object \n",
      " 4   V38     0 non-null      float64\n",
      " 5   V39     82832 non-null  object \n",
      " 6   V40     82832 non-null  object \n",
      " 7   V41     82832 non-null  object \n",
      " 8   V42     82832 non-null  object \n",
      " 9   V43     82832 non-null  float64\n",
      " 10  V44     82832 non-null  object \n",
      " 11  V45     82832 non-null  float64\n",
      " 12  V46     82832 non-null  object \n",
      " 13  V47     82832 non-null  object \n",
      " 14  V48     82832 non-null  object \n",
      " 15  V49     13658 non-null  object \n",
      " 16  V50     82832 non-null  object \n",
      " 17  V51     82832 non-null  float64\n",
      " 18  V52     76531 non-null  object \n",
      " 19  V53     52640 non-null  object \n",
      " 20  V54     82736 non-null  object \n",
      " 21  V55     82820 non-null  float64\n",
      " 22  V56     82832 non-null  float64\n",
      " 23  V57     82832 non-null  float64\n",
      " 24  V58     82832 non-null  float64\n",
      " 25  V59     82832 non-null  float64\n",
      " 26  V60     82832 non-null  float64\n",
      " 27  V61     82832 non-null  float64\n",
      " 28  V62     82832 non-null  float64\n",
      " 29  V63     82832 non-null  float64\n",
      " 30  V64     82832 non-null  float64\n",
      " 31  V65     82832 non-null  float64\n",
      " 32  V66     82832 non-null  float64\n",
      " 33  V67     82701 non-null  float64\n",
      "dtypes: float64(18), object(16)\n",
      "memory usage: 21.5+ MB\n"
     ]
    }
   ],
   "source": [
    "df.info()"
   ]
  },
  {
   "cell_type": "code",
   "execution_count": 74,
   "metadata": {},
   "outputs": [],
   "source": [
    "new_names = ['COMP', 'REGIAO', 'UF', 'MUNICIPIO', 'MOTIVO DESABILITACAO', 'CNES',\n",
    "       'NOME ESTABELECIMENTO', 'RAZAO SOCIAL', 'TP_GESTAO', 'CO_TIPO_UNIDADE',\n",
    "       'DS_TIPO_UNIDADE', 'NATUREZA_JURIDICA', 'DESC_NATUREZA_JURIDICA',\n",
    "       'NO_LOGRADOURO', 'NU_ENDERECO', 'NO_COMPLEMENTO', 'NO_BAIRRO', 'CO_CEP',\n",
    "       'NU_TELEFONE', 'NO_EMAIL', 'LEITOS EXISTENTE', 'LEITOS SUS',\n",
    "       'UTI TOTAL - EXIST', 'UTI TOTAL - SUS', 'UTI ADULTO - EXIST',\n",
    "       'UTI ADULTO - SUS', 'UTI PEDIATRICO - EXIST', 'UTI PEDIATRICO - SUS',\n",
    "       'UTI NEONATAL - EXIST', 'UTI NEONATAL - SUS', 'UTI QUEIMADO - EXIST',\n",
    "       'UTI QUEIMADO - SUS', 'UTI CORONARIANA - EXIST',\n",
    "       'UTI CORONARIANA - SUS']\n",
    "df.columns = new_names"
   ]
  },
  {
   "cell_type": "code",
   "execution_count": 75,
   "metadata": {},
   "outputs": [],
   "source": [
    "df.to_csv('dados_atualizados.csv', index=False)"
   ]
  },
  {
   "cell_type": "markdown",
   "metadata": {},
   "source": [
    "##### ajeitando os dados de 2023"
   ]
  },
  {
   "cell_type": "code",
   "execution_count": 76,
   "metadata": {},
   "outputs": [],
   "source": [
    "dt = pd.read_csv(\"OLeitos_2023.csv\", header=None, skiprows=1, encoding='ISO-8859-1')"
   ]
  },
  {
   "cell_type": "code",
   "execution_count": 77,
   "metadata": {},
   "outputs": [
    {
     "data": {
      "text/html": [
       "<div>\n",
       "<style scoped>\n",
       "    .dataframe tbody tr th:only-of-type {\n",
       "        vertical-align: middle;\n",
       "    }\n",
       "\n",
       "    .dataframe tbody tr th {\n",
       "        vertical-align: top;\n",
       "    }\n",
       "\n",
       "    .dataframe thead th {\n",
       "        text-align: right;\n",
       "    }\n",
       "</style>\n",
       "<table border=\"1\" class=\"dataframe\">\n",
       "  <thead>\n",
       "    <tr style=\"text-align: right;\">\n",
       "      <th></th>\n",
       "      <th>0</th>\n",
       "      <th>1</th>\n",
       "      <th>2</th>\n",
       "      <th>3</th>\n",
       "      <th>4</th>\n",
       "      <th>5</th>\n",
       "      <th>6</th>\n",
       "      <th>7</th>\n",
       "      <th>8</th>\n",
       "      <th>9</th>\n",
       "      <th>...</th>\n",
       "      <th>24</th>\n",
       "      <th>25</th>\n",
       "      <th>26</th>\n",
       "      <th>27</th>\n",
       "      <th>28</th>\n",
       "      <th>29</th>\n",
       "      <th>30</th>\n",
       "      <th>31</th>\n",
       "      <th>32</th>\n",
       "      <th>33</th>\n",
       "    </tr>\n",
       "  </thead>\n",
       "  <tbody>\n",
       "    <tr>\n",
       "      <th>0</th>\n",
       "      <td>202301</td>\n",
       "      <td>NORDESTE</td>\n",
       "      <td>PE</td>\n",
       "      <td>CABO DE SANTO AGOSTINHO</td>\n",
       "      <td>NaN</td>\n",
       "      <td>27</td>\n",
       "      <td>CASA DE SAUDE SANTA HELENA</td>\n",
       "      <td>CASA DE SAUDE E MATERNIDADE SANTA HELENA LTDA</td>\n",
       "      <td>M</td>\n",
       "      <td>5</td>\n",
       "      <td>...</td>\n",
       "      <td>0</td>\n",
       "      <td>0</td>\n",
       "      <td>0</td>\n",
       "      <td>0</td>\n",
       "      <td>0</td>\n",
       "      <td>0</td>\n",
       "      <td>0</td>\n",
       "      <td>0</td>\n",
       "      <td>0</td>\n",
       "      <td>0</td>\n",
       "    </tr>\n",
       "    <tr>\n",
       "      <th>1</th>\n",
       "      <td>202301</td>\n",
       "      <td>NORDESTE</td>\n",
       "      <td>PE</td>\n",
       "      <td>CABO DE SANTO AGOSTINHO</td>\n",
       "      <td>NaN</td>\n",
       "      <td>35</td>\n",
       "      <td>HOSPITAL MENDO SAMPAIO</td>\n",
       "      <td>PREFEITURA MUNICIPAL DO CABO DE SANTO AGOSTINHO</td>\n",
       "      <td>M</td>\n",
       "      <td>5</td>\n",
       "      <td>...</td>\n",
       "      <td>0</td>\n",
       "      <td>0</td>\n",
       "      <td>0</td>\n",
       "      <td>0</td>\n",
       "      <td>0</td>\n",
       "      <td>0</td>\n",
       "      <td>0</td>\n",
       "      <td>0</td>\n",
       "      <td>0</td>\n",
       "      <td>0</td>\n",
       "    </tr>\n",
       "    <tr>\n",
       "      <th>2</th>\n",
       "      <td>202301</td>\n",
       "      <td>NORDESTE</td>\n",
       "      <td>PE</td>\n",
       "      <td>CABO DE SANTO AGOSTINHO</td>\n",
       "      <td>NaN</td>\n",
       "      <td>94</td>\n",
       "      <td>MATERNIDADE PADRE GERALDO LEITE BASTOS</td>\n",
       "      <td>PREFEITURA MUNICIPAL DO CABO DE SANTO AGOSTINHO</td>\n",
       "      <td>M</td>\n",
       "      <td>7</td>\n",
       "      <td>...</td>\n",
       "      <td>0</td>\n",
       "      <td>0</td>\n",
       "      <td>0</td>\n",
       "      <td>0</td>\n",
       "      <td>0</td>\n",
       "      <td>0</td>\n",
       "      <td>0</td>\n",
       "      <td>0</td>\n",
       "      <td>0</td>\n",
       "      <td>0</td>\n",
       "    </tr>\n",
       "    <tr>\n",
       "      <th>3</th>\n",
       "      <td>202301</td>\n",
       "      <td>NORDESTE</td>\n",
       "      <td>PE</td>\n",
       "      <td>CABO DE SANTO AGOSTINHO</td>\n",
       "      <td>NaN</td>\n",
       "      <td>183</td>\n",
       "      <td>HOSPITAL SAMARITANO</td>\n",
       "      <td>SOCIEDADE HOSPITALAR SAMARITANO LTDA</td>\n",
       "      <td>M</td>\n",
       "      <td>5</td>\n",
       "      <td>...</td>\n",
       "      <td>5</td>\n",
       "      <td>0</td>\n",
       "      <td>0</td>\n",
       "      <td>0</td>\n",
       "      <td>0</td>\n",
       "      <td>0</td>\n",
       "      <td>0</td>\n",
       "      <td>0</td>\n",
       "      <td>0</td>\n",
       "      <td>0</td>\n",
       "    </tr>\n",
       "    <tr>\n",
       "      <th>4</th>\n",
       "      <td>202301</td>\n",
       "      <td>NORDESTE</td>\n",
       "      <td>PE</td>\n",
       "      <td>CABO DE SANTO AGOSTINHO</td>\n",
       "      <td>NaN</td>\n",
       "      <td>221</td>\n",
       "      <td>HOSPITAL SAO SEBASTIAO</td>\n",
       "      <td>CASA DE SAUDE E MATERNIDADE SAO SEBASTIAO LTDA</td>\n",
       "      <td>M</td>\n",
       "      <td>5</td>\n",
       "      <td>...</td>\n",
       "      <td>10</td>\n",
       "      <td>0</td>\n",
       "      <td>0</td>\n",
       "      <td>0</td>\n",
       "      <td>0</td>\n",
       "      <td>0</td>\n",
       "      <td>0</td>\n",
       "      <td>0</td>\n",
       "      <td>0</td>\n",
       "      <td>0</td>\n",
       "    </tr>\n",
       "  </tbody>\n",
       "</table>\n",
       "<p>5 rows × 34 columns</p>\n",
       "</div>"
      ],
      "text/plain": [
       "       0         1   2                        3   4    5   \\\n",
       "0  202301  NORDESTE  PE  CABO DE SANTO AGOSTINHO NaN   27   \n",
       "1  202301  NORDESTE  PE  CABO DE SANTO AGOSTINHO NaN   35   \n",
       "2  202301  NORDESTE  PE  CABO DE SANTO AGOSTINHO NaN   94   \n",
       "3  202301  NORDESTE  PE  CABO DE SANTO AGOSTINHO NaN  183   \n",
       "4  202301  NORDESTE  PE  CABO DE SANTO AGOSTINHO NaN  221   \n",
       "\n",
       "                                       6   \\\n",
       "0              CASA DE SAUDE SANTA HELENA   \n",
       "1                  HOSPITAL MENDO SAMPAIO   \n",
       "2  MATERNIDADE PADRE GERALDO LEITE BASTOS   \n",
       "3                     HOSPITAL SAMARITANO   \n",
       "4                  HOSPITAL SAO SEBASTIAO   \n",
       "\n",
       "                                                7  8   9   ...  24  25 26 27  \\\n",
       "0    CASA DE SAUDE E MATERNIDADE SANTA HELENA LTDA  M   5  ...   0   0  0  0   \n",
       "1  PREFEITURA MUNICIPAL DO CABO DE SANTO AGOSTINHO  M   5  ...   0   0  0  0   \n",
       "2  PREFEITURA MUNICIPAL DO CABO DE SANTO AGOSTINHO  M   7  ...   0   0  0  0   \n",
       "3             SOCIEDADE HOSPITALAR SAMARITANO LTDA  M   5  ...   5   0  0  0   \n",
       "4   CASA DE SAUDE E MATERNIDADE SAO SEBASTIAO LTDA  M   5  ...  10   0  0  0   \n",
       "\n",
       "  28 29 30  31 32 33  \n",
       "0  0  0  0   0  0  0  \n",
       "1  0  0  0   0  0  0  \n",
       "2  0  0  0   0  0  0  \n",
       "3  0  0  0   0  0  0  \n",
       "4  0  0  0   0  0  0  \n",
       "\n",
       "[5 rows x 34 columns]"
      ]
     },
     "execution_count": 77,
     "metadata": {},
     "output_type": "execute_result"
    }
   ],
   "source": [
    "dt.head()"
   ]
  },
  {
   "cell_type": "code",
   "execution_count": 78,
   "metadata": {},
   "outputs": [],
   "source": [
    "dt.columns = ['COMP', 'REGIAO', 'UF', 'MUNICIPIO', 'MOTIVO DESABILITACAO', 'CNES',\n",
    "       'NOME ESTABELECIMENTO', 'RAZAO SOCIAL', 'TP_GESTAO', 'CO_TIPO_UNIDADE',\n",
    "       'DS_TIPO_UNIDADE', 'NATUREZA_JURIDICA', 'DESC_NATUREZA_JURIDICA',\n",
    "       'NO_LOGRADOURO', 'NU_ENDERECO', 'NO_COMPLEMENTO', 'NO_BAIRRO', 'CO_CEP',\n",
    "       'NU_TELEFONE', 'NO_EMAIL', 'LEITOS EXISTENTE', 'LEITOS SUS',\n",
    "       'UTI TOTAL - EXIST', 'UTI TOTAL - SUS', 'UTI ADULTO - EXIST',\n",
    "       'UTI ADULTO - SUS', 'UTI PEDIATRICO - EXIST', 'UTI PEDIATRICO - SUS',\n",
    "       'UTI NEONATAL - EXIST', 'UTI NEONATAL - SUS', 'UTI QUEIMADO - EXIST',\n",
    "       'UTI QUEIMADO - SUS', 'UTI CORONARIANA - EXIST',\n",
    "       'UTI CORONARIANA - SUS']"
   ]
  },
  {
   "cell_type": "code",
   "execution_count": 79,
   "metadata": {},
   "outputs": [
    {
     "name": "stdout",
     "output_type": "stream",
     "text": [
      "<class 'pandas.core.frame.DataFrame'>\n",
      "RangeIndex: 42245 entries, 0 to 42244\n",
      "Data columns (total 34 columns):\n",
      " #   Column                   Non-Null Count  Dtype  \n",
      "---  ------                   --------------  -----  \n",
      " 0   COMP                     42245 non-null  int64  \n",
      " 1   REGIAO                   42245 non-null  object \n",
      " 2   UF                       42245 non-null  object \n",
      " 3   MUNICIPIO                42245 non-null  object \n",
      " 4   MOTIVO DESABILITACAO     0 non-null      float64\n",
      " 5   CNES                     42245 non-null  int64  \n",
      " 6   NOME ESTABELECIMENTO     42245 non-null  object \n",
      " 7   RAZAO SOCIAL             42245 non-null  object \n",
      " 8   TP_GESTAO                42245 non-null  object \n",
      " 9   CO_TIPO_UNIDADE          42245 non-null  int64  \n",
      " 10  DS_TIPO_UNIDADE          42245 non-null  object \n",
      " 11  NATUREZA_JURIDICA        42245 non-null  int64  \n",
      " 12  DESC_NATUREZA_JURIDICA   42245 non-null  object \n",
      " 13  NO_LOGRADOURO            42245 non-null  object \n",
      " 14  NU_ENDERECO              42245 non-null  object \n",
      " 15  NO_COMPLEMENTO           7805 non-null   object \n",
      " 16  NO_BAIRRO                42245 non-null  object \n",
      " 17  CO_CEP                   42245 non-null  int64  \n",
      " 18  NU_TELEFONE              37528 non-null  object \n",
      " 19  NO_EMAIL                 27842 non-null  object \n",
      " 20  LEITOS EXISTENTE         42245 non-null  int64  \n",
      " 21  LEITOS SUS               42245 non-null  int64  \n",
      " 22  UTI TOTAL - EXIST        42245 non-null  int64  \n",
      " 23  UTI TOTAL - SUS          42245 non-null  int64  \n",
      " 24  UTI ADULTO - EXIST       42245 non-null  int64  \n",
      " 25  UTI ADULTO - SUS         42245 non-null  int64  \n",
      " 26  UTI PEDIATRICO - EXIST   42245 non-null  int64  \n",
      " 27  UTI PEDIATRICO - SUS     42245 non-null  int64  \n",
      " 28  UTI NEONATAL - EXIST     42245 non-null  int64  \n",
      " 29  UTI NEONATAL - SUS       42245 non-null  int64  \n",
      " 30  UTI QUEIMADO - EXIST     42245 non-null  int64  \n",
      " 31  UTI QUEIMADO - SUS       42245 non-null  int64  \n",
      " 32  UTI CORONARIANA - EXIST  42245 non-null  int64  \n",
      " 33  UTI CORONARIANA - SUS    42245 non-null  int64  \n",
      "dtypes: float64(1), int64(19), object(14)\n",
      "memory usage: 11.0+ MB\n"
     ]
    }
   ],
   "source": [
    "dt.info()"
   ]
  },
  {
   "cell_type": "code",
   "execution_count": 80,
   "metadata": {},
   "outputs": [],
   "source": [
    "dt.to_csv('dados_atualizados.csv', index=False)"
   ]
  }
 ],
 "metadata": {
  "kernelspec": {
   "display_name": "Python 3",
   "language": "python",
   "name": "python3"
  },
  "language_info": {
   "codemirror_mode": {
    "name": "ipython",
    "version": 3
   },
   "file_extension": ".py",
   "mimetype": "text/x-python",
   "name": "python",
   "nbconvert_exporter": "python",
   "pygments_lexer": "ipython3",
   "version": "3.11.4"
  },
  "orig_nbformat": 4
 },
 "nbformat": 4,
 "nbformat_minor": 2
}
