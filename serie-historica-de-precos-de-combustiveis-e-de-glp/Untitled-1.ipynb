{
 "cells": [
  {
   "cell_type": "code",
   "execution_count": 1,
   "metadata": {},
   "outputs": [],
   "source": [
    "import pandas as pd"
   ]
  },
  {
   "cell_type": "markdown",
   "metadata": {},
   "source": [
    "\"C:\\Users\\Clara Aquino\\Documents\\Projects VS Code\\Projeto de dados\\Nova pasta\\precos-semestrais-ca-2022-01.csv\""
   ]
  },
  {
   "cell_type": "code",
   "execution_count": 4,
   "metadata": {},
   "outputs": [],
   "source": [
    "data = pd.read_csv('precos-semestrais-ca-2022-01.csv', sep=';')"
   ]
  },
  {
   "cell_type": "code",
   "execution_count": 6,
   "metadata": {},
   "outputs": [
    {
     "data": {
      "text/html": [
       "<div>\n",
       "<style scoped>\n",
       "    .dataframe tbody tr th:only-of-type {\n",
       "        vertical-align: middle;\n",
       "    }\n",
       "\n",
       "    .dataframe tbody tr th {\n",
       "        vertical-align: top;\n",
       "    }\n",
       "\n",
       "    .dataframe thead th {\n",
       "        text-align: right;\n",
       "    }\n",
       "</style>\n",
       "<table border=\"1\" class=\"dataframe\">\n",
       "  <thead>\n",
       "    <tr style=\"text-align: right;\">\n",
       "      <th></th>\n",
       "      <th>Regiao - Sigla</th>\n",
       "      <th>Estado - Sigla</th>\n",
       "      <th>Municipio</th>\n",
       "      <th>Revenda</th>\n",
       "      <th>CNPJ da Revenda</th>\n",
       "      <th>Nome da Rua</th>\n",
       "      <th>Numero Rua</th>\n",
       "      <th>Complemento</th>\n",
       "      <th>Bairro</th>\n",
       "      <th>Cep</th>\n",
       "      <th>Produto</th>\n",
       "      <th>Data da Coleta</th>\n",
       "      <th>Valor de Venda</th>\n",
       "      <th>Valor de Compra</th>\n",
       "      <th>Unidade de Medida</th>\n",
       "      <th>Bandeira</th>\n",
       "    </tr>\n",
       "  </thead>\n",
       "  <tbody>\n",
       "    <tr>\n",
       "      <th>0</th>\n",
       "      <td>N</td>\n",
       "      <td>AC</td>\n",
       "      <td>RIO BRANCO</td>\n",
       "      <td>AUTO POSTO AMAPA - EIRELI</td>\n",
       "      <td>00.529.581/0001-53</td>\n",
       "      <td>VIA CHICO MENDES</td>\n",
       "      <td>3570</td>\n",
       "      <td>NaN</td>\n",
       "      <td>AREAL</td>\n",
       "      <td>69906-119</td>\n",
       "      <td>GASOLINA</td>\n",
       "      <td>03/01/2022</td>\n",
       "      <td>6,99</td>\n",
       "      <td>NaN</td>\n",
       "      <td>R$ / litro</td>\n",
       "      <td>VIBRA ENERGIA</td>\n",
       "    </tr>\n",
       "    <tr>\n",
       "      <th>1</th>\n",
       "      <td>N</td>\n",
       "      <td>AC</td>\n",
       "      <td>RIO BRANCO</td>\n",
       "      <td>AUTO POSTO AMAPA - EIRELI</td>\n",
       "      <td>00.529.581/0001-53</td>\n",
       "      <td>VIA CHICO MENDES</td>\n",
       "      <td>3570</td>\n",
       "      <td>NaN</td>\n",
       "      <td>AREAL</td>\n",
       "      <td>69906-119</td>\n",
       "      <td>ETANOL</td>\n",
       "      <td>03/01/2022</td>\n",
       "      <td>5,99</td>\n",
       "      <td>NaN</td>\n",
       "      <td>R$ / litro</td>\n",
       "      <td>VIBRA ENERGIA</td>\n",
       "    </tr>\n",
       "    <tr>\n",
       "      <th>2</th>\n",
       "      <td>N</td>\n",
       "      <td>AC</td>\n",
       "      <td>RIO BRANCO</td>\n",
       "      <td>AUTO POSTO AMAPA - EIRELI</td>\n",
       "      <td>00.529.581/0001-53</td>\n",
       "      <td>VIA CHICO MENDES</td>\n",
       "      <td>3570</td>\n",
       "      <td>NaN</td>\n",
       "      <td>AREAL</td>\n",
       "      <td>69906-119</td>\n",
       "      <td>DIESEL</td>\n",
       "      <td>03/01/2022</td>\n",
       "      <td>6,09</td>\n",
       "      <td>NaN</td>\n",
       "      <td>R$ / litro</td>\n",
       "      <td>VIBRA ENERGIA</td>\n",
       "    </tr>\n",
       "    <tr>\n",
       "      <th>3</th>\n",
       "      <td>N</td>\n",
       "      <td>AC</td>\n",
       "      <td>RIO BRANCO</td>\n",
       "      <td>AUTO POSTO AMAPA - EIRELI</td>\n",
       "      <td>00.529.581/0001-53</td>\n",
       "      <td>VIA CHICO MENDES</td>\n",
       "      <td>3570</td>\n",
       "      <td>NaN</td>\n",
       "      <td>AREAL</td>\n",
       "      <td>69906-119</td>\n",
       "      <td>GASOLINA ADITIVADA</td>\n",
       "      <td>03/01/2022</td>\n",
       "      <td>7,05</td>\n",
       "      <td>NaN</td>\n",
       "      <td>R$ / litro</td>\n",
       "      <td>VIBRA ENERGIA</td>\n",
       "    </tr>\n",
       "    <tr>\n",
       "      <th>4</th>\n",
       "      <td>N</td>\n",
       "      <td>AC</td>\n",
       "      <td>RIO BRANCO</td>\n",
       "      <td>AUTO POSTO AMAPA - EIRELI</td>\n",
       "      <td>00.529.581/0001-53</td>\n",
       "      <td>VIA CHICO MENDES</td>\n",
       "      <td>3570</td>\n",
       "      <td>NaN</td>\n",
       "      <td>AREAL</td>\n",
       "      <td>69906-119</td>\n",
       "      <td>DIESEL S10</td>\n",
       "      <td>03/01/2022</td>\n",
       "      <td>6,12</td>\n",
       "      <td>NaN</td>\n",
       "      <td>R$ / litro</td>\n",
       "      <td>VIBRA ENERGIA</td>\n",
       "    </tr>\n",
       "  </tbody>\n",
       "</table>\n",
       "</div>"
      ],
      "text/plain": [
       "  Regiao - Sigla Estado - Sigla   Municipio                    Revenda  \\\n",
       "0              N             AC  RIO BRANCO  AUTO POSTO AMAPA - EIRELI   \n",
       "1              N             AC  RIO BRANCO  AUTO POSTO AMAPA - EIRELI   \n",
       "2              N             AC  RIO BRANCO  AUTO POSTO AMAPA - EIRELI   \n",
       "3              N             AC  RIO BRANCO  AUTO POSTO AMAPA - EIRELI   \n",
       "4              N             AC  RIO BRANCO  AUTO POSTO AMAPA - EIRELI   \n",
       "\n",
       "       CNPJ da Revenda       Nome da Rua Numero Rua Complemento Bairro  \\\n",
       "0   00.529.581/0001-53  VIA CHICO MENDES       3570         NaN  AREAL   \n",
       "1   00.529.581/0001-53  VIA CHICO MENDES       3570         NaN  AREAL   \n",
       "2   00.529.581/0001-53  VIA CHICO MENDES       3570         NaN  AREAL   \n",
       "3   00.529.581/0001-53  VIA CHICO MENDES       3570         NaN  AREAL   \n",
       "4   00.529.581/0001-53  VIA CHICO MENDES       3570         NaN  AREAL   \n",
       "\n",
       "         Cep             Produto Data da Coleta Valor de Venda  \\\n",
       "0  69906-119            GASOLINA     03/01/2022           6,99   \n",
       "1  69906-119              ETANOL     03/01/2022           5,99   \n",
       "2  69906-119              DIESEL     03/01/2022           6,09   \n",
       "3  69906-119  GASOLINA ADITIVADA     03/01/2022           7,05   \n",
       "4  69906-119          DIESEL S10     03/01/2022           6,12   \n",
       "\n",
       "   Valor de Compra Unidade de Medida       Bandeira  \n",
       "0              NaN        R$ / litro  VIBRA ENERGIA  \n",
       "1              NaN        R$ / litro  VIBRA ENERGIA  \n",
       "2              NaN        R$ / litro  VIBRA ENERGIA  \n",
       "3              NaN        R$ / litro  VIBRA ENERGIA  \n",
       "4              NaN        R$ / litro  VIBRA ENERGIA  "
      ]
     },
     "execution_count": 6,
     "metadata": {},
     "output_type": "execute_result"
    }
   ],
   "source": [
    "data.head()"
   ]
  },
  {
   "cell_type": "code",
   "execution_count": 7,
   "metadata": {},
   "outputs": [
    {
     "name": "stdout",
     "output_type": "stream",
     "text": [
      "<class 'pandas.core.frame.DataFrame'>\n",
      "RangeIndex: 529424 entries, 0 to 529423\n",
      "Data columns (total 16 columns):\n",
      " #   Column             Non-Null Count   Dtype  \n",
      "---  ------             --------------   -----  \n",
      " 0   Regiao - Sigla     529424 non-null  object \n",
      " 1   Estado - Sigla     529424 non-null  object \n",
      " 2   Municipio          529424 non-null  object \n",
      " 3   Revenda            529424 non-null  object \n",
      " 4   CNPJ da Revenda    529424 non-null  object \n",
      " 5   Nome da Rua        529424 non-null  object \n",
      " 6   Numero Rua         529211 non-null  object \n",
      " 7   Complemento        113936 non-null  object \n",
      " 8   Bairro             527991 non-null  object \n",
      " 9   Cep                529424 non-null  object \n",
      " 10  Produto            529424 non-null  object \n",
      " 11  Data da Coleta     529424 non-null  object \n",
      " 12  Valor de Venda     529424 non-null  object \n",
      " 13  Valor de Compra    0 non-null       float64\n",
      " 14  Unidade de Medida  529424 non-null  object \n",
      " 15  Bandeira           529424 non-null  object \n",
      "dtypes: float64(1), object(15)\n",
      "memory usage: 64.6+ MB\n"
     ]
    }
   ],
   "source": [
    "data.info()"
   ]
  },
  {
   "cell_type": "code",
   "execution_count": 8,
   "metadata": {},
   "outputs": [
    {
     "data": {
      "text/plain": [
       "array(['6,99', '5,99', '6,09', '7,05', '6,12', '6,98', '6,08', '7,08',\n",
       "       '6,13', '6,05', '7,13', '6,87', '6,21', '6,22', '6,97', '6,1',\n",
       "       '6,07', '6,69', '5,29', '5,49', '6,79', '5,59', '6,89', '5,89',\n",
       "       '5,95', '5,69', '5,79', '5,77', '5,87', '5,97', '6,55', '6,85',\n",
       "       '6,47', '6,51', '5,39', '5,43', '6,54', '6,74', '7,19', '5,67',\n",
       "       '3,99', '6,59', '4,09', '5,25', '6,65', '5,65', '6,75', '7,29',\n",
       "       '5,63', '5,33', '5,73', '5,75', '7,12', '5,96', '7,1', '7,11',\n",
       "       '6,06', '6,77', '5,57', '5,37', '6,95', '5,04', '5,09', '5,19',\n",
       "       '6,39', '4,99', '4,88', '6,52', '5,24', '6,94', '5,23', '6,96',\n",
       "       '5,07', '6,68', '4,95', '6,71', '4,79', '5,56', '5,54', '5,44',\n",
       "       '6,67', '7,07', '7,09', '5,4', '5,55', '5,38', '5,36', '5,3',\n",
       "       '5,32', '6,78', '5,27', '5,31', '5,45', '6,86', '5,2', '6,84',\n",
       "       '5,26', '5,35', '5,15', '6,93', '5,08', '7,04', '5,34', '7,03',\n",
       "       '5,58', '5,18', '7,25', '7,45', '5,17', '5,22', '7,35', '7,49',\n",
       "       '6,19', '6,49', '5,42', '6,26', '4,76', '6,29', '5,47', '4,71',\n",
       "       '6,37', '4,43', '4,69', '4,49', '6,45', '4,47', '4,45', '5,76',\n",
       "       '5,8', '6,57', '5,64', '7,34', '6,58', '6,62', '6,34', '5,84',\n",
       "       '6,61', '4,65', '6,66', '6,76', '4,87', '6,64', '5,28', '6,43',\n",
       "       '3,98', '6,73', '5,46', '6,88', '5,14', '4,97', '4,93', '5,05',\n",
       "       '7,89', '8,09', '7,59', '7,76', '7,79', '7,99', '5,74', '7,38',\n",
       "       '7,46', '7,39', '6,24', '4,19', '4,91', '5,94', '4,04', '4,39',\n",
       "       '6,72', '4,61', '7,2', '4,92', '7,02', '5,48', '7,16', '5,16',\n",
       "       '7,26', '7,23', '7,31', '5,62', '6,9', '6,46', '7,01', '5,68',\n",
       "       '4,68', '6,35', '4,59', '6,38', '4,58', '6,48', '4,89', '5,98',\n",
       "       '4,67', '6,27', '4,85', '6,32', '4,41', '4,42', '6,25', '6,36',\n",
       "       '6,15', '4,98', '6,16', '4,74', '5,52', '4,64', '4,63', '4,66',\n",
       "       '5,03', '4,84', '6', '6,04', '5,72', '5,66', '5,53', '6,44', '6,3',\n",
       "       '5,6', '5,12', '6,82', '5,5', '6,83', '5,41', '7,14', '7,33',\n",
       "       '7,41', '7,21', '7,22', '7,24', '7,17', '7,28', '5,78', '5,82',\n",
       "       '6,42', '4,83', '3,95', '6,53', '6,5', '7,64', '4,78', '5,83',\n",
       "       '6,28', '7,27', '6,17', '7,37', '7', '4,8', '6,8', '6,33', '4,77',\n",
       "       '4,37', '6,18', '5,13', '4,55', '5,86', '5,11', '4,34', '4,48',\n",
       "       '4,9', '6,41', '4,94', '4,57', '4,96', '4,75', '5,21', '5,51',\n",
       "       '6,63', '5', '6,56', '4', '5,7', '7,15', '6,14', '7,4', '7,48',\n",
       "       '4,73', '7,18', '6,91', '5,71', '7,06', '4,62', '6,7', '5,85',\n",
       "       '5,91', '5,88', '5,01', '6,92', '6,23', '6,11', '5,93', '5,92',\n",
       "       '4,38', '4,82', '6,31', '4,44', '5,61', '4,81', '6,81', '6,2',\n",
       "       '4,29', '4,14', '4,17', '3,85', '4,05', '7,36', '7,58', '5,9',\n",
       "       '4,86', '8,49', '4,08', '7,69', '5,06', '4,24', '4,52', '3,79',\n",
       "       '3,89', '3,93', '6,6', '7,84', '7,74', '7,92', '5,1', '4,36',\n",
       "       '5,81', '8,39', '6,03', '7,32', '7,3', '4,3', '4,23', '7,44',\n",
       "       '4,16', '7,43', '6,4', '7,52', '4,22', '6,02', '4,72', '3,92',\n",
       "       '7,47', '3,96', '4,15', '3,97', '5,02', '4,54', '3,17', '7,68',\n",
       "       '7,65', '4,7', '7,61', '7,6', '7,5', '7,55', '7,94', '4,46',\n",
       "       '3,19', '7,66', '7,56', '7,62', '4,28', '7,57', '7,42', '4,25',\n",
       "       '7,51', '4,53', '4,07', '4,35', '4,56', '4,1', '7,97', '4,33',\n",
       "       '8,69', '8,59', '4,32', '8,29', '6,01', '4,4', '7,75', '7,63',\n",
       "       '7,53', '7,54', '7,67', '4,5', '8,2', '8,19', '7,95', '3,87',\n",
       "       '4,18', '4,02', '3,91', '7,78', '7,82', '7,72', '7,7', '7,85',\n",
       "       '7,86', '7,77', '4,13', '8,02', '8,12', '4,06', '7,88', '7,81',\n",
       "       '4,51', '4,27', '7,71', '4,12', '4,26', '3,69', '8,15', '4,31',\n",
       "       '4,03', '3,88', '4,21', '7,73', '4,11', '3,86', '3,59', '4,01',\n",
       "       '3,94', '3,82', '3,84', '3,77', '3,8', '3,9', '7,83', '8,13',\n",
       "       '8,28', '7,8', '8,17', '8,27', '7,98', '8,3', '8,4', '7,93',\n",
       "       '8,25', '8,5', '7,96', '8,06', '7,87', '8', '8,07', '8,77', '8,44',\n",
       "       '8,78', '8,58', '8,65', '8,48', '8,31', '8,08', '8,1', '8,05',\n",
       "       '8,22', '7,91', '8,36', '8,34', '7,9', '8,24', '8,38', '8,55',\n",
       "       '8,23', '8,35', '8,33', '8,18', '8,14', '8,99', '8,04', '8,45',\n",
       "       '8,26', '8,32', '8,79', '8,01', '8,16', '8,11', '8,56', '8,42',\n",
       "       '8,57', '8,37', '8,03', '8,21', '8,83', '8,47', '4,6', '8,94',\n",
       "       '8,89', '8,53', '8,52', '9,09', '8,75', '8,71', '8,62', '8,61',\n",
       "       '8,54', '8,63', '8,51', '8,46', '8,43', '4,2', '3,49', '3,18',\n",
       "       '8,66', '8,76', '8,8', '3,66', '9,27', '8,64', '8,41', '8,6',\n",
       "       '8,93', '8,88', '8,81', '8,74', '8,84', '8,85', '8,72', '8,82',\n",
       "       '8,98', '8,96', '8,67', '8,91', '9,15', '8,86', '8,92', '8,68',\n",
       "       '8,9', '9', '3,75', '3,73', '8,97', '3,83'], dtype=object)"
      ]
     },
     "execution_count": 8,
     "metadata": {},
     "output_type": "execute_result"
    }
   ],
   "source": [
    "data['Valor de Venda'].unique() # tá como objeto porque tá com virgula no lugar de ponto"
   ]
  },
  {
   "cell_type": "code",
   "execution_count": 9,
   "metadata": {},
   "outputs": [
    {
     "data": {
      "text/plain": [
       "array([nan])"
      ]
     },
     "execution_count": 9,
     "metadata": {},
     "output_type": "execute_result"
    }
   ],
   "source": [
    "data['Valor de Compra'].unique()"
   ]
  },
  {
   "cell_type": "code",
   "execution_count": 10,
   "metadata": {},
   "outputs": [
    {
     "data": {
      "text/plain": [
       "array(['VIBRA ENERGIA', 'BRANCA', 'SABBÁ', \"ATEM' S\", 'RAIZEN',\n",
       "       'IPIRANGA', 'ALESAT', 'SP', 'TAURUS', 'STANG', 'RODOIL',\n",
       "       'PETROX DISTRIBUIDORA', 'EQUADOR', 'MASUT DISTRIBUIDORA',\n",
       "       'RIO BRANCO', 'FAN', 'CHARRUA', 'RAIZEN MIME', 'CIAPETRO',\n",
       "       'PETROBAHIA', 'IDAZA', 'AMERICANOIL', 'SMALL',\n",
       "       'SETTA DISTRIBUIDORA', 'LARCO', 'FEDERAL ENERGIA', 'WATT',\n",
       "       'TOTALENERGIES', 'TEMAPE', 'ATLÂNTICA', 'SIMARELLI', 'DISLUB',\n",
       "       'UNI', 'PETROSERRA', 'POTENCIAL', 'MAXSUL', 'DIBRAPE', 'RUFF C.J.',\n",
       "       'RZD DISTRIBUIDORA', 'ROYAL FIC', 'TDC DISTRIBUIDORA',\n",
       "       'MONTEPETRO', 'TORRAO', 'WALENDOWSKY', 'SUL COMBUSTÍVEIS',\n",
       "       'REJAILE', 'TOBRAS', 'PELIKANO'], dtype=object)"
      ]
     },
     "execution_count": 10,
     "metadata": {},
     "output_type": "execute_result"
    }
   ],
   "source": [
    "data['Bandeira'].unique()"
   ]
  },
  {
   "cell_type": "code",
   "execution_count": 11,
   "metadata": {},
   "outputs": [
    {
     "data": {
      "text/plain": [
       "array(['GASOLINA', 'ETANOL', 'DIESEL', 'GASOLINA ADITIVADA', 'DIESEL S10',\n",
       "       'GNV'], dtype=object)"
      ]
     },
     "execution_count": 11,
     "metadata": {},
     "output_type": "execute_result"
    }
   ],
   "source": [
    "data['Produto'].unique()"
   ]
  },
  {
   "cell_type": "code",
   "execution_count": 12,
   "metadata": {},
   "outputs": [
    {
     "data": {
      "text/plain": [
       "array(['AC', 'AL', 'AM', 'BA', 'CE', 'ES', 'TO', 'GO', 'MG', 'MS', 'MT',\n",
       "       'PA', 'PB', 'PE', 'PI', 'PR', 'RJ', 'RS', 'SE', 'SP', 'RN', 'SC',\n",
       "       'AP', 'DF', 'RO', 'MA', 'RR'], dtype=object)"
      ]
     },
     "execution_count": 12,
     "metadata": {},
     "output_type": "execute_result"
    }
   ],
   "source": [
    "data['Estado - Sigla'].unique()"
   ]
  },
  {
   "cell_type": "code",
   "execution_count": 14,
   "metadata": {},
   "outputs": [],
   "source": [
    "dt = pd.read_csv('ca-2005-01.csv', sep=';')"
   ]
  },
  {
   "cell_type": "code",
   "execution_count": 15,
   "metadata": {},
   "outputs": [
    {
     "name": "stdout",
     "output_type": "stream",
     "text": [
      "<class 'pandas.core.frame.DataFrame'>\n",
      "RangeIndex: 912729 entries, 0 to 912728\n",
      "Data columns (total 16 columns):\n",
      " #   Column             Non-Null Count   Dtype \n",
      "---  ------             --------------   ----- \n",
      " 0   Regiao - Sigla     912729 non-null  object\n",
      " 1   Estado - Sigla     912729 non-null  object\n",
      " 2   Municipio          912729 non-null  object\n",
      " 3   Revenda            912729 non-null  object\n",
      " 4   CNPJ da Revenda    912729 non-null  object\n",
      " 5   Nome da Rua        912729 non-null  object\n",
      " 6   Numero Rua         912225 non-null  object\n",
      " 7   Complemento        297241 non-null  object\n",
      " 8   Bairro             910112 non-null  object\n",
      " 9   Cep                912729 non-null  object\n",
      " 10  Produto            912729 non-null  object\n",
      " 11  Data da Coleta     912729 non-null  object\n",
      " 12  Valor de Venda     912729 non-null  object\n",
      " 13  Valor de Compra    612689 non-null  object\n",
      " 14  Unidade de Medida  912729 non-null  object\n",
      " 15  Bandeira           912729 non-null  object\n",
      "dtypes: object(16)\n",
      "memory usage: 111.4+ MB\n"
     ]
    }
   ],
   "source": [
    "dt.info()"
   ]
  }
 ],
 "metadata": {
  "kernelspec": {
   "display_name": "Python 3",
   "language": "python",
   "name": "python3"
  },
  "language_info": {
   "codemirror_mode": {
    "name": "ipython",
    "version": 3
   },
   "file_extension": ".py",
   "mimetype": "text/x-python",
   "name": "python",
   "nbconvert_exporter": "python",
   "pygments_lexer": "ipython3",
   "version": "3.11.4"
  },
  "orig_nbformat": 4
 },
 "nbformat": 4,
 "nbformat_minor": 2
}
