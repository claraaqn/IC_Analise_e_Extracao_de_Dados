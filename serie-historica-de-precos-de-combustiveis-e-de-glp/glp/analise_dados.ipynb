{
 "cells": [
  {
   "cell_type": "code",
   "execution_count": 1,
   "metadata": {},
   "outputs": [],
   "source": [
    "import pandas as pd"
   ]
  },
  {
   "cell_type": "markdown",
   "metadata": {},
   "source": [
    "#### 2004"
   ]
  },
  {
   "cell_type": "code",
   "execution_count": 2,
   "metadata": {},
   "outputs": [],
   "source": [
    "glp_2004_01 = pd.read_csv(\"rsc/glp-2004-01.csv\", sep=';')"
   ]
  },
  {
   "cell_type": "code",
   "execution_count": 3,
   "metadata": {},
   "outputs": [
    {
     "name": "stdout",
     "output_type": "stream",
     "text": [
      "<class 'pandas.core.frame.DataFrame'>\n",
      "RangeIndex: 45925 entries, 0 to 45924\n",
      "Data columns (total 16 columns):\n",
      " #   Column             Non-Null Count  Dtype \n",
      "---  ------             --------------  ----- \n",
      " 0   Regiao - Sigla     45925 non-null  object\n",
      " 1   Estado - Sigla     45925 non-null  object\n",
      " 2   Municipio          45925 non-null  object\n",
      " 3   Revenda            45925 non-null  object\n",
      " 4   CNPJ da Revenda    45925 non-null  object\n",
      " 5   Nome da Rua        45925 non-null  object\n",
      " 6   Numero Rua         45925 non-null  object\n",
      " 7   Complemento        3004 non-null   object\n",
      " 8   Bairro             45925 non-null  object\n",
      " 9   Cep                45925 non-null  object\n",
      " 10  Produto            45925 non-null  object\n",
      " 11  Data da Coleta     45925 non-null  object\n",
      " 12  Valor de Venda     45925 non-null  object\n",
      " 13  Valor de Compra    14836 non-null  object\n",
      " 14  Unidade de Medida  45925 non-null  object\n",
      " 15  Bandeira           45925 non-null  object\n",
      "dtypes: object(16)\n",
      "memory usage: 5.6+ MB\n"
     ]
    }
   ],
   "source": [
    "glp_2004_01.info()"
   ]
  },
  {
   "cell_type": "code",
   "execution_count": 4,
   "metadata": {},
   "outputs": [],
   "source": [
    "glp_2004_01['Valor de Venda'] = glp_2004_01['Valor de Venda'].str.replace(\",\", \".\", regex=True).astype(float)\n",
    "glp_2004_01['Valor de Compra'] = glp_2004_01['Valor de Compra'].str.replace(',', '.', regex=True).astype(float)"
   ]
  },
  {
   "cell_type": "code",
   "execution_count": 5,
   "metadata": {},
   "outputs": [
    {
     "name": "stdout",
     "output_type": "stream",
     "text": [
      "<class 'pandas.core.frame.DataFrame'>\n",
      "RangeIndex: 45925 entries, 0 to 45924\n",
      "Data columns (total 16 columns):\n",
      " #   Column             Non-Null Count  Dtype  \n",
      "---  ------             --------------  -----  \n",
      " 0   Regiao - Sigla     45925 non-null  object \n",
      " 1   Estado - Sigla     45925 non-null  object \n",
      " 2   Municipio          45925 non-null  object \n",
      " 3   Revenda            45925 non-null  object \n",
      " 4   CNPJ da Revenda    45925 non-null  object \n",
      " 5   Nome da Rua        45925 non-null  object \n",
      " 6   Numero Rua         45925 non-null  object \n",
      " 7   Complemento        3004 non-null   object \n",
      " 8   Bairro             45925 non-null  object \n",
      " 9   Cep                45925 non-null  object \n",
      " 10  Produto            45925 non-null  object \n",
      " 11  Data da Coleta     45925 non-null  object \n",
      " 12  Valor de Venda     45925 non-null  float64\n",
      " 13  Valor de Compra    14836 non-null  float64\n",
      " 14  Unidade de Medida  45925 non-null  object \n",
      " 15  Bandeira           45925 non-null  object \n",
      "dtypes: float64(2), object(14)\n",
      "memory usage: 5.6+ MB\n"
     ]
    }
   ],
   "source": [
    "glp_2004_01.info()"
   ]
  },
  {
   "cell_type": "code",
   "execution_count": 6,
   "metadata": {},
   "outputs": [],
   "source": [
    "glp_2004_02 = pd.read_csv(\"rsc/glp-2004-02.csv\", sep=';')"
   ]
  },
  {
   "cell_type": "code",
   "execution_count": 7,
   "metadata": {},
   "outputs": [
    {
     "name": "stdout",
     "output_type": "stream",
     "text": [
      "<class 'pandas.core.frame.DataFrame'>\n",
      "RangeIndex: 151060 entries, 0 to 151059\n",
      "Data columns (total 16 columns):\n",
      " #   Column             Non-Null Count   Dtype \n",
      "---  ------             --------------   ----- \n",
      " 0   Regiao - Sigla     151060 non-null  object\n",
      " 1   Estado - Sigla     151060 non-null  object\n",
      " 2   Municipio          151060 non-null  object\n",
      " 3   Revenda            151060 non-null  object\n",
      " 4   CNPJ da Revenda    151060 non-null  object\n",
      " 5   Nome da Rua        151060 non-null  object\n",
      " 6   Numero Rua         151060 non-null  object\n",
      " 7   Complemento        10143 non-null   object\n",
      " 8   Bairro             151060 non-null  object\n",
      " 9   Cep                151060 non-null  object\n",
      " 10  Produto            151060 non-null  object\n",
      " 11  Data da Coleta     151060 non-null  object\n",
      " 12  Valor de Venda     151060 non-null  object\n",
      " 13  Valor de Compra    44756 non-null   object\n",
      " 14  Unidade de Medida  151060 non-null  object\n",
      " 15  Bandeira           151060 non-null  object\n",
      "dtypes: object(16)\n",
      "memory usage: 18.4+ MB\n"
     ]
    }
   ],
   "source": [
    "glp_2004_02.info()"
   ]
  },
  {
   "cell_type": "code",
   "execution_count": 8,
   "metadata": {},
   "outputs": [],
   "source": [
    "glp_2004_02['Valor de Venda'] = glp_2004_02['Valor de Venda'].str.replace(\",\", \".\", regex=True).astype(float)\n",
    "glp_2004_02['Valor de Compra'] = glp_2004_02['Valor de Compra'].str.replace(',', '.', regex=True).astype(float)"
   ]
  },
  {
   "cell_type": "code",
   "execution_count": 9,
   "metadata": {},
   "outputs": [
    {
     "name": "stdout",
     "output_type": "stream",
     "text": [
      "<class 'pandas.core.frame.DataFrame'>\n",
      "RangeIndex: 151060 entries, 0 to 151059\n",
      "Data columns (total 16 columns):\n",
      " #   Column             Non-Null Count   Dtype  \n",
      "---  ------             --------------   -----  \n",
      " 0   Regiao - Sigla     151060 non-null  object \n",
      " 1   Estado - Sigla     151060 non-null  object \n",
      " 2   Municipio          151060 non-null  object \n",
      " 3   Revenda            151060 non-null  object \n",
      " 4   CNPJ da Revenda    151060 non-null  object \n",
      " 5   Nome da Rua        151060 non-null  object \n",
      " 6   Numero Rua         151060 non-null  object \n",
      " 7   Complemento        10143 non-null   object \n",
      " 8   Bairro             151060 non-null  object \n",
      " 9   Cep                151060 non-null  object \n",
      " 10  Produto            151060 non-null  object \n",
      " 11  Data da Coleta     151060 non-null  object \n",
      " 12  Valor de Venda     151060 non-null  float64\n",
      " 13  Valor de Compra    44756 non-null   float64\n",
      " 14  Unidade de Medida  151060 non-null  object \n",
      " 15  Bandeira           151060 non-null  object \n",
      "dtypes: float64(2), object(14)\n",
      "memory usage: 18.4+ MB\n"
     ]
    }
   ],
   "source": [
    "glp_2004_02.info()"
   ]
  },
  {
   "cell_type": "markdown",
   "metadata": {},
   "source": [
    "#### 2005"
   ]
  },
  {
   "cell_type": "code",
   "execution_count": 10,
   "metadata": {},
   "outputs": [],
   "source": [
    "glp_2005_01 = pd.read_csv(\"rsc/glp-2005-01.csv\", sep=';')"
   ]
  },
  {
   "cell_type": "code",
   "execution_count": 11,
   "metadata": {},
   "outputs": [
    {
     "name": "stdout",
     "output_type": "stream",
     "text": [
      "<class 'pandas.core.frame.DataFrame'>\n",
      "RangeIndex: 149034 entries, 0 to 149033\n",
      "Data columns (total 16 columns):\n",
      " #   Column             Non-Null Count   Dtype \n",
      "---  ------             --------------   ----- \n",
      " 0   Regiao - Sigla     149034 non-null  object\n",
      " 1   Estado - Sigla     149034 non-null  object\n",
      " 2   Municipio          149034 non-null  object\n",
      " 3   Revenda            149034 non-null  object\n",
      " 4   CNPJ da Revenda    149034 non-null  object\n",
      " 5   Nome da Rua        149034 non-null  object\n",
      " 6   Numero Rua         149034 non-null  object\n",
      " 7   Complemento        10215 non-null   object\n",
      " 8   Bairro             149034 non-null  object\n",
      " 9   Cep                149034 non-null  object\n",
      " 10  Produto            149034 non-null  object\n",
      " 11  Data da Coleta     149034 non-null  object\n",
      " 12  Valor de Venda     149034 non-null  object\n",
      " 13  Valor de Compra    41748 non-null   object\n",
      " 14  Unidade de Medida  149034 non-null  object\n",
      " 15  Bandeira           149034 non-null  object\n",
      "dtypes: object(16)\n",
      "memory usage: 18.2+ MB\n"
     ]
    }
   ],
   "source": [
    "glp_2005_01.info()"
   ]
  },
  {
   "cell_type": "code",
   "execution_count": 12,
   "metadata": {},
   "outputs": [],
   "source": [
    "glp_2005_01['Valor de Venda'] = glp_2005_01['Valor de Venda'].str.replace(\",\", \".\", regex=True).astype(float)\n",
    "glp_2005_01['Valor de Compra'] = glp_2005_01['Valor de Compra'].str.replace(',', '.', regex=True).astype(float)"
   ]
  },
  {
   "cell_type": "code",
   "execution_count": 13,
   "metadata": {},
   "outputs": [
    {
     "name": "stdout",
     "output_type": "stream",
     "text": [
      "<class 'pandas.core.frame.DataFrame'>\n",
      "RangeIndex: 149034 entries, 0 to 149033\n",
      "Data columns (total 16 columns):\n",
      " #   Column             Non-Null Count   Dtype  \n",
      "---  ------             --------------   -----  \n",
      " 0   Regiao - Sigla     149034 non-null  object \n",
      " 1   Estado - Sigla     149034 non-null  object \n",
      " 2   Municipio          149034 non-null  object \n",
      " 3   Revenda            149034 non-null  object \n",
      " 4   CNPJ da Revenda    149034 non-null  object \n",
      " 5   Nome da Rua        149034 non-null  object \n",
      " 6   Numero Rua         149034 non-null  object \n",
      " 7   Complemento        10215 non-null   object \n",
      " 8   Bairro             149034 non-null  object \n",
      " 9   Cep                149034 non-null  object \n",
      " 10  Produto            149034 non-null  object \n",
      " 11  Data da Coleta     149034 non-null  object \n",
      " 12  Valor de Venda     149034 non-null  float64\n",
      " 13  Valor de Compra    41748 non-null   float64\n",
      " 14  Unidade de Medida  149034 non-null  object \n",
      " 15  Bandeira           149034 non-null  object \n",
      "dtypes: float64(2), object(14)\n",
      "memory usage: 18.2+ MB\n"
     ]
    }
   ],
   "source": [
    "glp_2005_01.info()"
   ]
  },
  {
   "cell_type": "code",
   "execution_count": 14,
   "metadata": {},
   "outputs": [],
   "source": [
    "glp_2005_02 = pd.read_csv(\"rsc/glp-2005-02.csv\", sep=';')"
   ]
  },
  {
   "cell_type": "code",
   "execution_count": 15,
   "metadata": {},
   "outputs": [
    {
     "name": "stdout",
     "output_type": "stream",
     "text": [
      "<class 'pandas.core.frame.DataFrame'>\n",
      "RangeIndex: 117320 entries, 0 to 117319\n",
      "Data columns (total 16 columns):\n",
      " #   Column             Non-Null Count   Dtype \n",
      "---  ------             --------------   ----- \n",
      " 0   Regiao - Sigla     117320 non-null  object\n",
      " 1   Estado - Sigla     117320 non-null  object\n",
      " 2   Municipio          117320 non-null  object\n",
      " 3   Revenda            117320 non-null  object\n",
      " 4   CNPJ da Revenda    117320 non-null  object\n",
      " 5   Nome da Rua        117320 non-null  object\n",
      " 6   Numero Rua         117320 non-null  object\n",
      " 7   Complemento        9954 non-null    object\n",
      " 8   Bairro             117268 non-null  object\n",
      " 9   Cep                117320 non-null  object\n",
      " 10  Produto            117320 non-null  object\n",
      " 11  Data da Coleta     117320 non-null  object\n",
      " 12  Valor de Venda     117320 non-null  object\n",
      " 13  Valor de Compra    28343 non-null   object\n",
      " 14  Unidade de Medida  117320 non-null  object\n",
      " 15  Bandeira           117320 non-null  object\n",
      "dtypes: object(16)\n",
      "memory usage: 14.3+ MB\n"
     ]
    }
   ],
   "source": [
    "glp_2005_02.info()"
   ]
  },
  {
   "cell_type": "code",
   "execution_count": 16,
   "metadata": {},
   "outputs": [],
   "source": [
    "glp_2005_02['Valor de Venda'] = glp_2005_02['Valor de Venda'].str.replace(\",\", \".\", regex=True).astype(float)\n",
    "glp_2005_02['Valor de Compra'] = glp_2005_02['Valor de Compra'].str.replace(',', '.', regex=True).astype(float)"
   ]
  },
  {
   "cell_type": "code",
   "execution_count": 17,
   "metadata": {},
   "outputs": [
    {
     "name": "stdout",
     "output_type": "stream",
     "text": [
      "<class 'pandas.core.frame.DataFrame'>\n",
      "RangeIndex: 117320 entries, 0 to 117319\n",
      "Data columns (total 16 columns):\n",
      " #   Column             Non-Null Count   Dtype  \n",
      "---  ------             --------------   -----  \n",
      " 0   Regiao - Sigla     117320 non-null  object \n",
      " 1   Estado - Sigla     117320 non-null  object \n",
      " 2   Municipio          117320 non-null  object \n",
      " 3   Revenda            117320 non-null  object \n",
      " 4   CNPJ da Revenda    117320 non-null  object \n",
      " 5   Nome da Rua        117320 non-null  object \n",
      " 6   Numero Rua         117320 non-null  object \n",
      " 7   Complemento        9954 non-null    object \n",
      " 8   Bairro             117268 non-null  object \n",
      " 9   Cep                117320 non-null  object \n",
      " 10  Produto            117320 non-null  object \n",
      " 11  Data da Coleta     117320 non-null  object \n",
      " 12  Valor de Venda     117320 non-null  float64\n",
      " 13  Valor de Compra    28343 non-null   float64\n",
      " 14  Unidade de Medida  117320 non-null  object \n",
      " 15  Bandeira           117320 non-null  object \n",
      "dtypes: float64(2), object(14)\n",
      "memory usage: 14.3+ MB\n"
     ]
    }
   ],
   "source": [
    "glp_2005_02.info()"
   ]
  },
  {
   "cell_type": "markdown",
   "metadata": {},
   "source": [
    "#### 2006"
   ]
  },
  {
   "cell_type": "code",
   "execution_count": 18,
   "metadata": {},
   "outputs": [],
   "source": [
    "glp_2006_01 = pd.read_csv(\"rsc/glp-2006-01.csv\", sep=';')"
   ]
  },
  {
   "cell_type": "code",
   "execution_count": 19,
   "metadata": {},
   "outputs": [
    {
     "name": "stdout",
     "output_type": "stream",
     "text": [
      "<class 'pandas.core.frame.DataFrame'>\n",
      "RangeIndex: 193911 entries, 0 to 193910\n",
      "Data columns (total 16 columns):\n",
      " #   Column             Non-Null Count   Dtype \n",
      "---  ------             --------------   ----- \n",
      " 0   Regiao - Sigla     193911 non-null  object\n",
      " 1   Estado - Sigla     193911 non-null  object\n",
      " 2   Municipio          193911 non-null  object\n",
      " 3   Revenda            193911 non-null  object\n",
      " 4   CNPJ da Revenda    193911 non-null  object\n",
      " 5   Nome da Rua        193911 non-null  object\n",
      " 6   Numero Rua         193911 non-null  object\n",
      " 7   Complemento        19496 non-null   object\n",
      " 8   Bairro             193739 non-null  object\n",
      " 9   Cep                193911 non-null  object\n",
      " 10  Produto            193911 non-null  object\n",
      " 11  Data da Coleta     193911 non-null  object\n",
      " 12  Valor de Venda     193911 non-null  object\n",
      " 13  Valor de Compra    51899 non-null   object\n",
      " 14  Unidade de Medida  193911 non-null  object\n",
      " 15  Bandeira           193911 non-null  object\n",
      "dtypes: object(16)\n",
      "memory usage: 23.7+ MB\n"
     ]
    }
   ],
   "source": [
    "glp_2006_01.info()"
   ]
  },
  {
   "cell_type": "code",
   "execution_count": 20,
   "metadata": {},
   "outputs": [],
   "source": [
    "glp_2006_01['Valor de Venda'] = glp_2006_01['Valor de Venda'].str.replace(\",\", \".\", regex=True).astype(float)\n",
    "glp_2006_01['Valor de Compra'] = glp_2006_01['Valor de Compra'].str.replace(',', '.', regex=True).astype(float)"
   ]
  },
  {
   "cell_type": "code",
   "execution_count": 21,
   "metadata": {},
   "outputs": [
    {
     "name": "stdout",
     "output_type": "stream",
     "text": [
      "<class 'pandas.core.frame.DataFrame'>\n",
      "RangeIndex: 193911 entries, 0 to 193910\n",
      "Data columns (total 16 columns):\n",
      " #   Column             Non-Null Count   Dtype  \n",
      "---  ------             --------------   -----  \n",
      " 0   Regiao - Sigla     193911 non-null  object \n",
      " 1   Estado - Sigla     193911 non-null  object \n",
      " 2   Municipio          193911 non-null  object \n",
      " 3   Revenda            193911 non-null  object \n",
      " 4   CNPJ da Revenda    193911 non-null  object \n",
      " 5   Nome da Rua        193911 non-null  object \n",
      " 6   Numero Rua         193911 non-null  object \n",
      " 7   Complemento        19496 non-null   object \n",
      " 8   Bairro             193739 non-null  object \n",
      " 9   Cep                193911 non-null  object \n",
      " 10  Produto            193911 non-null  object \n",
      " 11  Data da Coleta     193911 non-null  object \n",
      " 12  Valor de Venda     193911 non-null  float64\n",
      " 13  Valor de Compra    51899 non-null   float64\n",
      " 14  Unidade de Medida  193911 non-null  object \n",
      " 15  Bandeira           193911 non-null  object \n",
      "dtypes: float64(2), object(14)\n",
      "memory usage: 23.7+ MB\n"
     ]
    }
   ],
   "source": [
    "glp_2006_01.info()"
   ]
  },
  {
   "cell_type": "code",
   "execution_count": 22,
   "metadata": {},
   "outputs": [],
   "source": [
    "glp_2006_02 = pd.read_csv(\"rsc/glp-2006-02.csv\", sep=';')"
   ]
  },
  {
   "cell_type": "code",
   "execution_count": 23,
   "metadata": {},
   "outputs": [
    {
     "name": "stdout",
     "output_type": "stream",
     "text": [
      "<class 'pandas.core.frame.DataFrame'>\n",
      "RangeIndex: 179962 entries, 0 to 179961\n",
      "Data columns (total 16 columns):\n",
      " #   Column             Non-Null Count   Dtype \n",
      "---  ------             --------------   ----- \n",
      " 0   Regiao - Sigla     179962 non-null  object\n",
      " 1   Estado - Sigla     179962 non-null  object\n",
      " 2   Municipio          179962 non-null  object\n",
      " 3   Revenda            179962 non-null  object\n",
      " 4   CNPJ da Revenda    179962 non-null  object\n",
      " 5   Nome da Rua        179962 non-null  object\n",
      " 6   Numero Rua         179962 non-null  object\n",
      " 7   Complemento        19666 non-null   object\n",
      " 8   Bairro             179808 non-null  object\n",
      " 9   Cep                179962 non-null  object\n",
      " 10  Produto            179962 non-null  object\n",
      " 11  Data da Coleta     179962 non-null  object\n",
      " 12  Valor de Venda     179962 non-null  object\n",
      " 13  Valor de Compra    58419 non-null   object\n",
      " 14  Unidade de Medida  179962 non-null  object\n",
      " 15  Bandeira           179962 non-null  object\n",
      "dtypes: object(16)\n",
      "memory usage: 22.0+ MB\n"
     ]
    }
   ],
   "source": [
    "glp_2006_02.info()"
   ]
  },
  {
   "cell_type": "code",
   "execution_count": 24,
   "metadata": {},
   "outputs": [],
   "source": [
    "glp_2006_02['Valor de Venda'] = glp_2006_02['Valor de Venda'].str.replace(\",\", \".\", regex=True).astype(float)\n",
    "glp_2006_02['Valor de Compra'] = glp_2006_02['Valor de Compra'].str.replace(',', '.', regex=True).astype(float)"
   ]
  },
  {
   "cell_type": "code",
   "execution_count": 25,
   "metadata": {},
   "outputs": [
    {
     "name": "stdout",
     "output_type": "stream",
     "text": [
      "<class 'pandas.core.frame.DataFrame'>\n",
      "RangeIndex: 179962 entries, 0 to 179961\n",
      "Data columns (total 16 columns):\n",
      " #   Column             Non-Null Count   Dtype  \n",
      "---  ------             --------------   -----  \n",
      " 0   Regiao - Sigla     179962 non-null  object \n",
      " 1   Estado - Sigla     179962 non-null  object \n",
      " 2   Municipio          179962 non-null  object \n",
      " 3   Revenda            179962 non-null  object \n",
      " 4   CNPJ da Revenda    179962 non-null  object \n",
      " 5   Nome da Rua        179962 non-null  object \n",
      " 6   Numero Rua         179962 non-null  object \n",
      " 7   Complemento        19666 non-null   object \n",
      " 8   Bairro             179808 non-null  object \n",
      " 9   Cep                179962 non-null  object \n",
      " 10  Produto            179962 non-null  object \n",
      " 11  Data da Coleta     179962 non-null  object \n",
      " 12  Valor de Venda     179962 non-null  float64\n",
      " 13  Valor de Compra    58419 non-null   float64\n",
      " 14  Unidade de Medida  179962 non-null  object \n",
      " 15  Bandeira           179962 non-null  object \n",
      "dtypes: float64(2), object(14)\n",
      "memory usage: 22.0+ MB\n"
     ]
    }
   ],
   "source": [
    "glp_2006_02.info()"
   ]
  },
  {
   "cell_type": "markdown",
   "metadata": {},
   "source": [
    "#### 2007"
   ]
  },
  {
   "cell_type": "code",
   "execution_count": 26,
   "metadata": {},
   "outputs": [],
   "source": [
    "glp_2007_01 = pd.read_csv(\"rsc/glp-2007-01.csv\", sep=';')"
   ]
  },
  {
   "cell_type": "code",
   "execution_count": 27,
   "metadata": {},
   "outputs": [
    {
     "name": "stdout",
     "output_type": "stream",
     "text": [
      "<class 'pandas.core.frame.DataFrame'>\n",
      "RangeIndex: 162688 entries, 0 to 162687\n",
      "Data columns (total 16 columns):\n",
      " #   Column             Non-Null Count   Dtype \n",
      "---  ------             --------------   ----- \n",
      " 0   Regiao - Sigla     162688 non-null  object\n",
      " 1   Estado - Sigla     162688 non-null  object\n",
      " 2   Municipio          162688 non-null  object\n",
      " 3   Revenda            162688 non-null  object\n",
      " 4   CNPJ da Revenda    162688 non-null  object\n",
      " 5   Nome da Rua        162688 non-null  object\n",
      " 6   Numero Rua         162688 non-null  object\n",
      " 7   Complemento        21160 non-null   object\n",
      " 8   Bairro             162562 non-null  object\n",
      " 9   Cep                162688 non-null  object\n",
      " 10  Produto            162688 non-null  object\n",
      " 11  Data da Coleta     162688 non-null  object\n",
      " 12  Valor de Venda     162688 non-null  object\n",
      " 13  Valor de Compra    74460 non-null   object\n",
      " 14  Unidade de Medida  162688 non-null  object\n",
      " 15  Bandeira           162688 non-null  object\n",
      "dtypes: object(16)\n",
      "memory usage: 19.9+ MB\n"
     ]
    }
   ],
   "source": [
    "glp_2007_01.info()"
   ]
  },
  {
   "cell_type": "code",
   "execution_count": 28,
   "metadata": {},
   "outputs": [],
   "source": [
    "glp_2007_01['Valor de Venda'] = glp_2007_01['Valor de Venda'].str.replace(\",\", \".\", regex=True).astype(float)\n",
    "glp_2007_01['Valor de Compra'] = glp_2007_01['Valor de Compra'].str.replace(',', '.', regex=True).astype(float)"
   ]
  },
  {
   "cell_type": "code",
   "execution_count": 29,
   "metadata": {},
   "outputs": [
    {
     "name": "stdout",
     "output_type": "stream",
     "text": [
      "<class 'pandas.core.frame.DataFrame'>\n",
      "RangeIndex: 162688 entries, 0 to 162687\n",
      "Data columns (total 16 columns):\n",
      " #   Column             Non-Null Count   Dtype  \n",
      "---  ------             --------------   -----  \n",
      " 0   Regiao - Sigla     162688 non-null  object \n",
      " 1   Estado - Sigla     162688 non-null  object \n",
      " 2   Municipio          162688 non-null  object \n",
      " 3   Revenda            162688 non-null  object \n",
      " 4   CNPJ da Revenda    162688 non-null  object \n",
      " 5   Nome da Rua        162688 non-null  object \n",
      " 6   Numero Rua         162688 non-null  object \n",
      " 7   Complemento        21160 non-null   object \n",
      " 8   Bairro             162562 non-null  object \n",
      " 9   Cep                162688 non-null  object \n",
      " 10  Produto            162688 non-null  object \n",
      " 11  Data da Coleta     162688 non-null  object \n",
      " 12  Valor de Venda     162688 non-null  float64\n",
      " 13  Valor de Compra    74460 non-null   float64\n",
      " 14  Unidade de Medida  162688 non-null  object \n",
      " 15  Bandeira           162688 non-null  object \n",
      "dtypes: float64(2), object(14)\n",
      "memory usage: 19.9+ MB\n"
     ]
    }
   ],
   "source": [
    "glp_2007_01.info()"
   ]
  },
  {
   "cell_type": "code",
   "execution_count": 30,
   "metadata": {},
   "outputs": [],
   "source": [
    "glp_2007_02 = pd.read_csv(\"rsc/glp-2007-02.csv\", sep=';')"
   ]
  },
  {
   "cell_type": "code",
   "execution_count": 31,
   "metadata": {},
   "outputs": [
    {
     "name": "stdout",
     "output_type": "stream",
     "text": [
      "<class 'pandas.core.frame.DataFrame'>\n",
      "RangeIndex: 193123 entries, 0 to 193122\n",
      "Data columns (total 16 columns):\n",
      " #   Column             Non-Null Count   Dtype \n",
      "---  ------             --------------   ----- \n",
      " 0   Regiao - Sigla     193123 non-null  object\n",
      " 1   Estado - Sigla     193123 non-null  object\n",
      " 2   Municipio          193123 non-null  object\n",
      " 3   Revenda            193123 non-null  object\n",
      " 4   CNPJ da Revenda    193123 non-null  object\n",
      " 5   Nome da Rua        193123 non-null  object\n",
      " 6   Numero Rua         193123 non-null  object\n",
      " 7   Complemento        30224 non-null   object\n",
      " 8   Bairro             193060 non-null  object\n",
      " 9   Cep                193123 non-null  object\n",
      " 10  Produto            193123 non-null  object\n",
      " 11  Data da Coleta     193123 non-null  object\n",
      " 12  Valor de Venda     193123 non-null  object\n",
      " 13  Valor de Compra    84601 non-null   object\n",
      " 14  Unidade de Medida  193123 non-null  object\n",
      " 15  Bandeira           193123 non-null  object\n",
      "dtypes: object(16)\n",
      "memory usage: 23.6+ MB\n"
     ]
    }
   ],
   "source": [
    "glp_2007_02.info()"
   ]
  },
  {
   "cell_type": "code",
   "execution_count": 32,
   "metadata": {},
   "outputs": [],
   "source": [
    "glp_2007_02['Valor de Venda'] = glp_2007_02['Valor de Venda'].str.replace(\",\", \".\", regex=True).astype(float)\n",
    "glp_2007_02['Valor de Compra'] = glp_2007_02['Valor de Compra'].str.replace(',', '.', regex=True).astype(float)"
   ]
  },
  {
   "cell_type": "code",
   "execution_count": 33,
   "metadata": {},
   "outputs": [
    {
     "name": "stdout",
     "output_type": "stream",
     "text": [
      "<class 'pandas.core.frame.DataFrame'>\n",
      "RangeIndex: 193123 entries, 0 to 193122\n",
      "Data columns (total 16 columns):\n",
      " #   Column             Non-Null Count   Dtype  \n",
      "---  ------             --------------   -----  \n",
      " 0   Regiao - Sigla     193123 non-null  object \n",
      " 1   Estado - Sigla     193123 non-null  object \n",
      " 2   Municipio          193123 non-null  object \n",
      " 3   Revenda            193123 non-null  object \n",
      " 4   CNPJ da Revenda    193123 non-null  object \n",
      " 5   Nome da Rua        193123 non-null  object \n",
      " 6   Numero Rua         193123 non-null  object \n",
      " 7   Complemento        30224 non-null   object \n",
      " 8   Bairro             193060 non-null  object \n",
      " 9   Cep                193123 non-null  object \n",
      " 10  Produto            193123 non-null  object \n",
      " 11  Data da Coleta     193123 non-null  object \n",
      " 12  Valor de Venda     193123 non-null  float64\n",
      " 13  Valor de Compra    84601 non-null   float64\n",
      " 14  Unidade de Medida  193123 non-null  object \n",
      " 15  Bandeira           193123 non-null  object \n",
      "dtypes: float64(2), object(14)\n",
      "memory usage: 23.6+ MB\n"
     ]
    }
   ],
   "source": [
    "glp_2007_02.info()"
   ]
  },
  {
   "cell_type": "markdown",
   "metadata": {},
   "source": [
    "#### 2008"
   ]
  },
  {
   "cell_type": "code",
   "execution_count": 34,
   "metadata": {},
   "outputs": [],
   "source": [
    "glp_2008_01 = pd.read_csv(\"rsc/glp-2008-01.csv\", sep=';')"
   ]
  },
  {
   "cell_type": "code",
   "execution_count": 35,
   "metadata": {},
   "outputs": [
    {
     "name": "stdout",
     "output_type": "stream",
     "text": [
      "<class 'pandas.core.frame.DataFrame'>\n",
      "RangeIndex: 201881 entries, 0 to 201880\n",
      "Data columns (total 16 columns):\n",
      " #   Column             Non-Null Count   Dtype \n",
      "---  ------             --------------   ----- \n",
      " 0   Regiao - Sigla     201881 non-null  object\n",
      " 1   Estado - Sigla     201881 non-null  object\n",
      " 2   Municipio          201881 non-null  object\n",
      " 3   Revenda            201881 non-null  object\n",
      " 4   CNPJ da Revenda    201881 non-null  object\n",
      " 5   Nome da Rua        201881 non-null  object\n",
      " 6   Numero Rua         201881 non-null  object\n",
      " 7   Complemento        32422 non-null   object\n",
      " 8   Bairro             201844 non-null  object\n",
      " 9   Cep                201881 non-null  object\n",
      " 10  Produto            201881 non-null  object\n",
      " 11  Data da Coleta     201881 non-null  object\n",
      " 12  Valor de Venda     201881 non-null  object\n",
      " 13  Valor de Compra    90626 non-null   object\n",
      " 14  Unidade de Medida  201881 non-null  object\n",
      " 15  Bandeira           201881 non-null  object\n",
      "dtypes: object(16)\n",
      "memory usage: 24.6+ MB\n"
     ]
    }
   ],
   "source": [
    "glp_2008_01.info()"
   ]
  },
  {
   "cell_type": "code",
   "execution_count": 36,
   "metadata": {},
   "outputs": [],
   "source": [
    "glp_2008_01['Valor de Venda'] = glp_2008_01['Valor de Venda'].str.replace(\",\", \".\", regex=True).astype(float)\n",
    "glp_2008_01['Valor de Compra'] = glp_2008_01['Valor de Compra'].str.replace(',', '.', regex=True).astype(float)"
   ]
  },
  {
   "cell_type": "code",
   "execution_count": 37,
   "metadata": {},
   "outputs": [
    {
     "name": "stdout",
     "output_type": "stream",
     "text": [
      "<class 'pandas.core.frame.DataFrame'>\n",
      "RangeIndex: 201881 entries, 0 to 201880\n",
      "Data columns (total 16 columns):\n",
      " #   Column             Non-Null Count   Dtype  \n",
      "---  ------             --------------   -----  \n",
      " 0   Regiao - Sigla     201881 non-null  object \n",
      " 1   Estado - Sigla     201881 non-null  object \n",
      " 2   Municipio          201881 non-null  object \n",
      " 3   Revenda            201881 non-null  object \n",
      " 4   CNPJ da Revenda    201881 non-null  object \n",
      " 5   Nome da Rua        201881 non-null  object \n",
      " 6   Numero Rua         201881 non-null  object \n",
      " 7   Complemento        32422 non-null   object \n",
      " 8   Bairro             201844 non-null  object \n",
      " 9   Cep                201881 non-null  object \n",
      " 10  Produto            201881 non-null  object \n",
      " 11  Data da Coleta     201881 non-null  object \n",
      " 12  Valor de Venda     201881 non-null  float64\n",
      " 13  Valor de Compra    90626 non-null   float64\n",
      " 14  Unidade de Medida  201881 non-null  object \n",
      " 15  Bandeira           201881 non-null  object \n",
      "dtypes: float64(2), object(14)\n",
      "memory usage: 24.6+ MB\n"
     ]
    }
   ],
   "source": [
    "glp_2008_01.info()"
   ]
  },
  {
   "cell_type": "code",
   "execution_count": 38,
   "metadata": {},
   "outputs": [],
   "source": [
    "glp_2008_02 = pd.read_csv(\"rsc/glp-2008-02.csv\", sep=';')"
   ]
  },
  {
   "cell_type": "code",
   "execution_count": 39,
   "metadata": {},
   "outputs": [
    {
     "name": "stdout",
     "output_type": "stream",
     "text": [
      "<class 'pandas.core.frame.DataFrame'>\n",
      "RangeIndex: 210966 entries, 0 to 210965\n",
      "Data columns (total 16 columns):\n",
      " #   Column             Non-Null Count   Dtype \n",
      "---  ------             --------------   ----- \n",
      " 0   Regiao - Sigla     210966 non-null  object\n",
      " 1   Estado - Sigla     210966 non-null  object\n",
      " 2   Municipio          210966 non-null  object\n",
      " 3   Revenda            210966 non-null  object\n",
      " 4   CNPJ da Revenda    210966 non-null  object\n",
      " 5   Nome da Rua        210966 non-null  object\n",
      " 6   Numero Rua         210966 non-null  object\n",
      " 7   Complemento        34521 non-null   object\n",
      " 8   Bairro             210925 non-null  object\n",
      " 9   Cep                210966 non-null  object\n",
      " 10  Produto            210966 non-null  object\n",
      " 11  Data da Coleta     210966 non-null  object\n",
      " 12  Valor de Venda     210966 non-null  object\n",
      " 13  Valor de Compra    91974 non-null   object\n",
      " 14  Unidade de Medida  210966 non-null  object\n",
      " 15  Bandeira           210966 non-null  object\n",
      "dtypes: object(16)\n",
      "memory usage: 25.8+ MB\n"
     ]
    }
   ],
   "source": [
    "glp_2008_02.info()"
   ]
  },
  {
   "cell_type": "code",
   "execution_count": 40,
   "metadata": {},
   "outputs": [],
   "source": [
    "glp_2008_02['Valor de Venda'] = glp_2008_02['Valor de Venda'].str.replace(\",\", \".\", regex=True).astype(float)\n",
    "glp_2008_02['Valor de Compra'] = glp_2008_02['Valor de Compra'].str.replace(',', '.', regex=True).astype(float)"
   ]
  },
  {
   "cell_type": "code",
   "execution_count": 41,
   "metadata": {},
   "outputs": [
    {
     "name": "stdout",
     "output_type": "stream",
     "text": [
      "<class 'pandas.core.frame.DataFrame'>\n",
      "RangeIndex: 210966 entries, 0 to 210965\n",
      "Data columns (total 16 columns):\n",
      " #   Column             Non-Null Count   Dtype  \n",
      "---  ------             --------------   -----  \n",
      " 0   Regiao - Sigla     210966 non-null  object \n",
      " 1   Estado - Sigla     210966 non-null  object \n",
      " 2   Municipio          210966 non-null  object \n",
      " 3   Revenda            210966 non-null  object \n",
      " 4   CNPJ da Revenda    210966 non-null  object \n",
      " 5   Nome da Rua        210966 non-null  object \n",
      " 6   Numero Rua         210966 non-null  object \n",
      " 7   Complemento        34521 non-null   object \n",
      " 8   Bairro             210925 non-null  object \n",
      " 9   Cep                210966 non-null  object \n",
      " 10  Produto            210966 non-null  object \n",
      " 11  Data da Coleta     210966 non-null  object \n",
      " 12  Valor de Venda     210966 non-null  float64\n",
      " 13  Valor de Compra    91974 non-null   float64\n",
      " 14  Unidade de Medida  210966 non-null  object \n",
      " 15  Bandeira           210966 non-null  object \n",
      "dtypes: float64(2), object(14)\n",
      "memory usage: 25.8+ MB\n"
     ]
    }
   ],
   "source": [
    "glp_2008_02.info()"
   ]
  },
  {
   "cell_type": "markdown",
   "metadata": {},
   "source": [
    "#### 2009"
   ]
  },
  {
   "cell_type": "code",
   "execution_count": 42,
   "metadata": {},
   "outputs": [],
   "source": [
    "glp_2009_01 = pd.read_csv(\"rsc/glp-2009-01.csv\", sep=';')"
   ]
  },
  {
   "cell_type": "code",
   "execution_count": 43,
   "metadata": {},
   "outputs": [
    {
     "name": "stdout",
     "output_type": "stream",
     "text": [
      "<class 'pandas.core.frame.DataFrame'>\n",
      "RangeIndex: 199939 entries, 0 to 199938\n",
      "Data columns (total 16 columns):\n",
      " #   Column             Non-Null Count   Dtype \n",
      "---  ------             --------------   ----- \n",
      " 0   Regiao - Sigla     199939 non-null  object\n",
      " 1   Estado - Sigla     199939 non-null  object\n",
      " 2   Municipio          199939 non-null  object\n",
      " 3   Revenda            199939 non-null  object\n",
      " 4   CNPJ da Revenda    199939 non-null  object\n",
      " 5   Nome da Rua        199939 non-null  object\n",
      " 6   Numero Rua         199939 non-null  object\n",
      " 7   Complemento        32640 non-null   object\n",
      " 8   Bairro             199900 non-null  object\n",
      " 9   Cep                199939 non-null  object\n",
      " 10  Produto            199939 non-null  object\n",
      " 11  Data da Coleta     199939 non-null  object\n",
      " 12  Valor de Venda     199939 non-null  object\n",
      " 13  Valor de Compra    84821 non-null   object\n",
      " 14  Unidade de Medida  199939 non-null  object\n",
      " 15  Bandeira           199939 non-null  object\n",
      "dtypes: object(16)\n",
      "memory usage: 24.4+ MB\n"
     ]
    }
   ],
   "source": [
    "glp_2009_01.info()"
   ]
  },
  {
   "cell_type": "code",
   "execution_count": 44,
   "metadata": {},
   "outputs": [],
   "source": [
    "glp_2009_01['Valor de Venda'] = glp_2009_01['Valor de Venda'].str.replace(\",\", \".\", regex=True).astype(float)\n",
    "glp_2009_01['Valor de Compra'] = glp_2009_01['Valor de Compra'].str.replace(',', '.', regex=True).astype(float)"
   ]
  },
  {
   "cell_type": "code",
   "execution_count": 45,
   "metadata": {},
   "outputs": [
    {
     "name": "stdout",
     "output_type": "stream",
     "text": [
      "<class 'pandas.core.frame.DataFrame'>\n",
      "RangeIndex: 199939 entries, 0 to 199938\n",
      "Data columns (total 16 columns):\n",
      " #   Column             Non-Null Count   Dtype  \n",
      "---  ------             --------------   -----  \n",
      " 0   Regiao - Sigla     199939 non-null  object \n",
      " 1   Estado - Sigla     199939 non-null  object \n",
      " 2   Municipio          199939 non-null  object \n",
      " 3   Revenda            199939 non-null  object \n",
      " 4   CNPJ da Revenda    199939 non-null  object \n",
      " 5   Nome da Rua        199939 non-null  object \n",
      " 6   Numero Rua         199939 non-null  object \n",
      " 7   Complemento        32640 non-null   object \n",
      " 8   Bairro             199900 non-null  object \n",
      " 9   Cep                199939 non-null  object \n",
      " 10  Produto            199939 non-null  object \n",
      " 11  Data da Coleta     199939 non-null  object \n",
      " 12  Valor de Venda     199939 non-null  float64\n",
      " 13  Valor de Compra    84821 non-null   float64\n",
      " 14  Unidade de Medida  199939 non-null  object \n",
      " 15  Bandeira           199939 non-null  object \n",
      "dtypes: float64(2), object(14)\n",
      "memory usage: 24.4+ MB\n"
     ]
    }
   ],
   "source": [
    "glp_2009_01.info()"
   ]
  },
  {
   "cell_type": "code",
   "execution_count": 46,
   "metadata": {},
   "outputs": [],
   "source": [
    "glp_2009_02 = pd.read_csv(\"rsc/glp-2009-02.csv\", sep=';')"
   ]
  },
  {
   "cell_type": "code",
   "execution_count": 47,
   "metadata": {},
   "outputs": [
    {
     "name": "stdout",
     "output_type": "stream",
     "text": [
      "<class 'pandas.core.frame.DataFrame'>\n",
      "RangeIndex: 134046 entries, 0 to 134045\n",
      "Data columns (total 16 columns):\n",
      " #   Column             Non-Null Count   Dtype \n",
      "---  ------             --------------   ----- \n",
      " 0   Regiao - Sigla     134046 non-null  object\n",
      " 1   Estado - Sigla     134046 non-null  object\n",
      " 2   Municipio          134046 non-null  object\n",
      " 3   Revenda            134046 non-null  object\n",
      " 4   CNPJ da Revenda    134046 non-null  object\n",
      " 5   Nome da Rua        134046 non-null  object\n",
      " 6   Numero Rua         134046 non-null  object\n",
      " 7   Complemento        21450 non-null   object\n",
      " 8   Bairro             134037 non-null  object\n",
      " 9   Cep                134046 non-null  object\n",
      " 10  Produto            134046 non-null  object\n",
      " 11  Data da Coleta     134046 non-null  object\n",
      " 12  Valor de Venda     134046 non-null  object\n",
      " 13  Valor de Compra    52794 non-null   object\n",
      " 14  Unidade de Medida  134046 non-null  object\n",
      " 15  Bandeira           134046 non-null  object\n",
      "dtypes: object(16)\n",
      "memory usage: 16.4+ MB\n"
     ]
    }
   ],
   "source": [
    "glp_2009_02.info()"
   ]
  },
  {
   "cell_type": "code",
   "execution_count": 48,
   "metadata": {},
   "outputs": [],
   "source": [
    "glp_2009_02['Valor de Venda'] = glp_2009_02['Valor de Venda'].str.replace(\",\", \".\", regex=True).astype(float)\n",
    "glp_2009_02['Valor de Compra'] = glp_2009_02['Valor de Compra'].str.replace(',', '.', regex=True).astype(float)"
   ]
  },
  {
   "cell_type": "code",
   "execution_count": 49,
   "metadata": {},
   "outputs": [
    {
     "name": "stdout",
     "output_type": "stream",
     "text": [
      "<class 'pandas.core.frame.DataFrame'>\n",
      "RangeIndex: 134046 entries, 0 to 134045\n",
      "Data columns (total 16 columns):\n",
      " #   Column             Non-Null Count   Dtype  \n",
      "---  ------             --------------   -----  \n",
      " 0   Regiao - Sigla     134046 non-null  object \n",
      " 1   Estado - Sigla     134046 non-null  object \n",
      " 2   Municipio          134046 non-null  object \n",
      " 3   Revenda            134046 non-null  object \n",
      " 4   CNPJ da Revenda    134046 non-null  object \n",
      " 5   Nome da Rua        134046 non-null  object \n",
      " 6   Numero Rua         134046 non-null  object \n",
      " 7   Complemento        21450 non-null   object \n",
      " 8   Bairro             134037 non-null  object \n",
      " 9   Cep                134046 non-null  object \n",
      " 10  Produto            134046 non-null  object \n",
      " 11  Data da Coleta     134046 non-null  object \n",
      " 12  Valor de Venda     134046 non-null  float64\n",
      " 13  Valor de Compra    52794 non-null   float64\n",
      " 14  Unidade de Medida  134046 non-null  object \n",
      " 15  Bandeira           134046 non-null  object \n",
      "dtypes: float64(2), object(14)\n",
      "memory usage: 16.4+ MB\n"
     ]
    }
   ],
   "source": [
    "glp_2009_02.info()"
   ]
  },
  {
   "cell_type": "markdown",
   "metadata": {},
   "source": [
    "#### 2010"
   ]
  },
  {
   "cell_type": "code",
   "execution_count": 50,
   "metadata": {},
   "outputs": [],
   "source": [
    "glp_2010_01 = pd.read_csv(\"rsc/glp-2010-01.csv\", sep=';')"
   ]
  },
  {
   "cell_type": "code",
   "execution_count": 51,
   "metadata": {},
   "outputs": [
    {
     "name": "stdout",
     "output_type": "stream",
     "text": [
      "<class 'pandas.core.frame.DataFrame'>\n",
      "RangeIndex: 185607 entries, 0 to 185606\n",
      "Data columns (total 16 columns):\n",
      " #   Column             Non-Null Count   Dtype \n",
      "---  ------             --------------   ----- \n",
      " 0   Regiao - Sigla     185607 non-null  object\n",
      " 1   Estado - Sigla     185607 non-null  object\n",
      " 2   Municipio          185607 non-null  object\n",
      " 3   Revenda            185607 non-null  object\n",
      " 4   CNPJ da Revenda    185607 non-null  object\n",
      " 5   Nome da Rua        185607 non-null  object\n",
      " 6   Numero Rua         185607 non-null  object\n",
      " 7   Complemento        28172 non-null   object\n",
      " 8   Bairro             185605 non-null  object\n",
      " 9   Cep                185607 non-null  object\n",
      " 10  Produto            185607 non-null  object\n",
      " 11  Data da Coleta     185607 non-null  object\n",
      " 12  Valor de Venda     185607 non-null  object\n",
      " 13  Valor de Compra    65184 non-null   object\n",
      " 14  Unidade de Medida  185607 non-null  object\n",
      " 15  Bandeira           185607 non-null  object\n",
      "dtypes: object(16)\n",
      "memory usage: 22.7+ MB\n"
     ]
    }
   ],
   "source": [
    "glp_2010_01.info()"
   ]
  },
  {
   "cell_type": "code",
   "execution_count": 52,
   "metadata": {},
   "outputs": [],
   "source": [
    "glp_2010_01['Valor de Venda'] = glp_2010_01['Valor de Venda'].str.replace(\",\", \".\", regex=True).astype(float)\n",
    "glp_2010_01['Valor de Compra'] = glp_2010_01['Valor de Compra'].str.replace(',', '.', regex=True).astype(float)"
   ]
  },
  {
   "cell_type": "code",
   "execution_count": 53,
   "metadata": {},
   "outputs": [
    {
     "name": "stdout",
     "output_type": "stream",
     "text": [
      "<class 'pandas.core.frame.DataFrame'>\n",
      "RangeIndex: 185607 entries, 0 to 185606\n",
      "Data columns (total 16 columns):\n",
      " #   Column             Non-Null Count   Dtype  \n",
      "---  ------             --------------   -----  \n",
      " 0   Regiao - Sigla     185607 non-null  object \n",
      " 1   Estado - Sigla     185607 non-null  object \n",
      " 2   Municipio          185607 non-null  object \n",
      " 3   Revenda            185607 non-null  object \n",
      " 4   CNPJ da Revenda    185607 non-null  object \n",
      " 5   Nome da Rua        185607 non-null  object \n",
      " 6   Numero Rua         185607 non-null  object \n",
      " 7   Complemento        28172 non-null   object \n",
      " 8   Bairro             185605 non-null  object \n",
      " 9   Cep                185607 non-null  object \n",
      " 10  Produto            185607 non-null  object \n",
      " 11  Data da Coleta     185607 non-null  object \n",
      " 12  Valor de Venda     185607 non-null  float64\n",
      " 13  Valor de Compra    65184 non-null   float64\n",
      " 14  Unidade de Medida  185607 non-null  object \n",
      " 15  Bandeira           185607 non-null  object \n",
      "dtypes: float64(2), object(14)\n",
      "memory usage: 22.7+ MB\n"
     ]
    }
   ],
   "source": [
    "glp_2010_01.info()"
   ]
  },
  {
   "cell_type": "code",
   "execution_count": 54,
   "metadata": {},
   "outputs": [],
   "source": [
    "glp_2010_02 = pd.read_csv(\"rsc/glp-2010-02.csv\", sep=';')"
   ]
  },
  {
   "cell_type": "code",
   "execution_count": 55,
   "metadata": {},
   "outputs": [
    {
     "name": "stdout",
     "output_type": "stream",
     "text": [
      "<class 'pandas.core.frame.DataFrame'>\n",
      "RangeIndex: 196586 entries, 0 to 196585\n",
      "Data columns (total 16 columns):\n",
      " #   Column             Non-Null Count   Dtype \n",
      "---  ------             --------------   ----- \n",
      " 0   Regiao - Sigla     196586 non-null  object\n",
      " 1   Estado - Sigla     196586 non-null  object\n",
      " 2   Municipio          196586 non-null  object\n",
      " 3   Revenda            196586 non-null  object\n",
      " 4   CNPJ da Revenda    196586 non-null  object\n",
      " 5   Nome da Rua        196586 non-null  object\n",
      " 6   Numero Rua         196586 non-null  object\n",
      " 7   Complemento        42295 non-null   object\n",
      " 8   Bairro             196573 non-null  object\n",
      " 9   Cep                196586 non-null  object\n",
      " 10  Produto            196586 non-null  object\n",
      " 11  Data da Coleta     196586 non-null  object\n",
      " 12  Valor de Venda     196586 non-null  object\n",
      " 13  Valor de Compra    69601 non-null   object\n",
      " 14  Unidade de Medida  196586 non-null  object\n",
      " 15  Bandeira           196586 non-null  object\n",
      "dtypes: object(16)\n",
      "memory usage: 24.0+ MB\n"
     ]
    }
   ],
   "source": [
    "glp_2010_02.info()"
   ]
  },
  {
   "cell_type": "code",
   "execution_count": 56,
   "metadata": {},
   "outputs": [],
   "source": [
    "glp_2010_02['Valor de Venda'] = glp_2010_02['Valor de Venda'].str.replace(\",\", \".\", regex=True).astype(float)\n",
    "glp_2010_02['Valor de Compra'] = glp_2010_02['Valor de Compra'].str.replace(',', '.', regex=True).astype(float)"
   ]
  },
  {
   "cell_type": "code",
   "execution_count": 57,
   "metadata": {},
   "outputs": [
    {
     "name": "stdout",
     "output_type": "stream",
     "text": [
      "<class 'pandas.core.frame.DataFrame'>\n",
      "RangeIndex: 196586 entries, 0 to 196585\n",
      "Data columns (total 16 columns):\n",
      " #   Column             Non-Null Count   Dtype  \n",
      "---  ------             --------------   -----  \n",
      " 0   Regiao - Sigla     196586 non-null  object \n",
      " 1   Estado - Sigla     196586 non-null  object \n",
      " 2   Municipio          196586 non-null  object \n",
      " 3   Revenda            196586 non-null  object \n",
      " 4   CNPJ da Revenda    196586 non-null  object \n",
      " 5   Nome da Rua        196586 non-null  object \n",
      " 6   Numero Rua         196586 non-null  object \n",
      " 7   Complemento        42295 non-null   object \n",
      " 8   Bairro             196573 non-null  object \n",
      " 9   Cep                196586 non-null  object \n",
      " 10  Produto            196586 non-null  object \n",
      " 11  Data da Coleta     196586 non-null  object \n",
      " 12  Valor de Venda     196586 non-null  float64\n",
      " 13  Valor de Compra    69601 non-null   float64\n",
      " 14  Unidade de Medida  196586 non-null  object \n",
      " 15  Bandeira           196586 non-null  object \n",
      "dtypes: float64(2), object(14)\n",
      "memory usage: 24.0+ MB\n"
     ]
    }
   ],
   "source": [
    "glp_2010_02.info()"
   ]
  },
  {
   "cell_type": "markdown",
   "metadata": {},
   "source": [
    "#### 2011"
   ]
  },
  {
   "cell_type": "code",
   "execution_count": 58,
   "metadata": {},
   "outputs": [],
   "source": [
    "glp_2011_01 = pd.read_csv(\"rsc/glp-2011-01.csv\", sep=';')"
   ]
  },
  {
   "cell_type": "code",
   "execution_count": 59,
   "metadata": {},
   "outputs": [
    {
     "name": "stdout",
     "output_type": "stream",
     "text": [
      "<class 'pandas.core.frame.DataFrame'>\n",
      "RangeIndex: 207883 entries, 0 to 207882\n",
      "Data columns (total 16 columns):\n",
      " #   Column             Non-Null Count   Dtype \n",
      "---  ------             --------------   ----- \n",
      " 0   Regiao - Sigla     207883 non-null  object\n",
      " 1   Estado - Sigla     207883 non-null  object\n",
      " 2   Municipio          207883 non-null  object\n",
      " 3   Revenda            207883 non-null  object\n",
      " 4   CNPJ da Revenda    207883 non-null  object\n",
      " 5   Nome da Rua        207883 non-null  object\n",
      " 6   Numero Rua         207883 non-null  object\n",
      " 7   Complemento        45991 non-null   object\n",
      " 8   Bairro             207857 non-null  object\n",
      " 9   Cep                207883 non-null  object\n",
      " 10  Produto            207883 non-null  object\n",
      " 11  Data da Coleta     207883 non-null  object\n",
      " 12  Valor de Venda     207883 non-null  object\n",
      " 13  Valor de Compra    65044 non-null   object\n",
      " 14  Unidade de Medida  207883 non-null  object\n",
      " 15  Bandeira           207883 non-null  object\n",
      "dtypes: object(16)\n",
      "memory usage: 25.4+ MB\n"
     ]
    }
   ],
   "source": [
    "glp_2011_01.info()"
   ]
  },
  {
   "cell_type": "code",
   "execution_count": 60,
   "metadata": {},
   "outputs": [],
   "source": [
    "glp_2011_01['Valor de Venda'] = glp_2011_01['Valor de Venda'].str.replace(\",\", \".\", regex=True).astype(float)\n",
    "glp_2011_01['Valor de Compra'] = glp_2011_01['Valor de Compra'].str.replace(',', '.', regex=True).astype(float)"
   ]
  },
  {
   "cell_type": "code",
   "execution_count": 61,
   "metadata": {},
   "outputs": [
    {
     "name": "stdout",
     "output_type": "stream",
     "text": [
      "<class 'pandas.core.frame.DataFrame'>\n",
      "RangeIndex: 207883 entries, 0 to 207882\n",
      "Data columns (total 16 columns):\n",
      " #   Column             Non-Null Count   Dtype  \n",
      "---  ------             --------------   -----  \n",
      " 0   Regiao - Sigla     207883 non-null  object \n",
      " 1   Estado - Sigla     207883 non-null  object \n",
      " 2   Municipio          207883 non-null  object \n",
      " 3   Revenda            207883 non-null  object \n",
      " 4   CNPJ da Revenda    207883 non-null  object \n",
      " 5   Nome da Rua        207883 non-null  object \n",
      " 6   Numero Rua         207883 non-null  object \n",
      " 7   Complemento        45991 non-null   object \n",
      " 8   Bairro             207857 non-null  object \n",
      " 9   Cep                207883 non-null  object \n",
      " 10  Produto            207883 non-null  object \n",
      " 11  Data da Coleta     207883 non-null  object \n",
      " 12  Valor de Venda     207883 non-null  float64\n",
      " 13  Valor de Compra    65044 non-null   float64\n",
      " 14  Unidade de Medida  207883 non-null  object \n",
      " 15  Bandeira           207883 non-null  object \n",
      "dtypes: float64(2), object(14)\n",
      "memory usage: 25.4+ MB\n"
     ]
    }
   ],
   "source": [
    "glp_2011_01.info()"
   ]
  },
  {
   "cell_type": "code",
   "execution_count": 62,
   "metadata": {},
   "outputs": [],
   "source": [
    "glp_2011_02 = pd.read_csv(\"rsc/glp-2011-02.csv\", sep=';')"
   ]
  },
  {
   "cell_type": "code",
   "execution_count": 63,
   "metadata": {},
   "outputs": [
    {
     "name": "stdout",
     "output_type": "stream",
     "text": [
      "<class 'pandas.core.frame.DataFrame'>\n",
      "RangeIndex: 210134 entries, 0 to 210133\n",
      "Data columns (total 16 columns):\n",
      " #   Column             Non-Null Count   Dtype \n",
      "---  ------             --------------   ----- \n",
      " 0   Regiao - Sigla     210134 non-null  object\n",
      " 1   Estado - Sigla     210134 non-null  object\n",
      " 2   Municipio          210134 non-null  object\n",
      " 3   Revenda            210134 non-null  object\n",
      " 4   CNPJ da Revenda    210134 non-null  object\n",
      " 5   Nome da Rua        210134 non-null  object\n",
      " 6   Numero Rua         210134 non-null  object\n",
      " 7   Complemento        46124 non-null   object\n",
      " 8   Bairro             210108 non-null  object\n",
      " 9   Cep                210134 non-null  object\n",
      " 10  Produto            210134 non-null  object\n",
      " 11  Data da Coleta     210134 non-null  object\n",
      " 12  Valor de Venda     210134 non-null  object\n",
      " 13  Valor de Compra    62721 non-null   object\n",
      " 14  Unidade de Medida  210134 non-null  object\n",
      " 15  Bandeira           210134 non-null  object\n",
      "dtypes: object(16)\n",
      "memory usage: 25.7+ MB\n"
     ]
    }
   ],
   "source": [
    "glp_2011_02.info()"
   ]
  },
  {
   "cell_type": "code",
   "execution_count": 64,
   "metadata": {},
   "outputs": [],
   "source": [
    "glp_2011_02['Valor de Venda'] = glp_2011_02['Valor de Venda'].str.replace(\",\", \".\", regex=True).astype(float)\n",
    "glp_2011_02['Valor de Compra'] = glp_2011_02['Valor de Compra'].str.replace(',', '.', regex=True).astype(float)"
   ]
  },
  {
   "cell_type": "code",
   "execution_count": 65,
   "metadata": {},
   "outputs": [
    {
     "name": "stdout",
     "output_type": "stream",
     "text": [
      "<class 'pandas.core.frame.DataFrame'>\n",
      "RangeIndex: 210134 entries, 0 to 210133\n",
      "Data columns (total 16 columns):\n",
      " #   Column             Non-Null Count   Dtype  \n",
      "---  ------             --------------   -----  \n",
      " 0   Regiao - Sigla     210134 non-null  object \n",
      " 1   Estado - Sigla     210134 non-null  object \n",
      " 2   Municipio          210134 non-null  object \n",
      " 3   Revenda            210134 non-null  object \n",
      " 4   CNPJ da Revenda    210134 non-null  object \n",
      " 5   Nome da Rua        210134 non-null  object \n",
      " 6   Numero Rua         210134 non-null  object \n",
      " 7   Complemento        46124 non-null   object \n",
      " 8   Bairro             210108 non-null  object \n",
      " 9   Cep                210134 non-null  object \n",
      " 10  Produto            210134 non-null  object \n",
      " 11  Data da Coleta     210134 non-null  object \n",
      " 12  Valor de Venda     210134 non-null  float64\n",
      " 13  Valor de Compra    62721 non-null   float64\n",
      " 14  Unidade de Medida  210134 non-null  object \n",
      " 15  Bandeira           210134 non-null  object \n",
      "dtypes: float64(2), object(14)\n",
      "memory usage: 25.7+ MB\n"
     ]
    }
   ],
   "source": [
    "glp_2011_02.info()"
   ]
  },
  {
   "cell_type": "markdown",
   "metadata": {},
   "source": [
    "#### 2012"
   ]
  },
  {
   "cell_type": "code",
   "execution_count": 66,
   "metadata": {},
   "outputs": [],
   "source": [
    "glp_2012_01 = pd.read_csv(\"rsc/glp-2012-01.csv\", sep=';')"
   ]
  },
  {
   "cell_type": "code",
   "execution_count": 67,
   "metadata": {},
   "outputs": [
    {
     "name": "stdout",
     "output_type": "stream",
     "text": [
      "<class 'pandas.core.frame.DataFrame'>\n",
      "RangeIndex: 209900 entries, 0 to 209899\n",
      "Data columns (total 16 columns):\n",
      " #   Column             Non-Null Count   Dtype \n",
      "---  ------             --------------   ----- \n",
      " 0   Regiao - Sigla     209900 non-null  object\n",
      " 1   Estado - Sigla     209900 non-null  object\n",
      " 2   Municipio          209900 non-null  object\n",
      " 3   Revenda            209900 non-null  object\n",
      " 4   CNPJ da Revenda    209900 non-null  object\n",
      " 5   Nome da Rua        209900 non-null  object\n",
      " 6   Numero Rua         209900 non-null  object\n",
      " 7   Complemento        46235 non-null   object\n",
      " 8   Bairro             209874 non-null  object\n",
      " 9   Cep                209900 non-null  object\n",
      " 10  Produto            209900 non-null  object\n",
      " 11  Data da Coleta     209900 non-null  object\n",
      " 12  Valor de Venda     209900 non-null  object\n",
      " 13  Valor de Compra    58020 non-null   object\n",
      " 14  Unidade de Medida  209900 non-null  object\n",
      " 15  Bandeira           209900 non-null  object\n",
      "dtypes: object(16)\n",
      "memory usage: 25.6+ MB\n"
     ]
    }
   ],
   "source": [
    "glp_2012_01.info()"
   ]
  },
  {
   "cell_type": "code",
   "execution_count": 68,
   "metadata": {},
   "outputs": [],
   "source": [
    "glp_2012_01['Valor de Venda'] = glp_2012_01['Valor de Venda'].str.replace(\",\", \".\", regex=True).astype(float)\n",
    "glp_2012_01['Valor de Compra'] = glp_2012_01['Valor de Compra'].str.replace(',', '.', regex=True).astype(float)"
   ]
  },
  {
   "cell_type": "code",
   "execution_count": 69,
   "metadata": {},
   "outputs": [
    {
     "name": "stdout",
     "output_type": "stream",
     "text": [
      "<class 'pandas.core.frame.DataFrame'>\n",
      "RangeIndex: 209900 entries, 0 to 209899\n",
      "Data columns (total 16 columns):\n",
      " #   Column             Non-Null Count   Dtype  \n",
      "---  ------             --------------   -----  \n",
      " 0   Regiao - Sigla     209900 non-null  object \n",
      " 1   Estado - Sigla     209900 non-null  object \n",
      " 2   Municipio          209900 non-null  object \n",
      " 3   Revenda            209900 non-null  object \n",
      " 4   CNPJ da Revenda    209900 non-null  object \n",
      " 5   Nome da Rua        209900 non-null  object \n",
      " 6   Numero Rua         209900 non-null  object \n",
      " 7   Complemento        46235 non-null   object \n",
      " 8   Bairro             209874 non-null  object \n",
      " 9   Cep                209900 non-null  object \n",
      " 10  Produto            209900 non-null  object \n",
      " 11  Data da Coleta     209900 non-null  object \n",
      " 12  Valor de Venda     209900 non-null  float64\n",
      " 13  Valor de Compra    58020 non-null   float64\n",
      " 14  Unidade de Medida  209900 non-null  object \n",
      " 15  Bandeira           209900 non-null  object \n",
      "dtypes: float64(2), object(14)\n",
      "memory usage: 25.6+ MB\n"
     ]
    }
   ],
   "source": [
    "glp_2012_01.info()"
   ]
  },
  {
   "cell_type": "code",
   "execution_count": 70,
   "metadata": {},
   "outputs": [],
   "source": [
    "glp_2012_02 = pd.read_csv(\"rsc/glp-2012-02.csv\", sep=';')"
   ]
  },
  {
   "cell_type": "code",
   "execution_count": 71,
   "metadata": {},
   "outputs": [
    {
     "name": "stdout",
     "output_type": "stream",
     "text": [
      "<class 'pandas.core.frame.DataFrame'>\n",
      "RangeIndex: 210866 entries, 0 to 210865\n",
      "Data columns (total 16 columns):\n",
      " #   Column             Non-Null Count   Dtype \n",
      "---  ------             --------------   ----- \n",
      " 0   Regiao - Sigla     210866 non-null  object\n",
      " 1   Estado - Sigla     210866 non-null  object\n",
      " 2   Municipio          210866 non-null  object\n",
      " 3   Revenda            210866 non-null  object\n",
      " 4   CNPJ da Revenda    210866 non-null  object\n",
      " 5   Nome da Rua        210866 non-null  object\n",
      " 6   Numero Rua         210866 non-null  object\n",
      " 7   Complemento        46841 non-null   object\n",
      " 8   Bairro             210840 non-null  object\n",
      " 9   Cep                210866 non-null  object\n",
      " 10  Produto            210866 non-null  object\n",
      " 11  Data da Coleta     210866 non-null  object\n",
      " 12  Valor de Venda     210866 non-null  object\n",
      " 13  Valor de Compra    64688 non-null   object\n",
      " 14  Unidade de Medida  210866 non-null  object\n",
      " 15  Bandeira           210866 non-null  object\n",
      "dtypes: object(16)\n",
      "memory usage: 25.7+ MB\n"
     ]
    }
   ],
   "source": [
    "glp_2012_02.info()"
   ]
  },
  {
   "cell_type": "code",
   "execution_count": 72,
   "metadata": {},
   "outputs": [],
   "source": [
    "glp_2012_02['Valor de Venda'] = glp_2012_02['Valor de Venda'].str.replace(\",\", \".\", regex=True).astype(float)\n",
    "glp_2012_02['Valor de Compra'] = glp_2012_02['Valor de Compra'].str.replace(',', '.', regex=True).astype(float)"
   ]
  },
  {
   "cell_type": "code",
   "execution_count": 73,
   "metadata": {},
   "outputs": [
    {
     "name": "stdout",
     "output_type": "stream",
     "text": [
      "<class 'pandas.core.frame.DataFrame'>\n",
      "RangeIndex: 210866 entries, 0 to 210865\n",
      "Data columns (total 16 columns):\n",
      " #   Column             Non-Null Count   Dtype  \n",
      "---  ------             --------------   -----  \n",
      " 0   Regiao - Sigla     210866 non-null  object \n",
      " 1   Estado - Sigla     210866 non-null  object \n",
      " 2   Municipio          210866 non-null  object \n",
      " 3   Revenda            210866 non-null  object \n",
      " 4   CNPJ da Revenda    210866 non-null  object \n",
      " 5   Nome da Rua        210866 non-null  object \n",
      " 6   Numero Rua         210866 non-null  object \n",
      " 7   Complemento        46841 non-null   object \n",
      " 8   Bairro             210840 non-null  object \n",
      " 9   Cep                210866 non-null  object \n",
      " 10  Produto            210866 non-null  object \n",
      " 11  Data da Coleta     210866 non-null  object \n",
      " 12  Valor de Venda     210866 non-null  float64\n",
      " 13  Valor de Compra    64688 non-null   float64\n",
      " 14  Unidade de Medida  210866 non-null  object \n",
      " 15  Bandeira           210866 non-null  object \n",
      "dtypes: float64(2), object(14)\n",
      "memory usage: 25.7+ MB\n"
     ]
    }
   ],
   "source": [
    "glp_2012_02.info()"
   ]
  },
  {
   "cell_type": "markdown",
   "metadata": {},
   "source": [
    "#### 2013"
   ]
  },
  {
   "cell_type": "code",
   "execution_count": 74,
   "metadata": {},
   "outputs": [],
   "source": [
    "glp_2013_01 = pd.read_csv(\"rsc/glp-2013-01.csv\", sep=';')"
   ]
  },
  {
   "cell_type": "code",
   "execution_count": 75,
   "metadata": {},
   "outputs": [
    {
     "name": "stdout",
     "output_type": "stream",
     "text": [
      "<class 'pandas.core.frame.DataFrame'>\n",
      "RangeIndex: 209102 entries, 0 to 209101\n",
      "Data columns (total 16 columns):\n",
      " #   Column             Non-Null Count   Dtype \n",
      "---  ------             --------------   ----- \n",
      " 0   Regiao - Sigla     209102 non-null  object\n",
      " 1   Estado - Sigla     209102 non-null  object\n",
      " 2   Municipio          209102 non-null  object\n",
      " 3   Revenda            209102 non-null  object\n",
      " 4   CNPJ da Revenda    209102 non-null  object\n",
      " 5   Nome da Rua        209102 non-null  object\n",
      " 6   Numero Rua         209094 non-null  object\n",
      " 7   Complemento        46505 non-null   object\n",
      " 8   Bairro             209092 non-null  object\n",
      " 9   Cep                209102 non-null  object\n",
      " 10  Produto            209102 non-null  object\n",
      " 11  Data da Coleta     209102 non-null  object\n",
      " 12  Valor de Venda     209102 non-null  object\n",
      " 13  Valor de Compra    63609 non-null   object\n",
      " 14  Unidade de Medida  209102 non-null  object\n",
      " 15  Bandeira           209102 non-null  object\n",
      "dtypes: object(16)\n",
      "memory usage: 25.5+ MB\n"
     ]
    }
   ],
   "source": [
    "glp_2013_01.info()"
   ]
  },
  {
   "cell_type": "code",
   "execution_count": 76,
   "metadata": {},
   "outputs": [],
   "source": [
    "glp_2013_01['Valor de Venda'] = glp_2013_01['Valor de Venda'].str.replace(\",\", \".\", regex=True).astype(float)\n",
    "glp_2013_01['Valor de Compra'] = glp_2013_01['Valor de Compra'].str.replace(',', '.', regex=True).astype(float)"
   ]
  },
  {
   "cell_type": "code",
   "execution_count": 77,
   "metadata": {},
   "outputs": [
    {
     "name": "stdout",
     "output_type": "stream",
     "text": [
      "<class 'pandas.core.frame.DataFrame'>\n",
      "RangeIndex: 209102 entries, 0 to 209101\n",
      "Data columns (total 16 columns):\n",
      " #   Column             Non-Null Count   Dtype  \n",
      "---  ------             --------------   -----  \n",
      " 0   Regiao - Sigla     209102 non-null  object \n",
      " 1   Estado - Sigla     209102 non-null  object \n",
      " 2   Municipio          209102 non-null  object \n",
      " 3   Revenda            209102 non-null  object \n",
      " 4   CNPJ da Revenda    209102 non-null  object \n",
      " 5   Nome da Rua        209102 non-null  object \n",
      " 6   Numero Rua         209094 non-null  object \n",
      " 7   Complemento        46505 non-null   object \n",
      " 8   Bairro             209092 non-null  object \n",
      " 9   Cep                209102 non-null  object \n",
      " 10  Produto            209102 non-null  object \n",
      " 11  Data da Coleta     209102 non-null  object \n",
      " 12  Valor de Venda     209102 non-null  float64\n",
      " 13  Valor de Compra    63609 non-null   float64\n",
      " 14  Unidade de Medida  209102 non-null  object \n",
      " 15  Bandeira           209102 non-null  object \n",
      "dtypes: float64(2), object(14)\n",
      "memory usage: 25.5+ MB\n"
     ]
    }
   ],
   "source": [
    "glp_2013_01.info()"
   ]
  },
  {
   "cell_type": "code",
   "execution_count": 78,
   "metadata": {},
   "outputs": [],
   "source": [
    "glp_2013_02 = pd.read_csv(\"rsc/glp-2013-02.csv\", sep=';')"
   ]
  },
  {
   "cell_type": "code",
   "execution_count": 79,
   "metadata": {},
   "outputs": [
    {
     "name": "stdout",
     "output_type": "stream",
     "text": [
      "<class 'pandas.core.frame.DataFrame'>\n",
      "RangeIndex: 212689 entries, 0 to 212688\n",
      "Data columns (total 16 columns):\n",
      " #   Column             Non-Null Count   Dtype \n",
      "---  ------             --------------   ----- \n",
      " 0   Regiao - Sigla     212689 non-null  object\n",
      " 1   Estado - Sigla     212689 non-null  object\n",
      " 2   Municipio          212689 non-null  object\n",
      " 3   Revenda            212689 non-null  object\n",
      " 4   CNPJ da Revenda    212689 non-null  object\n",
      " 5   Nome da Rua        212689 non-null  object\n",
      " 6   Numero Rua         212667 non-null  object\n",
      " 7   Complemento        47253 non-null   object\n",
      " 8   Bairro             212689 non-null  object\n",
      " 9   Cep                212689 non-null  object\n",
      " 10  Produto            212689 non-null  object\n",
      " 11  Data da Coleta     212689 non-null  object\n",
      " 12  Valor de Venda     212689 non-null  object\n",
      " 13  Valor de Compra    58310 non-null   object\n",
      " 14  Unidade de Medida  212689 non-null  object\n",
      " 15  Bandeira           212689 non-null  object\n",
      "dtypes: object(16)\n",
      "memory usage: 26.0+ MB\n"
     ]
    }
   ],
   "source": [
    "glp_2013_02.info()"
   ]
  },
  {
   "cell_type": "code",
   "execution_count": 80,
   "metadata": {},
   "outputs": [],
   "source": [
    "glp_2013_02['Valor de Venda'] = glp_2013_02['Valor de Venda'].str.replace(\",\", \".\", regex=True).astype(float)\n",
    "glp_2013_02['Valor de Compra'] = glp_2013_02['Valor de Compra'].str.replace(',', '.', regex=True).astype(float)"
   ]
  },
  {
   "cell_type": "code",
   "execution_count": 81,
   "metadata": {},
   "outputs": [
    {
     "name": "stdout",
     "output_type": "stream",
     "text": [
      "<class 'pandas.core.frame.DataFrame'>\n",
      "RangeIndex: 212689 entries, 0 to 212688\n",
      "Data columns (total 16 columns):\n",
      " #   Column             Non-Null Count   Dtype  \n",
      "---  ------             --------------   -----  \n",
      " 0   Regiao - Sigla     212689 non-null  object \n",
      " 1   Estado - Sigla     212689 non-null  object \n",
      " 2   Municipio          212689 non-null  object \n",
      " 3   Revenda            212689 non-null  object \n",
      " 4   CNPJ da Revenda    212689 non-null  object \n",
      " 5   Nome da Rua        212689 non-null  object \n",
      " 6   Numero Rua         212667 non-null  object \n",
      " 7   Complemento        47253 non-null   object \n",
      " 8   Bairro             212689 non-null  object \n",
      " 9   Cep                212689 non-null  object \n",
      " 10  Produto            212689 non-null  object \n",
      " 11  Data da Coleta     212689 non-null  object \n",
      " 12  Valor de Venda     212689 non-null  float64\n",
      " 13  Valor de Compra    58310 non-null   float64\n",
      " 14  Unidade de Medida  212689 non-null  object \n",
      " 15  Bandeira           212689 non-null  object \n",
      "dtypes: float64(2), object(14)\n",
      "memory usage: 26.0+ MB\n"
     ]
    }
   ],
   "source": [
    "glp_2013_02.info()"
   ]
  },
  {
   "cell_type": "markdown",
   "metadata": {},
   "source": [
    "#### 2014"
   ]
  },
  {
   "cell_type": "code",
   "execution_count": 82,
   "metadata": {},
   "outputs": [],
   "source": [
    "glp_2014_01 = pd.read_csv(\"rsc/glp-2014-01.csv\", sep=';')"
   ]
  },
  {
   "cell_type": "code",
   "execution_count": 83,
   "metadata": {},
   "outputs": [
    {
     "name": "stdout",
     "output_type": "stream",
     "text": [
      "<class 'pandas.core.frame.DataFrame'>\n",
      "RangeIndex: 205186 entries, 0 to 205185\n",
      "Data columns (total 16 columns):\n",
      " #   Column             Non-Null Count   Dtype \n",
      "---  ------             --------------   ----- \n",
      " 0   Regiao - Sigla     205186 non-null  object\n",
      " 1   Estado - Sigla     205186 non-null  object\n",
      " 2   Municipio          205186 non-null  object\n",
      " 3   Revenda            205186 non-null  object\n",
      " 4   CNPJ da Revenda    205186 non-null  object\n",
      " 5   Nome da Rua        205186 non-null  object\n",
      " 6   Numero Rua         205161 non-null  object\n",
      " 7   Complemento        44952 non-null   object\n",
      " 8   Bairro             205186 non-null  object\n",
      " 9   Cep                205186 non-null  object\n",
      " 10  Produto            205186 non-null  object\n",
      " 11  Data da Coleta     205186 non-null  object\n",
      " 12  Valor de Venda     205186 non-null  object\n",
      " 13  Valor de Compra    52338 non-null   object\n",
      " 14  Unidade de Medida  205186 non-null  object\n",
      " 15  Bandeira           205186 non-null  object\n",
      "dtypes: object(16)\n",
      "memory usage: 25.0+ MB\n"
     ]
    }
   ],
   "source": [
    "glp_2014_01.info()"
   ]
  },
  {
   "cell_type": "code",
   "execution_count": 84,
   "metadata": {},
   "outputs": [],
   "source": [
    "glp_2014_01['Valor de Venda'] = glp_2014_01['Valor de Venda'].str.replace(\",\", \".\", regex=True).astype(float)\n",
    "glp_2014_01['Valor de Compra'] = glp_2014_01['Valor de Compra'].str.replace(',', '.', regex=True).astype(float)"
   ]
  },
  {
   "cell_type": "code",
   "execution_count": 85,
   "metadata": {},
   "outputs": [
    {
     "name": "stdout",
     "output_type": "stream",
     "text": [
      "<class 'pandas.core.frame.DataFrame'>\n",
      "RangeIndex: 205186 entries, 0 to 205185\n",
      "Data columns (total 16 columns):\n",
      " #   Column             Non-Null Count   Dtype  \n",
      "---  ------             --------------   -----  \n",
      " 0   Regiao - Sigla     205186 non-null  object \n",
      " 1   Estado - Sigla     205186 non-null  object \n",
      " 2   Municipio          205186 non-null  object \n",
      " 3   Revenda            205186 non-null  object \n",
      " 4   CNPJ da Revenda    205186 non-null  object \n",
      " 5   Nome da Rua        205186 non-null  object \n",
      " 6   Numero Rua         205161 non-null  object \n",
      " 7   Complemento        44952 non-null   object \n",
      " 8   Bairro             205186 non-null  object \n",
      " 9   Cep                205186 non-null  object \n",
      " 10  Produto            205186 non-null  object \n",
      " 11  Data da Coleta     205186 non-null  object \n",
      " 12  Valor de Venda     205186 non-null  float64\n",
      " 13  Valor de Compra    52338 non-null   float64\n",
      " 14  Unidade de Medida  205186 non-null  object \n",
      " 15  Bandeira           205186 non-null  object \n",
      "dtypes: float64(2), object(14)\n",
      "memory usage: 25.0+ MB\n"
     ]
    }
   ],
   "source": [
    "glp_2014_01.info()"
   ]
  },
  {
   "cell_type": "code",
   "execution_count": 86,
   "metadata": {},
   "outputs": [],
   "source": [
    "glp_2014_02 = pd.read_csv(\"rsc/glp-2014-02.csv\", sep=';')"
   ]
  },
  {
   "cell_type": "code",
   "execution_count": 87,
   "metadata": {},
   "outputs": [
    {
     "name": "stdout",
     "output_type": "stream",
     "text": [
      "<class 'pandas.core.frame.DataFrame'>\n",
      "RangeIndex: 213453 entries, 0 to 213452\n",
      "Data columns (total 16 columns):\n",
      " #   Column             Non-Null Count   Dtype \n",
      "---  ------             --------------   ----- \n",
      " 0   Regiao - Sigla     213453 non-null  object\n",
      " 1   Estado - Sigla     213453 non-null  object\n",
      " 2   Municipio          213453 non-null  object\n",
      " 3   Revenda            213453 non-null  object\n",
      " 4   CNPJ da Revenda    213453 non-null  object\n",
      " 5   Nome da Rua        213453 non-null  object\n",
      " 6   Numero Rua         213430 non-null  object\n",
      " 7   Complemento        46762 non-null   object\n",
      " 8   Bairro             213453 non-null  object\n",
      " 9   Cep                213453 non-null  object\n",
      " 10  Produto            213453 non-null  object\n",
      " 11  Data da Coleta     213453 non-null  object\n",
      " 12  Valor de Venda     213453 non-null  object\n",
      " 13  Valor de Compra    53198 non-null   object\n",
      " 14  Unidade de Medida  213453 non-null  object\n",
      " 15  Bandeira           213453 non-null  object\n",
      "dtypes: object(16)\n",
      "memory usage: 26.1+ MB\n"
     ]
    }
   ],
   "source": [
    "glp_2014_02.info()"
   ]
  },
  {
   "cell_type": "code",
   "execution_count": 88,
   "metadata": {},
   "outputs": [],
   "source": [
    "glp_2014_02['Valor de Venda'] = glp_2014_02['Valor de Venda'].str.replace(\",\", \".\", regex=True).astype(float)\n",
    "glp_2014_02['Valor de Compra'] = glp_2014_02['Valor de Compra'].str.replace(',', '.', regex=True).astype(float)"
   ]
  },
  {
   "cell_type": "code",
   "execution_count": 89,
   "metadata": {},
   "outputs": [
    {
     "name": "stdout",
     "output_type": "stream",
     "text": [
      "<class 'pandas.core.frame.DataFrame'>\n",
      "RangeIndex: 213453 entries, 0 to 213452\n",
      "Data columns (total 16 columns):\n",
      " #   Column             Non-Null Count   Dtype  \n",
      "---  ------             --------------   -----  \n",
      " 0   Regiao - Sigla     213453 non-null  object \n",
      " 1   Estado - Sigla     213453 non-null  object \n",
      " 2   Municipio          213453 non-null  object \n",
      " 3   Revenda            213453 non-null  object \n",
      " 4   CNPJ da Revenda    213453 non-null  object \n",
      " 5   Nome da Rua        213453 non-null  object \n",
      " 6   Numero Rua         213430 non-null  object \n",
      " 7   Complemento        46762 non-null   object \n",
      " 8   Bairro             213453 non-null  object \n",
      " 9   Cep                213453 non-null  object \n",
      " 10  Produto            213453 non-null  object \n",
      " 11  Data da Coleta     213453 non-null  object \n",
      " 12  Valor de Venda     213453 non-null  float64\n",
      " 13  Valor de Compra    53198 non-null   float64\n",
      " 14  Unidade de Medida  213453 non-null  object \n",
      " 15  Bandeira           213453 non-null  object \n",
      "dtypes: float64(2), object(14)\n",
      "memory usage: 26.1+ MB\n"
     ]
    }
   ],
   "source": [
    "glp_2014_02.info()"
   ]
  },
  {
   "cell_type": "markdown",
   "metadata": {},
   "source": [
    "#### 2015"
   ]
  },
  {
   "cell_type": "code",
   "execution_count": 90,
   "metadata": {},
   "outputs": [],
   "source": [
    "glp_2015_01 = pd.read_csv(\"rsc/glp-2015-01.csv\", sep=';')"
   ]
  },
  {
   "cell_type": "code",
   "execution_count": 91,
   "metadata": {},
   "outputs": [
    {
     "name": "stdout",
     "output_type": "stream",
     "text": [
      "<class 'pandas.core.frame.DataFrame'>\n",
      "RangeIndex: 192999 entries, 0 to 192998\n",
      "Data columns (total 16 columns):\n",
      " #   Column             Non-Null Count   Dtype \n",
      "---  ------             --------------   ----- \n",
      " 0   Regiao - Sigla     192999 non-null  object\n",
      " 1   Estado - Sigla     192999 non-null  object\n",
      " 2   Municipio          192999 non-null  object\n",
      " 3   Revenda            192999 non-null  object\n",
      " 4   CNPJ da Revenda    192999 non-null  object\n",
      " 5   Nome da Rua        192999 non-null  object\n",
      " 6   Numero Rua         192979 non-null  object\n",
      " 7   Complemento        45692 non-null   object\n",
      " 8   Bairro             192999 non-null  object\n",
      " 9   Cep                192999 non-null  object\n",
      " 10  Produto            192999 non-null  object\n",
      " 11  Data da Coleta     192999 non-null  object\n",
      " 12  Valor de Venda     192999 non-null  object\n",
      " 13  Valor de Compra    43903 non-null   object\n",
      " 14  Unidade de Medida  192999 non-null  object\n",
      " 15  Bandeira           192999 non-null  object\n",
      "dtypes: object(16)\n",
      "memory usage: 23.6+ MB\n"
     ]
    }
   ],
   "source": [
    "glp_2015_01.info()"
   ]
  },
  {
   "cell_type": "code",
   "execution_count": 92,
   "metadata": {},
   "outputs": [],
   "source": [
    "glp_2015_01['Valor de Venda'] = glp_2015_01['Valor de Venda'].str.replace(\",\", \".\", regex=True).astype(float)\n",
    "glp_2015_01['Valor de Compra'] = glp_2015_01['Valor de Compra'].str.replace(',', '.', regex=True).astype(float)"
   ]
  },
  {
   "cell_type": "code",
   "execution_count": 93,
   "metadata": {},
   "outputs": [
    {
     "name": "stdout",
     "output_type": "stream",
     "text": [
      "<class 'pandas.core.frame.DataFrame'>\n",
      "RangeIndex: 192999 entries, 0 to 192998\n",
      "Data columns (total 16 columns):\n",
      " #   Column             Non-Null Count   Dtype  \n",
      "---  ------             --------------   -----  \n",
      " 0   Regiao - Sigla     192999 non-null  object \n",
      " 1   Estado - Sigla     192999 non-null  object \n",
      " 2   Municipio          192999 non-null  object \n",
      " 3   Revenda            192999 non-null  object \n",
      " 4   CNPJ da Revenda    192999 non-null  object \n",
      " 5   Nome da Rua        192999 non-null  object \n",
      " 6   Numero Rua         192979 non-null  object \n",
      " 7   Complemento        45692 non-null   object \n",
      " 8   Bairro             192999 non-null  object \n",
      " 9   Cep                192999 non-null  object \n",
      " 10  Produto            192999 non-null  object \n",
      " 11  Data da Coleta     192999 non-null  object \n",
      " 12  Valor de Venda     192999 non-null  float64\n",
      " 13  Valor de Compra    43903 non-null   float64\n",
      " 14  Unidade de Medida  192999 non-null  object \n",
      " 15  Bandeira           192999 non-null  object \n",
      "dtypes: float64(2), object(14)\n",
      "memory usage: 23.6+ MB\n"
     ]
    }
   ],
   "source": [
    "glp_2015_01.info()"
   ]
  },
  {
   "cell_type": "code",
   "execution_count": 94,
   "metadata": {},
   "outputs": [],
   "source": [
    "glp_2015_02 = pd.read_csv(\"rsc/glp-2015-02.csv\", sep=';')"
   ]
  },
  {
   "cell_type": "code",
   "execution_count": 95,
   "metadata": {},
   "outputs": [
    {
     "name": "stdout",
     "output_type": "stream",
     "text": [
      "<class 'pandas.core.frame.DataFrame'>\n",
      "RangeIndex: 123646 entries, 0 to 123645\n",
      "Data columns (total 16 columns):\n",
      " #   Column             Non-Null Count   Dtype \n",
      "---  ------             --------------   ----- \n",
      " 0   Regiao - Sigla     123646 non-null  object\n",
      " 1   Estado - Sigla     123646 non-null  object\n",
      " 2   Municipio          123646 non-null  object\n",
      " 3   Revenda            123646 non-null  object\n",
      " 4   CNPJ da Revenda    123646 non-null  object\n",
      " 5   Nome da Rua        123646 non-null  object\n",
      " 6   Numero Rua         123632 non-null  object\n",
      " 7   Complemento        33281 non-null   object\n",
      " 8   Bairro             123646 non-null  object\n",
      " 9   Cep                123646 non-null  object\n",
      " 10  Produto            123646 non-null  object\n",
      " 11  Data da Coleta     123646 non-null  object\n",
      " 12  Valor de Venda     123646 non-null  object\n",
      " 13  Valor de Compra    31039 non-null   object\n",
      " 14  Unidade de Medida  123646 non-null  object\n",
      " 15  Bandeira           123646 non-null  object\n",
      "dtypes: object(16)\n",
      "memory usage: 15.1+ MB\n"
     ]
    }
   ],
   "source": [
    "glp_2015_02.info()"
   ]
  },
  {
   "cell_type": "code",
   "execution_count": 96,
   "metadata": {},
   "outputs": [],
   "source": [
    "glp_2015_02['Valor de Venda'] = glp_2015_02['Valor de Venda'].str.replace(\",\", \".\", regex=True).astype(float)\n",
    "glp_2015_02['Valor de Compra'] = glp_2015_02['Valor de Compra'].str.replace(',', '.', regex=True).astype(float)"
   ]
  },
  {
   "cell_type": "code",
   "execution_count": 97,
   "metadata": {},
   "outputs": [
    {
     "name": "stdout",
     "output_type": "stream",
     "text": [
      "<class 'pandas.core.frame.DataFrame'>\n",
      "RangeIndex: 123646 entries, 0 to 123645\n",
      "Data columns (total 16 columns):\n",
      " #   Column             Non-Null Count   Dtype  \n",
      "---  ------             --------------   -----  \n",
      " 0   Regiao - Sigla     123646 non-null  object \n",
      " 1   Estado - Sigla     123646 non-null  object \n",
      " 2   Municipio          123646 non-null  object \n",
      " 3   Revenda            123646 non-null  object \n",
      " 4   CNPJ da Revenda    123646 non-null  object \n",
      " 5   Nome da Rua        123646 non-null  object \n",
      " 6   Numero Rua         123632 non-null  object \n",
      " 7   Complemento        33281 non-null   object \n",
      " 8   Bairro             123646 non-null  object \n",
      " 9   Cep                123646 non-null  object \n",
      " 10  Produto            123646 non-null  object \n",
      " 11  Data da Coleta     123646 non-null  object \n",
      " 12  Valor de Venda     123646 non-null  float64\n",
      " 13  Valor de Compra    31039 non-null   float64\n",
      " 14  Unidade de Medida  123646 non-null  object \n",
      " 15  Bandeira           123646 non-null  object \n",
      "dtypes: float64(2), object(14)\n",
      "memory usage: 15.1+ MB\n"
     ]
    }
   ],
   "source": [
    "glp_2015_02.info()"
   ]
  },
  {
   "cell_type": "markdown",
   "metadata": {},
   "source": [
    "#### 2016"
   ]
  },
  {
   "cell_type": "code",
   "execution_count": 98,
   "metadata": {},
   "outputs": [],
   "source": [
    "glp_2016_01 = pd.read_csv(\"rsc/glp-2016-01.csv\", sep=';')"
   ]
  },
  {
   "cell_type": "code",
   "execution_count": 99,
   "metadata": {},
   "outputs": [
    {
     "name": "stdout",
     "output_type": "stream",
     "text": [
      "<class 'pandas.core.frame.DataFrame'>\n",
      "RangeIndex: 143226 entries, 0 to 143225\n",
      "Data columns (total 16 columns):\n",
      " #   Column             Non-Null Count   Dtype \n",
      "---  ------             --------------   ----- \n",
      " 0   Regiao - Sigla     143226 non-null  object\n",
      " 1   Estado - Sigla     143226 non-null  object\n",
      " 2   Municipio          143226 non-null  object\n",
      " 3   Revenda            143226 non-null  object\n",
      " 4   CNPJ da Revenda    143226 non-null  object\n",
      " 5   Nome da Rua        143226 non-null  object\n",
      " 6   Numero Rua         143189 non-null  object\n",
      " 7   Complemento        38384 non-null   object\n",
      " 8   Bairro             143226 non-null  object\n",
      " 9   Cep                143226 non-null  object\n",
      " 10  Produto            143226 non-null  object\n",
      " 11  Data da Coleta     143226 non-null  object\n",
      " 12  Valor de Venda     143226 non-null  object\n",
      " 13  Valor de Compra    32332 non-null   object\n",
      " 14  Unidade de Medida  143226 non-null  object\n",
      " 15  Bandeira           143226 non-null  object\n",
      "dtypes: object(16)\n",
      "memory usage: 17.5+ MB\n"
     ]
    }
   ],
   "source": [
    "glp_2016_01.info()"
   ]
  },
  {
   "cell_type": "code",
   "execution_count": 100,
   "metadata": {},
   "outputs": [],
   "source": [
    "glp_2016_01['Valor de Venda'] = glp_2016_01['Valor de Venda'].str.replace(\",\", \".\", regex=True).astype(float)\n",
    "glp_2016_01['Valor de Compra'] = glp_2016_01['Valor de Compra'].str.replace(',', '.', regex=True).astype(float)"
   ]
  },
  {
   "cell_type": "code",
   "execution_count": 101,
   "metadata": {},
   "outputs": [
    {
     "name": "stdout",
     "output_type": "stream",
     "text": [
      "<class 'pandas.core.frame.DataFrame'>\n",
      "RangeIndex: 143226 entries, 0 to 143225\n",
      "Data columns (total 16 columns):\n",
      " #   Column             Non-Null Count   Dtype  \n",
      "---  ------             --------------   -----  \n",
      " 0   Regiao - Sigla     143226 non-null  object \n",
      " 1   Estado - Sigla     143226 non-null  object \n",
      " 2   Municipio          143226 non-null  object \n",
      " 3   Revenda            143226 non-null  object \n",
      " 4   CNPJ da Revenda    143226 non-null  object \n",
      " 5   Nome da Rua        143226 non-null  object \n",
      " 6   Numero Rua         143189 non-null  object \n",
      " 7   Complemento        38384 non-null   object \n",
      " 8   Bairro             143226 non-null  object \n",
      " 9   Cep                143226 non-null  object \n",
      " 10  Produto            143226 non-null  object \n",
      " 11  Data da Coleta     143226 non-null  object \n",
      " 12  Valor de Venda     143226 non-null  float64\n",
      " 13  Valor de Compra    32332 non-null   float64\n",
      " 14  Unidade de Medida  143226 non-null  object \n",
      " 15  Bandeira           143226 non-null  object \n",
      "dtypes: float64(2), object(14)\n",
      "memory usage: 17.5+ MB\n"
     ]
    }
   ],
   "source": [
    "glp_2016_01.info()"
   ]
  },
  {
   "cell_type": "code",
   "execution_count": 102,
   "metadata": {},
   "outputs": [],
   "source": [
    "glp_2016_02 = pd.read_csv(\"rsc/glp-2016-02.csv\", sep=';')"
   ]
  },
  {
   "cell_type": "code",
   "execution_count": 103,
   "metadata": {},
   "outputs": [
    {
     "name": "stdout",
     "output_type": "stream",
     "text": [
      "<class 'pandas.core.frame.DataFrame'>\n",
      "RangeIndex: 142753 entries, 0 to 142752\n",
      "Data columns (total 16 columns):\n",
      " #   Column             Non-Null Count   Dtype \n",
      "---  ------             --------------   ----- \n",
      " 0   Regiao - Sigla     142753 non-null  object\n",
      " 1   Estado - Sigla     142753 non-null  object\n",
      " 2   Municipio          142753 non-null  object\n",
      " 3   Revenda            142753 non-null  object\n",
      " 4   CNPJ da Revenda    142753 non-null  object\n",
      " 5   Nome da Rua        142753 non-null  object\n",
      " 6   Numero Rua         142727 non-null  object\n",
      " 7   Complemento        37372 non-null   object\n",
      " 8   Bairro             142753 non-null  object\n",
      " 9   Cep                142753 non-null  object\n",
      " 10  Produto            142753 non-null  object\n",
      " 11  Data da Coleta     142753 non-null  object\n",
      " 12  Valor de Venda     142753 non-null  object\n",
      " 13  Valor de Compra    47823 non-null   object\n",
      " 14  Unidade de Medida  142753 non-null  object\n",
      " 15  Bandeira           142753 non-null  object\n",
      "dtypes: object(16)\n",
      "memory usage: 17.4+ MB\n"
     ]
    }
   ],
   "source": [
    "glp_2016_02.info()"
   ]
  },
  {
   "cell_type": "code",
   "execution_count": 104,
   "metadata": {},
   "outputs": [],
   "source": [
    "glp_2016_02['Valor de Venda'] = glp_2016_02['Valor de Venda'].str.replace(\",\", \".\", regex=True).astype(float)\n",
    "glp_2016_02['Valor de Compra'] = glp_2016_02['Valor de Compra'].str.replace(',', '.', regex=True).astype(float)"
   ]
  },
  {
   "cell_type": "code",
   "execution_count": 105,
   "metadata": {},
   "outputs": [
    {
     "name": "stdout",
     "output_type": "stream",
     "text": [
      "<class 'pandas.core.frame.DataFrame'>\n",
      "RangeIndex: 142753 entries, 0 to 142752\n",
      "Data columns (total 16 columns):\n",
      " #   Column             Non-Null Count   Dtype  \n",
      "---  ------             --------------   -----  \n",
      " 0   Regiao - Sigla     142753 non-null  object \n",
      " 1   Estado - Sigla     142753 non-null  object \n",
      " 2   Municipio          142753 non-null  object \n",
      " 3   Revenda            142753 non-null  object \n",
      " 4   CNPJ da Revenda    142753 non-null  object \n",
      " 5   Nome da Rua        142753 non-null  object \n",
      " 6   Numero Rua         142727 non-null  object \n",
      " 7   Complemento        37372 non-null   object \n",
      " 8   Bairro             142753 non-null  object \n",
      " 9   Cep                142753 non-null  object \n",
      " 10  Produto            142753 non-null  object \n",
      " 11  Data da Coleta     142753 non-null  object \n",
      " 12  Valor de Venda     142753 non-null  float64\n",
      " 13  Valor de Compra    47823 non-null   float64\n",
      " 14  Unidade de Medida  142753 non-null  object \n",
      " 15  Bandeira           142753 non-null  object \n",
      "dtypes: float64(2), object(14)\n",
      "memory usage: 17.4+ MB\n"
     ]
    }
   ],
   "source": [
    "glp_2016_02.info()"
   ]
  },
  {
   "cell_type": "markdown",
   "metadata": {},
   "source": [
    "#### 2017"
   ]
  },
  {
   "cell_type": "code",
   "execution_count": 106,
   "metadata": {},
   "outputs": [],
   "source": [
    "glp_2017_01 = pd.read_csv(\"rsc/glp-2017-01.csv\", sep=';')"
   ]
  },
  {
   "cell_type": "code",
   "execution_count": 107,
   "metadata": {},
   "outputs": [
    {
     "name": "stdout",
     "output_type": "stream",
     "text": [
      "<class 'pandas.core.frame.DataFrame'>\n",
      "RangeIndex: 143201 entries, 0 to 143200\n",
      "Data columns (total 16 columns):\n",
      " #   Column             Non-Null Count   Dtype \n",
      "---  ------             --------------   ----- \n",
      " 0   Regiao - Sigla     143201 non-null  object\n",
      " 1   Estado - Sigla     143201 non-null  object\n",
      " 2   Municipio          143201 non-null  object\n",
      " 3   Revenda            143201 non-null  object\n",
      " 4   CNPJ da Revenda    143201 non-null  object\n",
      " 5   Nome da Rua        143201 non-null  object\n",
      " 6   Numero Rua         143199 non-null  object\n",
      " 7   Complemento        35696 non-null   object\n",
      " 8   Bairro             143181 non-null  object\n",
      " 9   Cep                143201 non-null  object\n",
      " 10  Produto            143201 non-null  object\n",
      " 11  Data da Coleta     143201 non-null  object\n",
      " 12  Valor de Venda     143201 non-null  object\n",
      " 13  Valor de Compra    50277 non-null   object\n",
      " 14  Unidade de Medida  143201 non-null  object\n",
      " 15  Bandeira           143201 non-null  object\n",
      "dtypes: object(16)\n",
      "memory usage: 17.5+ MB\n"
     ]
    }
   ],
   "source": [
    "glp_2017_01.info()"
   ]
  },
  {
   "cell_type": "code",
   "execution_count": 108,
   "metadata": {},
   "outputs": [],
   "source": [
    "glp_2017_01['Valor de Venda'] = glp_2017_01['Valor de Venda'].str.replace(\",\", \".\", regex=True).astype(float)\n",
    "glp_2017_01['Valor de Compra'] = glp_2017_01['Valor de Compra'].str.replace(',', '.', regex=True).astype(float)"
   ]
  },
  {
   "cell_type": "code",
   "execution_count": 109,
   "metadata": {},
   "outputs": [
    {
     "name": "stdout",
     "output_type": "stream",
     "text": [
      "<class 'pandas.core.frame.DataFrame'>\n",
      "RangeIndex: 143201 entries, 0 to 143200\n",
      "Data columns (total 16 columns):\n",
      " #   Column             Non-Null Count   Dtype  \n",
      "---  ------             --------------   -----  \n",
      " 0   Regiao - Sigla     143201 non-null  object \n",
      " 1   Estado - Sigla     143201 non-null  object \n",
      " 2   Municipio          143201 non-null  object \n",
      " 3   Revenda            143201 non-null  object \n",
      " 4   CNPJ da Revenda    143201 non-null  object \n",
      " 5   Nome da Rua        143201 non-null  object \n",
      " 6   Numero Rua         143199 non-null  object \n",
      " 7   Complemento        35696 non-null   object \n",
      " 8   Bairro             143181 non-null  object \n",
      " 9   Cep                143201 non-null  object \n",
      " 10  Produto            143201 non-null  object \n",
      " 11  Data da Coleta     143201 non-null  object \n",
      " 12  Valor de Venda     143201 non-null  float64\n",
      " 13  Valor de Compra    50277 non-null   float64\n",
      " 14  Unidade de Medida  143201 non-null  object \n",
      " 15  Bandeira           143201 non-null  object \n",
      "dtypes: float64(2), object(14)\n",
      "memory usage: 17.5+ MB\n"
     ]
    }
   ],
   "source": [
    "glp_2017_01.info()"
   ]
  },
  {
   "cell_type": "code",
   "execution_count": 110,
   "metadata": {},
   "outputs": [],
   "source": [
    "glp_2017_02 = pd.read_csv(\"rsc/glp-2017-02.csv\", sep=';')"
   ]
  },
  {
   "cell_type": "code",
   "execution_count": 111,
   "metadata": {},
   "outputs": [
    {
     "name": "stdout",
     "output_type": "stream",
     "text": [
      "<class 'pandas.core.frame.DataFrame'>\n",
      "RangeIndex: 143201 entries, 0 to 143200\n",
      "Data columns (total 16 columns):\n",
      " #   Column             Non-Null Count   Dtype  \n",
      "---  ------             --------------   -----  \n",
      " 0   Regiao - Sigla     143201 non-null  object \n",
      " 1   Estado - Sigla     143201 non-null  object \n",
      " 2   Municipio          143201 non-null  object \n",
      " 3   Revenda            143201 non-null  object \n",
      " 4   CNPJ da Revenda    143201 non-null  object \n",
      " 5   Nome da Rua        143201 non-null  object \n",
      " 6   Numero Rua         143199 non-null  object \n",
      " 7   Complemento        35696 non-null   object \n",
      " 8   Bairro             143181 non-null  object \n",
      " 9   Cep                143201 non-null  object \n",
      " 10  Produto            143201 non-null  object \n",
      " 11  Data da Coleta     143201 non-null  object \n",
      " 12  Valor de Venda     143201 non-null  float64\n",
      " 13  Valor de Compra    50277 non-null   float64\n",
      " 14  Unidade de Medida  143201 non-null  object \n",
      " 15  Bandeira           143201 non-null  object \n",
      "dtypes: float64(2), object(14)\n",
      "memory usage: 17.5+ MB\n"
     ]
    }
   ],
   "source": [
    "glp_2017_01.info()"
   ]
  },
  {
   "cell_type": "code",
   "execution_count": 112,
   "metadata": {},
   "outputs": [],
   "source": [
    "glp_2017_02['Valor de Venda'] = glp_2017_02['Valor de Venda'].str.replace(\",\", \".\", regex=True).astype(float)\n",
    "glp_2017_02['Valor de Compra'] = glp_2017_02['Valor de Compra'].str.replace(',', '.', regex=True).astype(float)"
   ]
  },
  {
   "cell_type": "code",
   "execution_count": 113,
   "metadata": {},
   "outputs": [
    {
     "name": "stdout",
     "output_type": "stream",
     "text": [
      "<class 'pandas.core.frame.DataFrame'>\n",
      "RangeIndex: 143201 entries, 0 to 143200\n",
      "Data columns (total 16 columns):\n",
      " #   Column             Non-Null Count   Dtype  \n",
      "---  ------             --------------   -----  \n",
      " 0   Regiao - Sigla     143201 non-null  object \n",
      " 1   Estado - Sigla     143201 non-null  object \n",
      " 2   Municipio          143201 non-null  object \n",
      " 3   Revenda            143201 non-null  object \n",
      " 4   CNPJ da Revenda    143201 non-null  object \n",
      " 5   Nome da Rua        143201 non-null  object \n",
      " 6   Numero Rua         143199 non-null  object \n",
      " 7   Complemento        35696 non-null   object \n",
      " 8   Bairro             143181 non-null  object \n",
      " 9   Cep                143201 non-null  object \n",
      " 10  Produto            143201 non-null  object \n",
      " 11  Data da Coleta     143201 non-null  object \n",
      " 12  Valor de Venda     143201 non-null  float64\n",
      " 13  Valor de Compra    50277 non-null   float64\n",
      " 14  Unidade de Medida  143201 non-null  object \n",
      " 15  Bandeira           143201 non-null  object \n",
      "dtypes: float64(2), object(14)\n",
      "memory usage: 17.5+ MB\n"
     ]
    }
   ],
   "source": [
    "glp_2017_01.info()"
   ]
  },
  {
   "cell_type": "markdown",
   "metadata": {},
   "source": [
    "#### 2018"
   ]
  },
  {
   "cell_type": "code",
   "execution_count": 114,
   "metadata": {},
   "outputs": [],
   "source": [
    "glp_2018_01 = pd.read_csv(\"rsc/glp-2018-01.csv\", sep=';')"
   ]
  },
  {
   "cell_type": "code",
   "execution_count": 115,
   "metadata": {},
   "outputs": [
    {
     "name": "stdout",
     "output_type": "stream",
     "text": [
      "<class 'pandas.core.frame.DataFrame'>\n",
      "RangeIndex: 108580 entries, 0 to 108579\n",
      "Data columns (total 16 columns):\n",
      " #   Column             Non-Null Count   Dtype \n",
      "---  ------             --------------   ----- \n",
      " 0   Regiao - Sigla     108580 non-null  object\n",
      " 1   Estado - Sigla     108580 non-null  object\n",
      " 2   Municipio          108580 non-null  object\n",
      " 3   Revenda            108580 non-null  object\n",
      " 4   CNPJ da Revenda    108580 non-null  object\n",
      " 5   Nome da Rua        108580 non-null  object\n",
      " 6   Numero Rua         108569 non-null  object\n",
      " 7   Complemento        26066 non-null   object\n",
      " 8   Bairro             108555 non-null  object\n",
      " 9   Cep                108580 non-null  object\n",
      " 10  Produto            108580 non-null  object\n",
      " 11  Data da Coleta     108580 non-null  object\n",
      " 12  Valor de Venda     108580 non-null  object\n",
      " 13  Valor de Compra    33145 non-null   object\n",
      " 14  Unidade de Medida  108580 non-null  object\n",
      " 15  Bandeira           108580 non-null  object\n",
      "dtypes: object(16)\n",
      "memory usage: 13.3+ MB\n"
     ]
    }
   ],
   "source": [
    "glp_2018_01.info()"
   ]
  },
  {
   "cell_type": "code",
   "execution_count": 116,
   "metadata": {},
   "outputs": [],
   "source": [
    "glp_2018_01['Valor de Venda'] = glp_2018_01['Valor de Venda'].str.replace(\",\", \".\", regex=True).astype(float)\n",
    "glp_2018_01['Valor de Compra'] = glp_2018_01['Valor de Compra'].str.replace(',', '.', regex=True).astype(float)"
   ]
  },
  {
   "cell_type": "code",
   "execution_count": 117,
   "metadata": {},
   "outputs": [
    {
     "name": "stdout",
     "output_type": "stream",
     "text": [
      "<class 'pandas.core.frame.DataFrame'>\n",
      "RangeIndex: 108580 entries, 0 to 108579\n",
      "Data columns (total 16 columns):\n",
      " #   Column             Non-Null Count   Dtype  \n",
      "---  ------             --------------   -----  \n",
      " 0   Regiao - Sigla     108580 non-null  object \n",
      " 1   Estado - Sigla     108580 non-null  object \n",
      " 2   Municipio          108580 non-null  object \n",
      " 3   Revenda            108580 non-null  object \n",
      " 4   CNPJ da Revenda    108580 non-null  object \n",
      " 5   Nome da Rua        108580 non-null  object \n",
      " 6   Numero Rua         108569 non-null  object \n",
      " 7   Complemento        26066 non-null   object \n",
      " 8   Bairro             108555 non-null  object \n",
      " 9   Cep                108580 non-null  object \n",
      " 10  Produto            108580 non-null  object \n",
      " 11  Data da Coleta     108580 non-null  object \n",
      " 12  Valor de Venda     108580 non-null  float64\n",
      " 13  Valor de Compra    33145 non-null   float64\n",
      " 14  Unidade de Medida  108580 non-null  object \n",
      " 15  Bandeira           108580 non-null  object \n",
      "dtypes: float64(2), object(14)\n",
      "memory usage: 13.3+ MB\n"
     ]
    }
   ],
   "source": [
    "glp_2018_01.info()"
   ]
  },
  {
   "cell_type": "code",
   "execution_count": 118,
   "metadata": {},
   "outputs": [],
   "source": [
    "glp_2018_02 = pd.read_csv(\"rsc/glp-2018-02.csv\", sep=';')"
   ]
  },
  {
   "cell_type": "code",
   "execution_count": 119,
   "metadata": {},
   "outputs": [
    {
     "name": "stdout",
     "output_type": "stream",
     "text": [
      "<class 'pandas.core.frame.DataFrame'>\n",
      "RangeIndex: 113693 entries, 0 to 113692\n",
      "Data columns (total 16 columns):\n",
      " #   Column             Non-Null Count   Dtype \n",
      "---  ------             --------------   ----- \n",
      " 0   Regiao - Sigla     113693 non-null  object\n",
      " 1   Estado - Sigla     113693 non-null  object\n",
      " 2   Municipio          113693 non-null  object\n",
      " 3   Revenda            113693 non-null  object\n",
      " 4   CNPJ da Revenda    113693 non-null  object\n",
      " 5   Nome da Rua        113693 non-null  object\n",
      " 6   Numero Rua         113663 non-null  object\n",
      " 7   Complemento        27875 non-null   object\n",
      " 8   Bairro             113676 non-null  object\n",
      " 9   Cep                113693 non-null  object\n",
      " 10  Produto            113693 non-null  object\n",
      " 11  Data da Coleta     113693 non-null  object\n",
      " 12  Valor de Venda     113693 non-null  object\n",
      " 13  Valor de Compra    32799 non-null   object\n",
      " 14  Unidade de Medida  113693 non-null  object\n",
      " 15  Bandeira           113693 non-null  object\n",
      "dtypes: object(16)\n",
      "memory usage: 13.9+ MB\n"
     ]
    }
   ],
   "source": [
    "glp_2018_02.info()"
   ]
  },
  {
   "cell_type": "code",
   "execution_count": 120,
   "metadata": {},
   "outputs": [],
   "source": [
    "glp_2018_02['Valor de Venda'] = glp_2018_02['Valor de Venda'].str.replace(\",\", \".\", regex=True).astype(float)\n",
    "glp_2018_02['Valor de Compra'] = glp_2018_02['Valor de Compra'].str.replace(',', '.', regex=True).astype(float)"
   ]
  },
  {
   "cell_type": "code",
   "execution_count": 121,
   "metadata": {},
   "outputs": [
    {
     "name": "stdout",
     "output_type": "stream",
     "text": [
      "<class 'pandas.core.frame.DataFrame'>\n",
      "RangeIndex: 113693 entries, 0 to 113692\n",
      "Data columns (total 16 columns):\n",
      " #   Column             Non-Null Count   Dtype  \n",
      "---  ------             --------------   -----  \n",
      " 0   Regiao - Sigla     113693 non-null  object \n",
      " 1   Estado - Sigla     113693 non-null  object \n",
      " 2   Municipio          113693 non-null  object \n",
      " 3   Revenda            113693 non-null  object \n",
      " 4   CNPJ da Revenda    113693 non-null  object \n",
      " 5   Nome da Rua        113693 non-null  object \n",
      " 6   Numero Rua         113663 non-null  object \n",
      " 7   Complemento        27875 non-null   object \n",
      " 8   Bairro             113676 non-null  object \n",
      " 9   Cep                113693 non-null  object \n",
      " 10  Produto            113693 non-null  object \n",
      " 11  Data da Coleta     113693 non-null  object \n",
      " 12  Valor de Venda     113693 non-null  float64\n",
      " 13  Valor de Compra    32799 non-null   float64\n",
      " 14  Unidade de Medida  113693 non-null  object \n",
      " 15  Bandeira           113693 non-null  object \n",
      "dtypes: float64(2), object(14)\n",
      "memory usage: 13.9+ MB\n"
     ]
    }
   ],
   "source": [
    "glp_2018_02.info()"
   ]
  },
  {
   "cell_type": "markdown",
   "metadata": {},
   "source": [
    "#### 2019"
   ]
  },
  {
   "cell_type": "code",
   "execution_count": 122,
   "metadata": {},
   "outputs": [],
   "source": [
    "glp_2019_01 = pd.read_csv(\"rsc/glp-2019-01.csv\", sep=';')"
   ]
  },
  {
   "cell_type": "code",
   "execution_count": 123,
   "metadata": {},
   "outputs": [
    {
     "name": "stdout",
     "output_type": "stream",
     "text": [
      "<class 'pandas.core.frame.DataFrame'>\n",
      "RangeIndex: 113709 entries, 0 to 113708\n",
      "Data columns (total 16 columns):\n",
      " #   Column             Non-Null Count   Dtype \n",
      "---  ------             --------------   ----- \n",
      " 0   Regiao - Sigla     113709 non-null  object\n",
      " 1   Estado - Sigla     113709 non-null  object\n",
      " 2   Municipio          113709 non-null  object\n",
      " 3   Revenda            113709 non-null  object\n",
      " 4   CNPJ da Revenda    113709 non-null  object\n",
      " 5   Nome da Rua        113709 non-null  object\n",
      " 6   Numero Rua         113697 non-null  object\n",
      " 7   Complemento        27459 non-null   object\n",
      " 8   Bairro             113683 non-null  object\n",
      " 9   Cep                113709 non-null  object\n",
      " 10  Produto            113709 non-null  object\n",
      " 11  Data da Coleta     113709 non-null  object\n",
      " 12  Valor de Venda     113709 non-null  object\n",
      " 13  Valor de Compra    32643 non-null   object\n",
      " 14  Unidade de Medida  113709 non-null  object\n",
      " 15  Bandeira           113709 non-null  object\n",
      "dtypes: object(16)\n",
      "memory usage: 13.9+ MB\n"
     ]
    }
   ],
   "source": [
    "glp_2019_01.info()"
   ]
  },
  {
   "cell_type": "code",
   "execution_count": 124,
   "metadata": {},
   "outputs": [],
   "source": [
    "glp_2019_01['Valor de Venda'] = glp_2019_01['Valor de Venda'].str.replace(\",\", \".\", regex=True).astype(float)\n",
    "glp_2019_01['Valor de Compra'] = glp_2019_01['Valor de Compra'].str.replace(',', '.', regex=True).astype(float)"
   ]
  },
  {
   "cell_type": "code",
   "execution_count": 125,
   "metadata": {},
   "outputs": [
    {
     "name": "stdout",
     "output_type": "stream",
     "text": [
      "<class 'pandas.core.frame.DataFrame'>\n",
      "RangeIndex: 113709 entries, 0 to 113708\n",
      "Data columns (total 16 columns):\n",
      " #   Column             Non-Null Count   Dtype  \n",
      "---  ------             --------------   -----  \n",
      " 0   Regiao - Sigla     113709 non-null  object \n",
      " 1   Estado - Sigla     113709 non-null  object \n",
      " 2   Municipio          113709 non-null  object \n",
      " 3   Revenda            113709 non-null  object \n",
      " 4   CNPJ da Revenda    113709 non-null  object \n",
      " 5   Nome da Rua        113709 non-null  object \n",
      " 6   Numero Rua         113697 non-null  object \n",
      " 7   Complemento        27459 non-null   object \n",
      " 8   Bairro             113683 non-null  object \n",
      " 9   Cep                113709 non-null  object \n",
      " 10  Produto            113709 non-null  object \n",
      " 11  Data da Coleta     113709 non-null  object \n",
      " 12  Valor de Venda     113709 non-null  float64\n",
      " 13  Valor de Compra    32643 non-null   float64\n",
      " 14  Unidade de Medida  113709 non-null  object \n",
      " 15  Bandeira           113709 non-null  object \n",
      "dtypes: float64(2), object(14)\n",
      "memory usage: 13.9+ MB\n"
     ]
    }
   ],
   "source": [
    "glp_2019_01.info()"
   ]
  },
  {
   "cell_type": "code",
   "execution_count": 126,
   "metadata": {},
   "outputs": [],
   "source": [
    "glp_2019_02 = pd.read_csv(\"rsc/glp-2019-02.csv\", sep=';')"
   ]
  },
  {
   "cell_type": "code",
   "execution_count": 127,
   "metadata": {},
   "outputs": [
    {
     "name": "stdout",
     "output_type": "stream",
     "text": [
      "<class 'pandas.core.frame.DataFrame'>\n",
      "RangeIndex: 114695 entries, 0 to 114694\n",
      "Data columns (total 16 columns):\n",
      " #   Column             Non-Null Count   Dtype \n",
      "---  ------             --------------   ----- \n",
      " 0   Regiao - Sigla     114695 non-null  object\n",
      " 1   Estado - Sigla     114695 non-null  object\n",
      " 2   Municipio          114695 non-null  object\n",
      " 3   Revenda            114695 non-null  object\n",
      " 4   CNPJ da Revenda    114695 non-null  object\n",
      " 5   Nome da Rua        114695 non-null  object\n",
      " 6   Numero Rua         114683 non-null  object\n",
      " 7   Complemento        27112 non-null   object\n",
      " 8   Bairro             114678 non-null  object\n",
      " 9   Cep                114695 non-null  object\n",
      " 10  Produto            114695 non-null  object\n",
      " 11  Data da Coleta     114695 non-null  object\n",
      " 12  Valor de Venda     114695 non-null  object\n",
      " 13  Valor de Compra    38826 non-null   object\n",
      " 14  Unidade de Medida  114695 non-null  object\n",
      " 15  Bandeira           114695 non-null  object\n",
      "dtypes: object(16)\n",
      "memory usage: 14.0+ MB\n"
     ]
    }
   ],
   "source": [
    "glp_2019_02.info()"
   ]
  },
  {
   "cell_type": "code",
   "execution_count": 128,
   "metadata": {},
   "outputs": [],
   "source": [
    "glp_2019_02['Valor de Venda'] = glp_2019_02['Valor de Venda'].str.replace(\",\", \".\", regex=True).astype(float)\n",
    "glp_2019_02['Valor de Compra'] = glp_2019_02['Valor de Compra'].str.replace(',', '.', regex=True).astype(float)"
   ]
  },
  {
   "cell_type": "code",
   "execution_count": 129,
   "metadata": {},
   "outputs": [
    {
     "name": "stdout",
     "output_type": "stream",
     "text": [
      "<class 'pandas.core.frame.DataFrame'>\n",
      "RangeIndex: 114695 entries, 0 to 114694\n",
      "Data columns (total 16 columns):\n",
      " #   Column             Non-Null Count   Dtype  \n",
      "---  ------             --------------   -----  \n",
      " 0   Regiao - Sigla     114695 non-null  object \n",
      " 1   Estado - Sigla     114695 non-null  object \n",
      " 2   Municipio          114695 non-null  object \n",
      " 3   Revenda            114695 non-null  object \n",
      " 4   CNPJ da Revenda    114695 non-null  object \n",
      " 5   Nome da Rua        114695 non-null  object \n",
      " 6   Numero Rua         114683 non-null  object \n",
      " 7   Complemento        27112 non-null   object \n",
      " 8   Bairro             114678 non-null  object \n",
      " 9   Cep                114695 non-null  object \n",
      " 10  Produto            114695 non-null  object \n",
      " 11  Data da Coleta     114695 non-null  object \n",
      " 12  Valor de Venda     114695 non-null  float64\n",
      " 13  Valor de Compra    38826 non-null   float64\n",
      " 14  Unidade de Medida  114695 non-null  object \n",
      " 15  Bandeira           114695 non-null  object \n",
      "dtypes: float64(2), object(14)\n",
      "memory usage: 14.0+ MB\n"
     ]
    }
   ],
   "source": [
    "glp_2019_02.info()"
   ]
  },
  {
   "cell_type": "markdown",
   "metadata": {},
   "source": [
    "#### 2020"
   ]
  },
  {
   "cell_type": "code",
   "execution_count": 130,
   "metadata": {},
   "outputs": [],
   "source": [
    "glp_2020_01 = pd.read_csv(\"rsc/glp-2020-01.csv\", sep=';')"
   ]
  },
  {
   "cell_type": "code",
   "execution_count": 131,
   "metadata": {},
   "outputs": [
    {
     "name": "stdout",
     "output_type": "stream",
     "text": [
      "<class 'pandas.core.frame.DataFrame'>\n",
      "RangeIndex: 114241 entries, 0 to 114240\n",
      "Data columns (total 16 columns):\n",
      " #   Column             Non-Null Count   Dtype \n",
      "---  ------             --------------   ----- \n",
      " 0   Regiao - Sigla     114241 non-null  object\n",
      " 1   Estado - Sigla     114241 non-null  object\n",
      " 2   Municipio          114241 non-null  object\n",
      " 3   Revenda            114241 non-null  object\n",
      " 4   CNPJ da Revenda    114241 non-null  object\n",
      " 5   Nome da Rua        114241 non-null  object\n",
      " 6   Numero Rua         114224 non-null  object\n",
      " 7   Complemento        27171 non-null   object\n",
      " 8   Bairro             114241 non-null  object\n",
      " 9   Cep                114241 non-null  object\n",
      " 10  Produto            114241 non-null  object\n",
      " 11  Data da Coleta     114241 non-null  object\n",
      " 12  Valor de Venda     114241 non-null  object\n",
      " 13  Valor de Compra    29325 non-null   object\n",
      " 14  Unidade de Medida  114241 non-null  object\n",
      " 15  Bandeira           114241 non-null  object\n",
      "dtypes: object(16)\n",
      "memory usage: 13.9+ MB\n"
     ]
    }
   ],
   "source": [
    "glp_2020_01.info()"
   ]
  },
  {
   "cell_type": "code",
   "execution_count": 132,
   "metadata": {},
   "outputs": [],
   "source": [
    "glp_2020_01['Valor de Venda'] = glp_2020_01['Valor de Venda'].str.replace(\",\", \".\", regex=True).astype(float)\n",
    "glp_2020_01['Valor de Compra'] = glp_2020_01['Valor de Compra'].str.replace(',', '.', regex=True).astype(float)"
   ]
  },
  {
   "cell_type": "code",
   "execution_count": 133,
   "metadata": {},
   "outputs": [
    {
     "name": "stdout",
     "output_type": "stream",
     "text": [
      "<class 'pandas.core.frame.DataFrame'>\n",
      "RangeIndex: 114241 entries, 0 to 114240\n",
      "Data columns (total 16 columns):\n",
      " #   Column             Non-Null Count   Dtype  \n",
      "---  ------             --------------   -----  \n",
      " 0   Regiao - Sigla     114241 non-null  object \n",
      " 1   Estado - Sigla     114241 non-null  object \n",
      " 2   Municipio          114241 non-null  object \n",
      " 3   Revenda            114241 non-null  object \n",
      " 4   CNPJ da Revenda    114241 non-null  object \n",
      " 5   Nome da Rua        114241 non-null  object \n",
      " 6   Numero Rua         114224 non-null  object \n",
      " 7   Complemento        27171 non-null   object \n",
      " 8   Bairro             114241 non-null  object \n",
      " 9   Cep                114241 non-null  object \n",
      " 10  Produto            114241 non-null  object \n",
      " 11  Data da Coleta     114241 non-null  object \n",
      " 12  Valor de Venda     114241 non-null  float64\n",
      " 13  Valor de Compra    29325 non-null   float64\n",
      " 14  Unidade de Medida  114241 non-null  object \n",
      " 15  Bandeira           114241 non-null  object \n",
      "dtypes: float64(2), object(14)\n",
      "memory usage: 13.9+ MB\n"
     ]
    }
   ],
   "source": [
    "glp_2020_01.info()"
   ]
  },
  {
   "cell_type": "code",
   "execution_count": 134,
   "metadata": {},
   "outputs": [
    {
     "name": "stderr",
     "output_type": "stream",
     "text": [
      "C:\\Users\\mclar\\AppData\\Local\\Temp\\ipykernel_21372\\3586674522.py:1: DtypeWarning: Columns (13) have mixed types. Specify dtype option on import or set low_memory=False.\n",
      "  glp_2020_02 = pd.read_csv(\"rsc/glp-2020-02.csv\")\n"
     ]
    }
   ],
   "source": [
    "glp_2020_02 = pd.read_csv(\"rsc/glp-2020-02.csv\")"
   ]
  },
  {
   "cell_type": "code",
   "execution_count": 135,
   "metadata": {},
   "outputs": [
    {
     "name": "stdout",
     "output_type": "stream",
     "text": [
      "<class 'pandas.core.frame.DataFrame'>\n",
      "RangeIndex: 45412 entries, 0 to 45411\n",
      "Data columns (total 16 columns):\n",
      " #   Column             Non-Null Count  Dtype \n",
      "---  ------             --------------  ----- \n",
      " 0   Regiao - Sigla     45412 non-null  object\n",
      " 1   Estado - Sigla     45412 non-null  object\n",
      " 2   Municipio          45412 non-null  object\n",
      " 3   Revenda            45412 non-null  object\n",
      " 4   CNPJ da Revenda    45412 non-null  object\n",
      " 5   Nome da Rua        45412 non-null  object\n",
      " 6   Numero Rua         45406 non-null  object\n",
      " 7   Complemento        11169 non-null  object\n",
      " 8   Bairro             45412 non-null  object\n",
      " 9   Cep                45412 non-null  object\n",
      " 10  Produto            45412 non-null  object\n",
      " 11  Data da Coleta     45412 non-null  object\n",
      " 12  Valor de Venda     45412 non-null  object\n",
      " 13  Valor de Compra    6141 non-null   object\n",
      " 14  Unidade de Medida  45412 non-null  object\n",
      " 15  Bandeira           45412 non-null  object\n",
      "dtypes: object(16)\n",
      "memory usage: 5.5+ MB\n"
     ]
    }
   ],
   "source": [
    "glp_2020_02.info()"
   ]
  },
  {
   "cell_type": "code",
   "execution_count": 136,
   "metadata": {},
   "outputs": [],
   "source": [
    "glp_2020_02['Valor de Venda'] = glp_2020_02['Valor de Venda'].str.replace(\",\", \".\", regex=True).astype(float)\n",
    "glp_2020_02['Valor de Compra'] = glp_2020_02['Valor de Compra'].str.replace(',', '.', regex=True).astype(float)"
   ]
  },
  {
   "cell_type": "code",
   "execution_count": 137,
   "metadata": {},
   "outputs": [
    {
     "name": "stdout",
     "output_type": "stream",
     "text": [
      "<class 'pandas.core.frame.DataFrame'>\n",
      "RangeIndex: 45412 entries, 0 to 45411\n",
      "Data columns (total 16 columns):\n",
      " #   Column             Non-Null Count  Dtype  \n",
      "---  ------             --------------  -----  \n",
      " 0   Regiao - Sigla     45412 non-null  object \n",
      " 1   Estado - Sigla     45412 non-null  object \n",
      " 2   Municipio          45412 non-null  object \n",
      " 3   Revenda            45412 non-null  object \n",
      " 4   CNPJ da Revenda    45412 non-null  object \n",
      " 5   Nome da Rua        45412 non-null  object \n",
      " 6   Numero Rua         45406 non-null  object \n",
      " 7   Complemento        11169 non-null  object \n",
      " 8   Bairro             45412 non-null  object \n",
      " 9   Cep                45412 non-null  object \n",
      " 10  Produto            45412 non-null  object \n",
      " 11  Data da Coleta     45412 non-null  object \n",
      " 12  Valor de Venda     45412 non-null  float64\n",
      " 13  Valor de Compra    6141 non-null   float64\n",
      " 14  Unidade de Medida  45412 non-null  object \n",
      " 15  Bandeira           45412 non-null  object \n",
      "dtypes: float64(2), object(14)\n",
      "memory usage: 5.5+ MB\n"
     ]
    }
   ],
   "source": [
    "glp_2020_02.info()"
   ]
  },
  {
   "cell_type": "markdown",
   "metadata": {},
   "source": [
    "#### 2021"
   ]
  },
  {
   "cell_type": "code",
   "execution_count": 138,
   "metadata": {},
   "outputs": [],
   "source": [
    "glp_2021_01 = pd.read_csv(\"rsc/glp-2021-01.csv\", sep=';')"
   ]
  },
  {
   "cell_type": "code",
   "execution_count": 139,
   "metadata": {},
   "outputs": [
    {
     "name": "stdout",
     "output_type": "stream",
     "text": [
      "<class 'pandas.core.frame.DataFrame'>\n",
      "RangeIndex: 60280 entries, 0 to 60279\n",
      "Data columns (total 16 columns):\n",
      " #   Column             Non-Null Count  Dtype  \n",
      "---  ------             --------------  -----  \n",
      " 0   Regiao - Sigla     60280 non-null  object \n",
      " 1   Estado - Sigla     60280 non-null  object \n",
      " 2   Municipio          60280 non-null  object \n",
      " 3   Revenda            60280 non-null  object \n",
      " 4   CNPJ da Revenda    60280 non-null  object \n",
      " 5   Nome da Rua        60280 non-null  object \n",
      " 6   Numero Rua         60280 non-null  object \n",
      " 7   Complemento        14323 non-null  object \n",
      " 8   Bairro             60280 non-null  object \n",
      " 9   Cep                60280 non-null  object \n",
      " 10  Produto            60280 non-null  object \n",
      " 11  Data da Coleta     60280 non-null  object \n",
      " 12  Valor de Venda     60280 non-null  object \n",
      " 13  Valor de Compra    0 non-null      float64\n",
      " 14  Unidade de Medida  60280 non-null  object \n",
      " 15  Bandeira           60280 non-null  object \n",
      "dtypes: float64(1), object(15)\n",
      "memory usage: 7.4+ MB\n"
     ]
    }
   ],
   "source": [
    "glp_2021_01.info()"
   ]
  },
  {
   "cell_type": "code",
   "execution_count": 140,
   "metadata": {},
   "outputs": [],
   "source": [
    "glp_2021_01['Valor de Venda'] = glp_2021_01['Valor de Venda'].str.replace(\",\", \".\", regex=True).astype(float)"
   ]
  },
  {
   "cell_type": "code",
   "execution_count": 141,
   "metadata": {},
   "outputs": [
    {
     "name": "stdout",
     "output_type": "stream",
     "text": [
      "<class 'pandas.core.frame.DataFrame'>\n",
      "RangeIndex: 60280 entries, 0 to 60279\n",
      "Data columns (total 16 columns):\n",
      " #   Column             Non-Null Count  Dtype  \n",
      "---  ------             --------------  -----  \n",
      " 0   Regiao - Sigla     60280 non-null  object \n",
      " 1   Estado - Sigla     60280 non-null  object \n",
      " 2   Municipio          60280 non-null  object \n",
      " 3   Revenda            60280 non-null  object \n",
      " 4   CNPJ da Revenda    60280 non-null  object \n",
      " 5   Nome da Rua        60280 non-null  object \n",
      " 6   Numero Rua         60280 non-null  object \n",
      " 7   Complemento        14323 non-null  object \n",
      " 8   Bairro             60280 non-null  object \n",
      " 9   Cep                60280 non-null  object \n",
      " 10  Produto            60280 non-null  object \n",
      " 11  Data da Coleta     60280 non-null  object \n",
      " 12  Valor de Venda     60280 non-null  float64\n",
      " 13  Valor de Compra    0 non-null      float64\n",
      " 14  Unidade de Medida  60280 non-null  object \n",
      " 15  Bandeira           60280 non-null  object \n",
      "dtypes: float64(2), object(14)\n",
      "memory usage: 7.4+ MB\n"
     ]
    }
   ],
   "source": [
    "glp_2021_01.info()"
   ]
  },
  {
   "cell_type": "code",
   "execution_count": 142,
   "metadata": {},
   "outputs": [],
   "source": [
    "glp_2021_02 = pd.read_csv(\"rsc/glp-2021-02.csv\", sep=';')"
   ]
  },
  {
   "cell_type": "code",
   "execution_count": 143,
   "metadata": {},
   "outputs": [
    {
     "name": "stdout",
     "output_type": "stream",
     "text": [
      "<class 'pandas.core.frame.DataFrame'>\n",
      "RangeIndex: 89372 entries, 0 to 89371\n",
      "Data columns (total 16 columns):\n",
      " #   Column             Non-Null Count  Dtype  \n",
      "---  ------             --------------  -----  \n",
      " 0   Regiao - Sigla     89372 non-null  object \n",
      " 1   Estado - Sigla     89372 non-null  object \n",
      " 2   Municipio          89372 non-null  object \n",
      " 3   Revenda            89372 non-null  object \n",
      " 4   CNPJ da Revenda    89372 non-null  object \n",
      " 5   Nome da Rua        89372 non-null  object \n",
      " 6   Numero Rua         89371 non-null  object \n",
      " 7   Complemento        21059 non-null  object \n",
      " 8   Bairro             89367 non-null  object \n",
      " 9   Cep                89372 non-null  object \n",
      " 10  Produto            89372 non-null  object \n",
      " 11  Data da Coleta     89372 non-null  object \n",
      " 12  Valor de Venda     89372 non-null  object \n",
      " 13  Valor de Compra    0 non-null      float64\n",
      " 14  Unidade de Medida  89372 non-null  object \n",
      " 15  Bandeira           89372 non-null  object \n",
      "dtypes: float64(1), object(15)\n",
      "memory usage: 10.9+ MB\n"
     ]
    }
   ],
   "source": [
    "glp_2021_02.info()"
   ]
  },
  {
   "cell_type": "code",
   "execution_count": 144,
   "metadata": {},
   "outputs": [],
   "source": [
    "glp_2021_02['Valor de Venda'] = glp_2021_02['Valor de Venda'].str.replace(\",\", \".\", regex=True).astype(float)"
   ]
  },
  {
   "cell_type": "code",
   "execution_count": 145,
   "metadata": {},
   "outputs": [
    {
     "name": "stdout",
     "output_type": "stream",
     "text": [
      "<class 'pandas.core.frame.DataFrame'>\n",
      "RangeIndex: 89372 entries, 0 to 89371\n",
      "Data columns (total 16 columns):\n",
      " #   Column             Non-Null Count  Dtype  \n",
      "---  ------             --------------  -----  \n",
      " 0   Regiao - Sigla     89372 non-null  object \n",
      " 1   Estado - Sigla     89372 non-null  object \n",
      " 2   Municipio          89372 non-null  object \n",
      " 3   Revenda            89372 non-null  object \n",
      " 4   CNPJ da Revenda    89372 non-null  object \n",
      " 5   Nome da Rua        89372 non-null  object \n",
      " 6   Numero Rua         89371 non-null  object \n",
      " 7   Complemento        21059 non-null  object \n",
      " 8   Bairro             89367 non-null  object \n",
      " 9   Cep                89372 non-null  object \n",
      " 10  Produto            89372 non-null  object \n",
      " 11  Data da Coleta     89372 non-null  object \n",
      " 12  Valor de Venda     89372 non-null  float64\n",
      " 13  Valor de Compra    0 non-null      float64\n",
      " 14  Unidade de Medida  89372 non-null  object \n",
      " 15  Bandeira           89372 non-null  object \n",
      "dtypes: float64(2), object(14)\n",
      "memory usage: 10.9+ MB\n"
     ]
    }
   ],
   "source": [
    "glp_2021_02.info()"
   ]
  },
  {
   "cell_type": "markdown",
   "metadata": {},
   "source": [
    "#### 2022"
   ]
  },
  {
   "cell_type": "code",
   "execution_count": 146,
   "metadata": {},
   "outputs": [],
   "source": [
    "glp_2022_01 = pd.read_csv(\"rsc/glp-2022-01.csv\", sep=';')"
   ]
  },
  {
   "cell_type": "code",
   "execution_count": 147,
   "metadata": {},
   "outputs": [
    {
     "name": "stdout",
     "output_type": "stream",
     "text": [
      "<class 'pandas.core.frame.DataFrame'>\n",
      "RangeIndex: 100133 entries, 0 to 100132\n",
      "Data columns (total 16 columns):\n",
      " #   Column             Non-Null Count   Dtype  \n",
      "---  ------             --------------   -----  \n",
      " 0   Regiao - Sigla     100133 non-null  object \n",
      " 1   Estado - Sigla     100133 non-null  object \n",
      " 2   Municipio          100133 non-null  object \n",
      " 3   Revenda            100133 non-null  object \n",
      " 4   CNPJ da Revenda    100133 non-null  object \n",
      " 5   Nome da Rua        100133 non-null  object \n",
      " 6   Numero Rua         100132 non-null  object \n",
      " 7   Complemento        23989 non-null   object \n",
      " 8   Bairro             100109 non-null  object \n",
      " 9   Cep                100133 non-null  object \n",
      " 10  Produto            100133 non-null  object \n",
      " 11  Data da Coleta     100133 non-null  object \n",
      " 12  Valor de Venda     100133 non-null  object \n",
      " 13  Valor de Compra    0 non-null       float64\n",
      " 14  Unidade de Medida  100133 non-null  object \n",
      " 15  Bandeira           100133 non-null  object \n",
      "dtypes: float64(1), object(15)\n",
      "memory usage: 12.2+ MB\n"
     ]
    }
   ],
   "source": [
    "glp_2022_01.info()"
   ]
  },
  {
   "cell_type": "code",
   "execution_count": 148,
   "metadata": {},
   "outputs": [],
   "source": [
    "glp_2022_01['Valor de Venda'] = glp_2022_01['Valor de Venda'].str.replace(\",\", \".\", regex=True).astype(float)"
   ]
  },
  {
   "cell_type": "code",
   "execution_count": 149,
   "metadata": {},
   "outputs": [
    {
     "name": "stdout",
     "output_type": "stream",
     "text": [
      "<class 'pandas.core.frame.DataFrame'>\n",
      "RangeIndex: 100133 entries, 0 to 100132\n",
      "Data columns (total 16 columns):\n",
      " #   Column             Non-Null Count   Dtype  \n",
      "---  ------             --------------   -----  \n",
      " 0   Regiao - Sigla     100133 non-null  object \n",
      " 1   Estado - Sigla     100133 non-null  object \n",
      " 2   Municipio          100133 non-null  object \n",
      " 3   Revenda            100133 non-null  object \n",
      " 4   CNPJ da Revenda    100133 non-null  object \n",
      " 5   Nome da Rua        100133 non-null  object \n",
      " 6   Numero Rua         100132 non-null  object \n",
      " 7   Complemento        23989 non-null   object \n",
      " 8   Bairro             100109 non-null  object \n",
      " 9   Cep                100133 non-null  object \n",
      " 10  Produto            100133 non-null  object \n",
      " 11  Data da Coleta     100133 non-null  object \n",
      " 12  Valor de Venda     100133 non-null  float64\n",
      " 13  Valor de Compra    0 non-null       float64\n",
      " 14  Unidade de Medida  100133 non-null  object \n",
      " 15  Bandeira           100133 non-null  object \n",
      "dtypes: float64(2), object(14)\n",
      "memory usage: 12.2+ MB\n"
     ]
    }
   ],
   "source": [
    "glp_2022_01.info()"
   ]
  },
  {
   "cell_type": "code",
   "execution_count": 150,
   "metadata": {},
   "outputs": [],
   "source": [
    "glp_2022_02 = pd.read_csv(\"rsc/glp-2022-02.csv\", sep=';')"
   ]
  },
  {
   "cell_type": "code",
   "execution_count": 151,
   "metadata": {},
   "outputs": [
    {
     "name": "stdout",
     "output_type": "stream",
     "text": [
      "<class 'pandas.core.frame.DataFrame'>\n",
      "RangeIndex: 100133 entries, 0 to 100132\n",
      "Data columns (total 16 columns):\n",
      " #   Column             Non-Null Count   Dtype  \n",
      "---  ------             --------------   -----  \n",
      " 0   Regiao - Sigla     100133 non-null  object \n",
      " 1   Estado - Sigla     100133 non-null  object \n",
      " 2   Municipio          100133 non-null  object \n",
      " 3   Revenda            100133 non-null  object \n",
      " 4   CNPJ da Revenda    100133 non-null  object \n",
      " 5   Nome da Rua        100133 non-null  object \n",
      " 6   Numero Rua         100132 non-null  object \n",
      " 7   Complemento        23989 non-null   object \n",
      " 8   Bairro             100109 non-null  object \n",
      " 9   Cep                100133 non-null  object \n",
      " 10  Produto            100133 non-null  object \n",
      " 11  Data da Coleta     100133 non-null  object \n",
      " 12  Valor de Venda     100133 non-null  float64\n",
      " 13  Valor de Compra    0 non-null       float64\n",
      " 14  Unidade de Medida  100133 non-null  object \n",
      " 15  Bandeira           100133 non-null  object \n",
      "dtypes: float64(2), object(14)\n",
      "memory usage: 12.2+ MB\n"
     ]
    }
   ],
   "source": [
    "glp_2022_01.info()"
   ]
  },
  {
   "cell_type": "code",
   "execution_count": 152,
   "metadata": {},
   "outputs": [],
   "source": [
    "glp_2022_02['Valor de Venda'] = glp_2022_02['Valor de Venda'].str.replace(\",\", \".\", regex=True).astype(float)"
   ]
  },
  {
   "cell_type": "code",
   "execution_count": 153,
   "metadata": {},
   "outputs": [
    {
     "name": "stdout",
     "output_type": "stream",
     "text": [
      "<class 'pandas.core.frame.DataFrame'>\n",
      "RangeIndex: 100133 entries, 0 to 100132\n",
      "Data columns (total 16 columns):\n",
      " #   Column             Non-Null Count   Dtype  \n",
      "---  ------             --------------   -----  \n",
      " 0   Regiao - Sigla     100133 non-null  object \n",
      " 1   Estado - Sigla     100133 non-null  object \n",
      " 2   Municipio          100133 non-null  object \n",
      " 3   Revenda            100133 non-null  object \n",
      " 4   CNPJ da Revenda    100133 non-null  object \n",
      " 5   Nome da Rua        100133 non-null  object \n",
      " 6   Numero Rua         100132 non-null  object \n",
      " 7   Complemento        23989 non-null   object \n",
      " 8   Bairro             100109 non-null  object \n",
      " 9   Cep                100133 non-null  object \n",
      " 10  Produto            100133 non-null  object \n",
      " 11  Data da Coleta     100133 non-null  object \n",
      " 12  Valor de Venda     100133 non-null  float64\n",
      " 13  Valor de Compra    0 non-null       float64\n",
      " 14  Unidade de Medida  100133 non-null  object \n",
      " 15  Bandeira           100133 non-null  object \n",
      "dtypes: float64(2), object(14)\n",
      "memory usage: 12.2+ MB\n"
     ]
    }
   ],
   "source": [
    "glp_2022_01.info()"
   ]
  },
  {
   "cell_type": "markdown",
   "metadata": {},
   "source": [
    "#### 2023"
   ]
  },
  {
   "cell_type": "code",
   "execution_count": 154,
   "metadata": {},
   "outputs": [],
   "source": [
    "glp_2023_01 = pd.read_csv(\"rsc/glp-2023-01.csv\", sep=';')"
   ]
  },
  {
   "cell_type": "code",
   "execution_count": 155,
   "metadata": {},
   "outputs": [
    {
     "name": "stdout",
     "output_type": "stream",
     "text": [
      "<class 'pandas.core.frame.DataFrame'>\n",
      "RangeIndex: 105341 entries, 0 to 105340\n",
      "Data columns (total 16 columns):\n",
      " #   Column             Non-Null Count   Dtype  \n",
      "---  ------             --------------   -----  \n",
      " 0   Regiao - Sigla     105341 non-null  object \n",
      " 1   Estado - Sigla     105341 non-null  object \n",
      " 2   Municipio          105341 non-null  object \n",
      " 3   Revenda            105341 non-null  object \n",
      " 4   CNPJ da Revenda    105341 non-null  object \n",
      " 5   Nome da Rua        105341 non-null  object \n",
      " 6   Numero Rua         105341 non-null  object \n",
      " 7   Complemento        26414 non-null   object \n",
      " 8   Bairro             105323 non-null  object \n",
      " 9   Cep                105341 non-null  object \n",
      " 10  Produto            105341 non-null  object \n",
      " 11  Data da Coleta     105341 non-null  object \n",
      " 12  Valor de Venda     105341 non-null  object \n",
      " 13  Valor de Compra    0 non-null       float64\n",
      " 14  Unidade de Medida  105341 non-null  object \n",
      " 15  Bandeira           105341 non-null  object \n",
      "dtypes: float64(1), object(15)\n",
      "memory usage: 12.9+ MB\n"
     ]
    }
   ],
   "source": [
    "glp_2023_01.info()"
   ]
  },
  {
   "cell_type": "code",
   "execution_count": 156,
   "metadata": {},
   "outputs": [],
   "source": [
    "glp_2023_01['Valor de Venda'] = glp_2023_01['Valor de Venda'].str.replace(\",\", \".\", regex=True).astype(float)"
   ]
  },
  {
   "cell_type": "code",
   "execution_count": 157,
   "metadata": {},
   "outputs": [
    {
     "name": "stdout",
     "output_type": "stream",
     "text": [
      "<class 'pandas.core.frame.DataFrame'>\n",
      "RangeIndex: 105341 entries, 0 to 105340\n",
      "Data columns (total 16 columns):\n",
      " #   Column             Non-Null Count   Dtype  \n",
      "---  ------             --------------   -----  \n",
      " 0   Regiao - Sigla     105341 non-null  object \n",
      " 1   Estado - Sigla     105341 non-null  object \n",
      " 2   Municipio          105341 non-null  object \n",
      " 3   Revenda            105341 non-null  object \n",
      " 4   CNPJ da Revenda    105341 non-null  object \n",
      " 5   Nome da Rua        105341 non-null  object \n",
      " 6   Numero Rua         105341 non-null  object \n",
      " 7   Complemento        26414 non-null   object \n",
      " 8   Bairro             105323 non-null  object \n",
      " 9   Cep                105341 non-null  object \n",
      " 10  Produto            105341 non-null  object \n",
      " 11  Data da Coleta     105341 non-null  object \n",
      " 12  Valor de Venda     105341 non-null  float64\n",
      " 13  Valor de Compra    0 non-null       float64\n",
      " 14  Unidade de Medida  105341 non-null  object \n",
      " 15  Bandeira           105341 non-null  object \n",
      "dtypes: float64(2), object(14)\n",
      "memory usage: 12.9+ MB\n"
     ]
    }
   ],
   "source": [
    "glp_2023_01.info()"
   ]
  },
  {
   "cell_type": "markdown",
   "metadata": {},
   "source": [
    "#### Concatenação de anos"
   ]
  },
  {
   "cell_type": "code",
   "execution_count": 158,
   "metadata": {},
   "outputs": [],
   "source": [
    "glp_2004 = pd.concat([glp_2004_01, glp_2004_02])\n",
    "caminho_04 = 'anos_concatenados/glp_2004.csv'\n",
    "glp_2004.to_csv(caminho_04, index=False)"
   ]
  },
  {
   "cell_type": "code",
   "execution_count": 159,
   "metadata": {},
   "outputs": [],
   "source": [
    "glp_2005 = pd.concat([glp_2005_01, glp_2005_02])\n",
    "caminho_05 = 'anos_concatenados/glp_2005.csv'\n",
    "glp_2005.to_csv(caminho_05, index=False)"
   ]
  },
  {
   "cell_type": "code",
   "execution_count": 160,
   "metadata": {},
   "outputs": [],
   "source": [
    "glp_2006 = pd.concat([glp_2006_01, glp_2006_02])\n",
    "caminho_06 = 'anos_concatenados/glp_2006.csv'\n",
    "glp_2006.to_csv(caminho_06, index=False)"
   ]
  },
  {
   "cell_type": "code",
   "execution_count": 161,
   "metadata": {},
   "outputs": [],
   "source": [
    "glp_2007 = pd.concat([glp_2007_01, glp_2007_02])\n",
    "caminho_07 = 'anos_concatenados/glp_2007.csv'\n",
    "glp_2007.to_csv(caminho_07, index=False)"
   ]
  },
  {
   "cell_type": "code",
   "execution_count": 162,
   "metadata": {},
   "outputs": [],
   "source": [
    "glp_2008 = pd.concat([glp_2008_01, glp_2008_02])\n",
    "caminho_08 = 'anos_concatenados/glp_2008.csv'\n",
    "glp_2008.to_csv(caminho_08, index=False)"
   ]
  },
  {
   "cell_type": "code",
   "execution_count": 163,
   "metadata": {},
   "outputs": [],
   "source": [
    "glp_2009 = pd.concat([glp_2009_01, glp_2009_02])\n",
    "caminho_09 = 'anos_concatenados/glp_2009.csv'\n",
    "glp_2009.to_csv(caminho_09, index=False)"
   ]
  },
  {
   "cell_type": "code",
   "execution_count": 164,
   "metadata": {},
   "outputs": [],
   "source": [
    "glp_2010 = pd.concat([glp_2010_01, glp_2010_02])\n",
    "caminho_10 = 'anos_concatenados/glp_2010.csv'\n",
    "glp_2010.to_csv(caminho_10, index=False)"
   ]
  },
  {
   "cell_type": "code",
   "execution_count": 165,
   "metadata": {},
   "outputs": [],
   "source": [
    "glp_2011 = pd.concat([glp_2011_01, glp_2011_02])\n",
    "caminho_11 = 'anos_concatenados/glp_2011.csv'\n",
    "glp_2011.to_csv(caminho_11, index=False)"
   ]
  },
  {
   "cell_type": "code",
   "execution_count": 166,
   "metadata": {},
   "outputs": [],
   "source": [
    "glp_2012 = pd.concat([glp_2012_01, glp_2012_02])\n",
    "caminho_12 = 'anos_concatenados/glp_2012.csv'\n",
    "glp_2012.to_csv(caminho_12, index=False)"
   ]
  },
  {
   "cell_type": "code",
   "execution_count": 167,
   "metadata": {},
   "outputs": [],
   "source": [
    "glp_2013 = pd.concat([glp_2013_01, glp_2013_02])\n",
    "caminho_13 = 'anos_concatenados/glp_2013.csv'\n",
    "glp_2013.to_csv(caminho_13, index=False)"
   ]
  },
  {
   "cell_type": "code",
   "execution_count": 168,
   "metadata": {},
   "outputs": [],
   "source": [
    "glp_2014 = pd.concat([glp_2014_01, glp_2014_02])\n",
    "caminho_14 = 'anos_concatenados/glp_2014.csv'\n",
    "glp_2014.to_csv(caminho_14, index=False)"
   ]
  },
  {
   "cell_type": "code",
   "execution_count": 169,
   "metadata": {},
   "outputs": [],
   "source": [
    "glp_2015 = pd.concat([glp_2015_01, glp_2015_02])\n",
    "caminho_15 = 'anos_concatenados/glp_2015.csv'\n",
    "glp_2015.to_csv(caminho_15, index=False)"
   ]
  },
  {
   "cell_type": "code",
   "execution_count": 170,
   "metadata": {},
   "outputs": [],
   "source": [
    "glp_2016 = pd.concat([glp_2016_01, glp_2016_02])\n",
    "caminho_16 = 'anos_concatenados/glp_2016.csv'\n",
    "glp_2016.to_csv(caminho_16, index=False)"
   ]
  },
  {
   "cell_type": "code",
   "execution_count": 171,
   "metadata": {},
   "outputs": [],
   "source": [
    "glp_2017 = pd.concat([glp_2017_01, glp_2017_02])\n",
    "caminho_17 = 'anos_concatenados/glp_2017.csv'\n",
    "glp_2017.to_csv(caminho_17, index=False)"
   ]
  },
  {
   "cell_type": "code",
   "execution_count": 172,
   "metadata": {},
   "outputs": [],
   "source": [
    "glp_2018 = pd.concat([glp_2018_01, glp_2018_02])\n",
    "caminho_18 = 'anos_concatenados/glp_2018.csv'\n",
    "glp_2018.to_csv(caminho_18, index=False)"
   ]
  },
  {
   "cell_type": "code",
   "execution_count": 173,
   "metadata": {},
   "outputs": [],
   "source": [
    "glp_2019 = pd.concat([glp_2019_01, glp_2019_02])\n",
    "caminho_19 = 'anos_concatenados/glp_2019.csv'\n",
    "glp_2019.to_csv(caminho_19, index=False)"
   ]
  },
  {
   "cell_type": "code",
   "execution_count": 174,
   "metadata": {},
   "outputs": [],
   "source": [
    "glp_2020 = pd.concat([glp_2020_01, glp_2020_02])\n",
    "caminho_20 = 'anos_concatenados/glp_2020.csv'\n",
    "glp_2020.to_csv(caminho_20, index=False)"
   ]
  },
  {
   "cell_type": "code",
   "execution_count": 175,
   "metadata": {},
   "outputs": [],
   "source": [
    "glp_2021 = pd.concat([glp_2021_01, glp_2021_02])\n",
    "caminho_21 = 'anos_concatenados/glp_2021.csv'\n",
    "glp_2021.to_csv(caminho_21, index=False)"
   ]
  },
  {
   "cell_type": "code",
   "execution_count": 176,
   "metadata": {},
   "outputs": [],
   "source": [
    "glp_2022 = pd.concat([glp_2022_01, glp_2022_02])\n",
    "caminho_22 = 'anos_concatenados/glp_2022.csv'\n",
    "glp_2022.to_csv(caminho_22, index=False)"
   ]
  },
  {
   "cell_type": "code",
   "execution_count": 177,
   "metadata": {},
   "outputs": [],
   "source": [
    "caminho_23 = 'anos_concatenados/glp_2023.csv'\n",
    "glp_2023_01.to_csv(caminho_23, index=False)"
   ]
  }
 ],
 "metadata": {
  "kernelspec": {
   "display_name": "Python 3",
   "language": "python",
   "name": "python3"
  },
  "language_info": {
   "codemirror_mode": {
    "name": "ipython",
    "version": 3
   },
   "file_extension": ".py",
   "mimetype": "text/x-python",
   "name": "python",
   "nbconvert_exporter": "python",
   "pygments_lexer": "ipython3",
   "version": "3.12.0"
  }
 },
 "nbformat": 4,
 "nbformat_minor": 2
}
